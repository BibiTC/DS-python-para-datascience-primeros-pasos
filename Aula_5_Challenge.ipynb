{
  "nbformat": 4,
  "nbformat_minor": 0,
  "metadata": {
    "colab": {
      "provenance": [],
      "authorship_tag": "ABX9TyPyCe9nVTWk27BZpg5RJwsn",
      "include_colab_link": true
    },
    "kernelspec": {
      "name": "python3",
      "display_name": "Python 3"
    },
    "language_info": {
      "name": "python"
    }
  },
  "cells": [
    {
      "cell_type": "markdown",
      "metadata": {
        "id": "view-in-github",
        "colab_type": "text"
      },
      "source": [
        "<a href=\"https://colab.research.google.com/github/BibiTC/DS-python-para-datascience-primeros-pasos/blob/Aula5/Aula_5_Challenge.ipynb\" target=\"_parent\"><img src=\"https://colab.research.google.com/assets/colab-badge.svg\" alt=\"Open In Colab\"/></a>"
      ]
    },
    {
      "cell_type": "markdown",
      "source": [
        "#***Aula 5 - Desafio: ¡Es hora de practicar!***\n",
        "\n",
        "Vamos a practicar el uso de estructuras de datos, como listas y diccionarios, a través de algunas actividades. Ahora que estamos avanzando en el contenido, podemos hacer los desafíos más interesantes. ¡Para ello, trabajaremos con proyectos de código!\n",
        "\n",
        "Primero, resolveremos algunos problemas para calentar y prepararnos para los proyectos.\n",
        "\n",
        "---\n",
        "\n",
        "#**Entrenando la programación**"
      ],
      "metadata": {
        "id": "mYcU0TUaxCxZ"
      }
    },
    {
      "cell_type": "markdown",
      "source": [
        "**1**- *Crea un programa que tenga la siguiente lista con los gastos de una empresa de papel* [2172.54, 3701.35, 3518.09, 3456.61, 3249.38, 2840.82, 3891.45, 3075.26, 2317.64, 3219.08]. Con estos valores, crea un programa que calcule el promedio de gastos. Sugerencia: usa las funciones integradas sum() y len().\n"
      ],
      "metadata": {
        "id": "7lktzLp5xCfB"
      }
    },
    {
      "cell_type": "code",
      "execution_count": null,
      "metadata": {
        "colab": {
          "base_uri": "https://localhost:8080/"
        },
        "id": "gih1jF8yw6wG",
        "outputId": "8f4bbd00-b2e4-4885-aeb2-acd90ac23b2d"
      },
      "outputs": [
        {
          "output_type": "stream",
          "name": "stdout",
          "text": [
            "- Los gastos promedio de la empresa de papel corresponden a = $3144.222\n"
          ]
        }
      ],
      "source": [
        "# Gastos Empresa\n",
        "gastos_empresa =[2172.54, 3701.35, 3518.09, 3456.61, 3249.38, 2840.82, 3891.45, 3075.26, 2317.64, 3219.08]\n",
        "\n",
        "# Gastos Promedio\n",
        "gastos_promedio = sum(gastos_empresa) / len(gastos_empresa)\n",
        "print(f'- Los gastos promedio de la empresa de papel corresponden a = ${gastos_promedio}')"
      ]
    },
    {
      "cell_type": "markdown",
      "source": [
        "**2** - Con los mismos datos de la pregunta anterior, determina cuántas compras se realizaron por encima de 3000 reales y calcula el porcentaje con respecto al total de compras."
      ],
      "metadata": {
        "id": "6XrcVn53ZYm_"
      }
    },
    {
      "cell_type": "code",
      "source": [
        "gastos_mayores = [x for x in gastos_empresa if x > 3000]\n",
        "#print(gastos_mayores)\n",
        "#print(sum(gastos_empresa))\n",
        "#print(sum(gastos_mayores))\n",
        "print(f'\\n- Se realizaron {len(gastos_mayores)} compras por encima de  R$3000  y el porcentaje respecto al total de compras es: {format((sum(gastos_mayores)/sum(gastos_empresa))*100,\".2f\")} %')\n",
        "\n"
      ],
      "metadata": {
        "colab": {
          "base_uri": "https://localhost:8080/"
        },
        "id": "5MgMbLU0ZeQu",
        "outputId": "ee149e58-8252-418c-c423-10395e305d20"
      },
      "execution_count": null,
      "outputs": [
        {
          "output_type": "stream",
          "name": "stdout",
          "text": [
            "\n",
            "- Se realizaron 7 compras por encima de  R$3000  y el porcentaje respecto al total de compras es: 76.68 %\n"
          ]
        }
      ]
    },
    {
      "cell_type": "markdown",
      "source": [
        "**3** - Crea un código que recoja en una lista 5 números enteros aleatorios e imprima la lista. Ejemplo: [1, 4, 7, 2, 4]."
      ],
      "metadata": {
        "id": "IiJxTmVcZete"
      }
    },
    {
      "cell_type": "code",
      "source": [
        "print(f' Ingresar 5 números enteros')\n",
        "lista_numeros = []\n",
        "\n",
        "for x in range(1,6):\n",
        "  lista_numeros.append(int(input(f'\\nIngresar {x} de 5 números: ')))\n",
        "\n",
        "print(f'\\nLa lista de números aleatorios ingresada por el usuario es: \\n{lista_numeros}')"
      ],
      "metadata": {
        "colab": {
          "base_uri": "https://localhost:8080/"
        },
        "id": "pNd4wXUKZkhl",
        "outputId": "6e9f7183-997d-4c88-9ae5-f7dac0550c3b"
      },
      "execution_count": null,
      "outputs": [
        {
          "output_type": "stream",
          "name": "stdout",
          "text": [
            " Ingresar 5 números enteros\n",
            "\n",
            "Ingresar 1 de 5 números: 56\n",
            "\n",
            "Ingresar 2 de 5 números: 89\n",
            "\n",
            "Ingresar 3 de 5 números: 4\n",
            "\n",
            "Ingresar 4 de 5 números: 8\n",
            "\n",
            "Ingresar 5 de 5 números: 120\n",
            "\n",
            "La lista de números aleatorios ingresada por el usuario es: \n",
            "[56, 89, 4, 8, 120]\n"
          ]
        }
      ]
    },
    {
      "cell_type": "markdown",
      "source": [
        "4 - Recoge nuevamente 5 números enteros e imprime la lista en orden inverso al enviado."
      ],
      "metadata": {
        "id": "xhhdMFWkZl8X"
      }
    },
    {
      "cell_type": "code",
      "source": [
        "print(f' Ingresar 5 números enteros')\n",
        "lista_numeros = []\n",
        "\n",
        "for x in range(1,6):\n",
        "  lista_numeros.append(int(input(f'\\nIngresar {x} de 5 números: ')))\n",
        "\n",
        "print(f'\\nLa lista de números aleatorios ingresada por el usuario es: \\n {list(reversed(lista_numeros))}')"
      ],
      "metadata": {
        "colab": {
          "base_uri": "https://localhost:8080/"
        },
        "id": "ufxPEbRCZrGG",
        "outputId": "c2fca911-e147-44b7-d61a-c586b12e6f08"
      },
      "execution_count": null,
      "outputs": [
        {
          "output_type": "stream",
          "name": "stdout",
          "text": [
            " Ingresar 5 números enteros\n",
            "\n",
            "Ingresar 1 de 5 números: 20\n",
            "\n",
            "Ingresar 2 de 5 números: 50\n",
            "\n",
            "Ingresar 3 de 5 números: 80\n",
            "\n",
            "Ingresar 4 de 5 números: 10\n",
            "\n",
            "Ingresar 5 de 5 números: 60\n",
            "\n",
            "La lista de números aleatorios ingresada por el usuario es: \n",
            " [60, 10, 80, 50, 20]\n"
          ]
        }
      ]
    },
    {
      "cell_type": "markdown",
      "source": [
        "5 - Crea un programa que, al ingresar un número cualquiera, genere una lista que contenga todos los números primos entre 1 y el número ingresado."
      ],
      "metadata": {
        "id": "d7D8VUZGZsEu"
      }
    },
    {
      "cell_type": "code",
      "source": [
        "numero_ingresado = int(input('Ingrese un número entero: '))\n",
        "lista_primos = []\n",
        "\n",
        "for i in range(2, numero_ingresado + 1):  # Iteramos hasta numero_ingresado + 1 para incluirlo\n",
        "    es_primo = True  # Asumimos que el número es primo inicialmente\n",
        "\n",
        "    for j in range(2, i):  # Verificamos divisibilidad desde 2 hasta i - 1\n",
        "\n",
        "        if i % j == 0:\n",
        "            es_primo = False  # Si es divisible, no es primo\n",
        "            break  # Salimos del bucle interno si no es primo\n",
        "\n",
        "    if es_primo:\n",
        "        lista_primos.append(i)  # Si es primo, lo agregamos a la lista\n",
        "\n",
        "print(f'Los números primos entre 1 y {numero_ingresado} son: {lista_primos}')"
      ],
      "metadata": {
        "colab": {
          "base_uri": "https://localhost:8080/"
        },
        "id": "lFfOO98KZxJu",
        "outputId": "7917c9be-91f0-4c58-c672-ac10eb61fd8c"
      },
      "execution_count": null,
      "outputs": [
        {
          "output_type": "stream",
          "name": "stdout",
          "text": [
            "Ingrese un número entero: 20\n",
            "Los números primos entre 1 y 20 son: [2, 3, 5, 7, 11, 13, 17, 19]\n"
          ]
        }
      ]
    },
    {
      "cell_type": "markdown",
      "source": [
        "6 - Escribe un programa que pida una fecha, especificando el día, mes y año, y determine si es válida para su análisis."
      ],
      "metadata": {
        "id": "gduHZRgwZxnG"
      }
    },
    {
      "cell_type": "code",
      "source": [
        "# Solicitar la fecha al usuario\n",
        "print(f'Ingresar una fecha')\n",
        "\n",
        "dia = int(input(\"\\nDía: \"))\n",
        "mes = int(input(\"Mes: \"))\n",
        "anio = int(input(\"Año: \"))\n",
        "\n",
        "# Verificar si la fecha es válida\n",
        "es_valida = True  # Asumimos que la fecha es válida inicialmente\n",
        "\n",
        "# Verificar si el año es válido\n",
        "if anio < 1:\n",
        "    es_valida = False\n",
        "\n",
        "# Verificar si el mes es válido\n",
        "if  1 > mes > 12:\n",
        "    es_valida = False\n",
        "\n",
        "# Verificar si el día es válido\n",
        "dias_por_mes = [0, 31, 28, 31, 30, 31, 30, 31, 31, 30, 31, 30, 31]\n",
        "if anio % 4 == 0 and (anio % 100 != 0 or anio % 400 == 0):  # Año bisiesto\n",
        "    dias_por_mes[2] = 29\n",
        "if dia < 1 or dia > dias_por_mes[mes]:\n",
        "    es_valida = False\n",
        "\n",
        "# Mostrar el resultado\n",
        "if es_valida:\n",
        "    print(\"La fecha es válida.\")\n",
        "else:\n",
        "    print(\"La fecha no es válida.\")"
      ],
      "metadata": {
        "colab": {
          "base_uri": "https://localhost:8080/"
        },
        "id": "zXcqNMeKZ3fu",
        "outputId": "b2bebf89-ba52-49a9-b961-db742dfd0c1a"
      },
      "execution_count": null,
      "outputs": [
        {
          "output_type": "stream",
          "name": "stdout",
          "text": [
            "Ingresar una fecha\n",
            "\n",
            "Día: 1\n",
            "Mes: 2\n",
            "Año: 3\n",
            "La fecha es válida.\n"
          ]
        }
      ]
    },
    {
      "cell_type": "markdown",
      "source": [
        "\n",
        "\n",
        "---\n",
        "\n",
        "\n",
        "# Momento para los proyectos"
      ],
      "metadata": {
        "id": "LQSJ3-eGZ4YW"
      }
    },
    {
      "cell_type": "markdown",
      "source": [
        "7 - Para un estudio sobre la multiplicación de bacterias en una colonia, se recopiló el número de bacterias multiplicadas por día y se puede observar a continuación: [1.2, 2.1, 3.3, 5.0, 7.8, 11.3, 16.6, 25.1, 37.8, 56.9]. Con estos valores, crea un código que genere una lista que contenga el porcentaje de crecimiento de bacterias por día, comparando el número de bacterias en cada día con el número de bacterias del día anterior. Sugerencia: para calcular el porcentaje de crecimiento, utiliza la siguiente ecuación: 100 * (muestra_actual - muestra_anterior) / muestra_anterior."
      ],
      "metadata": {
        "id": "4Xl82XpgaErO"
      }
    },
    {
      "cell_type": "code",
      "source": [
        "colonia_bacterias_dia = [1.2, 2.1, 3.3, 5.0, 7.8, 11.3, 16.6, 25.1, 37.8, 56.9]\n",
        "porcentaje_crecimiento_dia = []\n",
        "\n",
        "# Iteramos desde el segundo elemento hasta el final\n",
        "for i in range(1, len(colonia_bacterias_dia)):\n",
        "  # Calculamos el porcentaje de crecimiento\n",
        "  porcentaje = 100 * (colonia_bacterias_dia[i] - colonia_bacterias_dia[i-1]) / colonia_bacterias_dia[i-1]\n",
        "  # Redondeamos a 2 decimales y lo agregamos a la lista\n",
        "  porcentaje_crecimiento_dia.append(round(porcentaje, 2))\n",
        "\n",
        "# Imprimimos la lista con el resultado\n",
        "print(f'Esta lista contiene el porcentaje de crecimiento de bacterias por dia en una colonia: {porcentaje_crecimiento_dia}')"
      ],
      "metadata": {
        "colab": {
          "base_uri": "https://localhost:8080/"
        },
        "id": "iclKYoXFaGSG",
        "outputId": "4f21f5bb-f9d8-499f-8c11-0805c54c4c39"
      },
      "execution_count": null,
      "outputs": [
        {
          "output_type": "stream",
          "name": "stdout",
          "text": [
            "Esta lista contiene el porcentaje de crecimiento de bacterias por dia en una colonia: [75.0, 57.14, 51.52, 56.0, 44.87, 46.9, 51.2, 50.6, 50.53]\n"
          ]
        }
      ]
    },
    {
      "cell_type": "markdown",
      "source": [
        "8 - Para una selección de productos alimenticios, debemos separar el conjunto de IDs proporcionados por números enteros, sabiendo que los productos con ID par son dulces y los que tienen ID impar son amargos. Crea un código que recoja 10 IDs. Luego, calcula y muestra la cantidad de productos dulces y amargos."
      ],
      "metadata": {
        "id": "6_vl_5TSaGte"
      }
    },
    {
      "cell_type": "code",
      "source": [
        "print(f' Ingresar 10 ID de productos')\n",
        "productos = []\n",
        "productos_dulces = 0\n",
        "productos_amargos = 0\n",
        "\n",
        "for x in range(10):\n",
        "  productos.append(int(input(f'\\nIngresar {x+1} de 10 ID de productos:')))\n",
        "  if productos[x] % 2 == 0:\n",
        "    productos_dulces += 1\n",
        "  else:\n",
        "    productos_amargos += 1\n",
        "\n",
        "productos\n",
        "\n",
        "print(f'\\nLa lista de productos ingresada por el usuario es: \\n{productos}')\n",
        "print(f'\\nLa cantidad de productos dulces es: {productos_dulces} y la cantidad de productos amargos es: {productos_amargos}')"
      ],
      "metadata": {
        "colab": {
          "base_uri": "https://localhost:8080/"
        },
        "id": "vPzgi3NpaIxJ",
        "outputId": "7dd2edee-9f28-4e9e-ff49-7e988ea4b8ae"
      },
      "execution_count": 2,
      "outputs": [
        {
          "output_type": "stream",
          "name": "stdout",
          "text": [
            " Ingresar 10 ID de productos\n",
            "\n",
            "Ingresar 1 de 10 ID de productos:10\n",
            "\n",
            "Ingresar 2 de 10 ID de productos:15\n",
            "\n",
            "Ingresar 3 de 10 ID de productos:20\n",
            "\n",
            "Ingresar 4 de 10 ID de productos:25\n",
            "\n",
            "Ingresar 5 de 10 ID de productos:30\n",
            "\n",
            "Ingresar 6 de 10 ID de productos:35\n",
            "\n",
            "Ingresar 7 de 10 ID de productos:40\n",
            "\n",
            "Ingresar 8 de 10 ID de productos:45\n",
            "\n",
            "Ingresar 9 de 10 ID de productos:50\n",
            "\n",
            "Ingresar 10 de 10 ID de productos:55\n",
            "\n",
            "La lista de productos ingresada por el usuario es: \n",
            "[10, 15, 20, 25, 30, 35, 40, 45, 50, 55]\n",
            "\n",
            "La cantidad de productos dulces es: 5 y la cantidad de productos amargos es: 5\n"
          ]
        }
      ]
    },
    {
      "cell_type": "markdown",
      "source": [
        "9 - Desarrolla un programa que informe la puntuación de un estudiante de acuerdo con sus respuestas. Debe pedir la respuesta del estudiante para cada pregunta y verificar si la respuesta coincide con el resultado. Cada pregunta vale un punto y hay opciones A, B, C o D."
      ],
      "metadata": {
        "id": "S1JiKZGkaJuX"
      }
    },
    {
      "cell_type": "code",
      "source": [
        "Resultado del examen:\n",
        "01 - D\n",
        "02 - A\n",
        "03 - C\n",
        "04 - B\n",
        "05 - A\n",
        "06 - D\n",
        "07 - C\n",
        "08 - C\n",
        "09 - A\n",
        "10 - B"
      ],
      "metadata": {
        "id": "ZDV8a2RYaQAv"
      },
      "execution_count": null,
      "outputs": []
    },
    {
      "cell_type": "code",
      "source": [
        "respuestas_examen = ['D', 'A', 'C', 'B', 'A', 'D', 'C', 'C', 'A', 'B']\n",
        "respuestas_estudiante = []\n",
        "nota = 0\n",
        "\n",
        "for preguntas in range(10):\n",
        "  respuestas_estudiante.append(input(f'Ingrese la respuesta de la pregunta {preguntas + 1}: '))\n",
        "  if respuestas_estudiante[preguntas] == respuestas_examen[preguntas]:\n",
        "    nota += 1\n",
        "\n",
        "\n",
        "print(f'\\nLa nota del estudiante es: {nota}')\n"
      ],
      "metadata": {
        "colab": {
          "base_uri": "https://localhost:8080/"
        },
        "id": "PEc4OHlIaI81",
        "outputId": "073afe0f-202f-4c86-d84b-4d91a64340c3"
      },
      "execution_count": null,
      "outputs": [
        {
          "output_type": "stream",
          "name": "stdout",
          "text": [
            "Ingrese la respuesta de la pregunta 1: 5\n",
            "Ingrese la respuesta de la pregunta 2: 8\n",
            "Ingrese la respuesta de la pregunta 3: 9\n",
            "Ingrese la respuesta de la pregunta 4: B\n",
            "Ingrese la respuesta de la pregunta 5: A\n",
            "Ingrese la respuesta de la pregunta 6: D\n",
            "Ingrese la respuesta de la pregunta 7: C\n",
            "Ingrese la respuesta de la pregunta 8: C\n",
            "Ingrese la respuesta de la pregunta 9: A\n",
            "Ingrese la respuesta de la pregunta 10: B\n",
            "\n",
            "La nota del estudiante es: 7\n"
          ]
        }
      ]
    },
    {
      "cell_type": "markdown",
      "source": [
        "10 - Un instituto de meteorología desea realizar un estudio de la temperatura media de cada mes del año. Para ello, debes crear un código que recoja y almacene esas temperaturas medias en una lista. Luego, calcula el promedio anual de las temperaturas y muestra todas las temperaturas por encima del promedio anual y en qué mes ocurrieron, mostrando los meses por su nombre (Enero, Febrero, etc.)."
      ],
      "metadata": {
        "id": "6P6zkZtXaTI2"
      }
    },
    {
      "cell_type": "code",
      "source": [
        "temperatura_media_mes = []\n",
        "meses = ['Enero', 'Febrero', 'Marzo', 'Abril', 'Mayo', 'Junio', 'Julio', 'Agosto', 'Septiembre', 'Octubre', 'Noviembre', 'Diciembre']\n",
        "promedio_anual_temperaturas = 0\n",
        "\n",
        "print ('Ingresar temperaturas medias de cada mes del año, para el estudio del Instituto de Meteorología ')\n",
        "print ('\\n')\n",
        "\n",
        "for mes in meses:\n",
        "  temperatura_media_mes.append(float(input(f'\\tIngresar temperatura media de {mes}: ')))\n",
        "\n",
        "promedio_anual_temperaturas = sum(temperatura_media_mes)/len(temperatura_media_mes)\n",
        "print(f'\\n\\t- El promedio anual de temperaturas corresponde a : {promedio_anual_temperaturas}')\n",
        "\n",
        "#encima_promedio = ([(meses[x],temperatura_media_mes[x]) for x in range (len(temperatura_media_mes)) if temperatura_media_mes[x] >= promedio_anual_temperaturas])\n",
        "\n",
        "# Aquí está la corrección:\n",
        "encima_promedio = [(meses[i], temp) for i, temp in enumerate(temperatura_media_mes) if temp >= promedio_anual_temperaturas]\n",
        "\n",
        "\n",
        "print(f'\\n- Las temperaturas medias por encima del promedio anual {format(promedio_anual_temperaturas,\".2f\")} son:')\n",
        "for mes, temperatura in encima_promedio:\n",
        "    print(f'{mes}: {format(temperatura, \".2f\")}')"
      ],
      "metadata": {
        "id": "az_Aqm4haVBm",
        "colab": {
          "base_uri": "https://localhost:8080/"
        },
        "outputId": "52d9c191-b013-4f2f-d08d-20c6b89718a0"
      },
      "execution_count": 9,
      "outputs": [
        {
          "output_type": "stream",
          "name": "stdout",
          "text": [
            "Ingresar temperaturas medias de cada mes del año, para el estudio del Instituto de Meteorología \n",
            "\n",
            "\n",
            "\tIngresar temperatura media de Enero: 10.5\n",
            "\tIngresar temperatura media de Febrero: 16.6\n",
            "\tIngresar temperatura media de Marzo: 13.9\n",
            "\tIngresar temperatura media de Abril: 14.5\n",
            "\tIngresar temperatura media de Mayo: 15.8\n",
            "\tIngresar temperatura media de Junio: 16.9\n",
            "\tIngresar temperatura media de Julio: 17.8\n",
            "\tIngresar temperatura media de Agosto: 19.9\n",
            "\tIngresar temperatura media de Septiembre: 20.5\n",
            "\tIngresar temperatura media de Octubre: 21.5\n",
            "\tIngresar temperatura media de Noviembre: 30.2\n",
            "\tIngresar temperatura media de Diciembre: 32.2\n",
            "\n",
            "\t- El promedio anual de temperaturas corresponde a : 19.191666666666663\n",
            "\n",
            "- Las temperaturas medias por encima del promedio anual 19.19 son:\n",
            "Agosto: 19.90\n",
            "Septiembre: 20.50\n",
            "Octubre: 21.50\n",
            "Noviembre: 30.20\n",
            "Diciembre: 32.20\n"
          ]
        }
      ]
    },
    {
      "cell_type": "markdown",
      "source": [
        "11 - Una empresa de comercio electrónico está interesada en analizar las ventas de sus productos. Los datos de ventas se han almacenado en un diccionario:"
      ],
      "metadata": {
        "id": "E5AGQHvQaVie"
      }
    },
    {
      "cell_type": "code",
      "source": [
        "{'Producto A': 300, 'Producto B': 80, 'Producto C': 60, 'Producto D': 200, 'Producto E': 250, 'Producto F': 30}"
      ],
      "metadata": {
        "id": "vNeBu4rzaZRG"
      },
      "execution_count": null,
      "outputs": []
    },
    {
      "cell_type": "markdown",
      "source": [
        "Escribe un código que calcule el total de ventas y el producto más vendido."
      ],
      "metadata": {
        "id": "lsnBpoIngY0r"
      }
    },
    {
      "cell_type": "code",
      "source": [
        "datos_ventas = {\n",
        "                'Producto A': 300,\n",
        "                'Producto B': 80,\n",
        "                'Producto C': 60,\n",
        "                'Producto D': 200,\n",
        "                'Producto E': 250,\n",
        "                'Producto F': 30\n",
        "                }\n",
        "\n",
        "total_ventas = 0\n",
        "total_ventas = sum(datos_ventas.values())\n",
        "print(f'Total de ventas: {total_ventas}')\n",
        "\n",
        "producto_mas_vendido = 0\n",
        "producto_mas_vendido = max(datos_ventas, key=datos_ventas.get)\n",
        "print(f'Producto más vendido: {producto_mas_vendido}')"
      ],
      "metadata": {
        "colab": {
          "base_uri": "https://localhost:8080/"
        },
        "id": "aQGtJRcAgek6",
        "outputId": "30208748-5677-468a-838d-3d63f5188fb3"
      },
      "execution_count": 12,
      "outputs": [
        {
          "output_type": "stream",
          "name": "stdout",
          "text": [
            "Total de ventas: 920\n",
            "Producto más vendido: Producto A\n"
          ]
        }
      ]
    },
    {
      "cell_type": "markdown",
      "source": [
        "12 - Se realizó una encuesta de mercado para decidir cuál diseño de marca infantil es más atractivo para los niños. Los votos de la encuesta se pueden ver a continuación:"
      ],
      "metadata": {
        "id": "eDKgjmuMaYvQ"
      }
    },
    {
      "cell_type": "code",
      "source": [
        "Tabla de votos de la marca\n",
        "Diseño 1 - 1334 votos\n",
        "Diseño 2 - 982 votos\n",
        "Diseño 3 - 1751 votos\n",
        "Diseño 4 - 210 votos\n",
        "Diseño 5 - 1811 votos"
      ],
      "metadata": {
        "id": "VP9TbmJ1ahMa"
      },
      "execution_count": null,
      "outputs": []
    },
    {
      "cell_type": "markdown",
      "source": [
        "Adapta los datos proporcionados a una estructura de diccionario. A partir de ello, informa el diseño ganador y el porcentaje de votos recibidos."
      ],
      "metadata": {
        "id": "tNS7UIixajkQ"
      }
    },
    {
      "cell_type": "code",
      "source": [
        "votos_marca = {\n",
        "\n",
        "              'Diseño 1' : 1334,\n",
        "              'Diseño 2' : 982,\n",
        "              'Diseño 3' : 1751,\n",
        "              'Diseño 4' : 210 ,\n",
        "              'Diseño 5' : 1811\n",
        "              }\n",
        "\n",
        "diseño_ganador = 0\n",
        "porcentaje_votos_recibidos = 0\n",
        "\n",
        "diseño_ganador = max(votos_marca, key=votos_marca.get)\n",
        "porcentaje_votos_recibidos = (votos_marca[diseño_ganador] / sum(votos_marca.values())) * 100\n",
        "\n",
        "\n",
        "print(f'El Diseño ganador con mayor número de votos es {diseño_ganador}, y corresponde al {format(porcentaje_votos_recibidos, \".2f\")}% de votos,  del total de votos {sum(votos_marca.values())} ')\n"
      ],
      "metadata": {
        "id": "erNZWNUdaoZw",
        "colab": {
          "base_uri": "https://localhost:8080/"
        },
        "outputId": "c627e717-4958-4833-d041-0b430d443a6d"
      },
      "execution_count": 20,
      "outputs": [
        {
          "output_type": "stream",
          "name": "stdout",
          "text": [
            "El Diseño ganador con mayor número de votos es Diseño 5: y corresponde al 29.75% de votos,  del total de votos 6088 \n"
          ]
        }
      ]
    },
    {
      "cell_type": "markdown",
      "source": [
        "13 - Los empleados de un departamento de tu empresa recibirán una bonificación del 10% de su salario debido a un excelente rendimiento del equipo. El departamento de finanzas ha solicitado tu ayuda para verificar las consecuencias financieras de esta bonificación en los recursos. Se te ha enviado una lista con los salarios que recibirán la bonificación: [1172, 1644, 2617, 5130, 5532, 6341, 6650, 7238, 7685, 7782, 7903]. La bonificación de cada empleado no puede ser inferior a 200. En el código, convierte cada uno de los salarios en claves de un diccionario y la bonificación de cada salario en el valor correspondiente. Luego, informa el gasto total en bonificaciones, cuántos empleados recibieron la bonificación mínima y cuál fue el valor más alto de la bonificación proporcionada."
      ],
      "metadata": {
        "id": "VpIcE7ioapKR"
      }
    },
    {
      "cell_type": "code",
      "source": [
        "lista_salarios_bonificacion = [1172, 1644, 2617, 5130, 5532, 6341, 6650, 7238, 7685, 7782, 7903]\n",
        "diccionario_salario_bonificacion = {}\n",
        "\n",
        "for salario in lista_salarios_bonificacion:\n",
        "  diccionario_salario_bonificacion[salario] = max(200, salario * 0.1)\n",
        "\n",
        "print(diccionario_salario_bonificacion )\n",
        "\n",
        "# 1. Gasto total en bonificaciones\n",
        "gasto_total = sum(diccionario_salario_bonificacion.values())\n",
        "print(f'\\n\\t- Gasto total en bonificaciones : {format(gasto_total,\".2f\" )}')\n",
        "\n",
        "# 2. Empleados con bonificación mínima\n",
        "empleados_bonificacion_minima = sum(1 for bonificacion in diccionario_salario_bonificacion.values() if bonificacion == 200)\n",
        "print(f'\\n\\t- Cantidad de empleados que recibieron la bonificación mínima : {empleados_bonificacion_minima}')\n",
        "\n",
        "# 3. Valor más alto de la bonificación\n",
        "bonificacion_mas_alta = max(diccionario_salario_bonificacion.values())\n",
        "print(f'\\n\\t- Valor más alto de la bonificación proporcionada: {format(bonificacion_mas_alta,\".2f\")}')"
      ],
      "metadata": {
        "id": "AyIFhJCAasSv",
        "colab": {
          "base_uri": "https://localhost:8080/"
        },
        "outputId": "035356f0-cf7f-492d-cc7d-84f1701d1943"
      },
      "execution_count": 22,
      "outputs": [
        {
          "output_type": "stream",
          "name": "stdout",
          "text": [
            "{1172: 200, 1644: 200, 2617: 261.7, 5130: 513.0, 5532: 553.2, 6341: 634.1, 6650: 665.0, 7238: 723.8000000000001, 7685: 768.5, 7782: 778.2, 7903: 790.3000000000001}\n",
            "\n",
            "\t- Gasto total en bonificaciones : 6087.80\n",
            "\n",
            "\t- Cantidad de empleados que recibieron la bonificación mínima : 2\n",
            "\n",
            "\t- Valor más alto de la bonificación proporcionada: 790.30\n"
          ]
        }
      ]
    },
    {
      "cell_type": "markdown",
      "source": [
        "14 - Un equipo de científicos de datos está estudiando la diversidad biológica en un bosque. El equipo recopiló información sobre el número de especies de plantas y animales en cada área del bosque y almacenó estos datos en un diccionario. En él, la clave describe el área de los datos y los valores en las listas corresponden a las especies de plantas y animales en esas áreas, respectivamente."
      ],
      "metadata": {
        "id": "R19-dhtqas3G"
      }
    },
    {
      "cell_type": "code",
      "source": [
        "{'Área Norte': [2819, 7236], 'Área Leste': [1440, 9492], 'Área Sul': [5969, 7496], 'Área Oeste': [14446, 49688], 'Área Centro': [22558, 45148]}"
      ],
      "metadata": {
        "id": "Mu72tRdiau-f"
      },
      "execution_count": null,
      "outputs": []
    },
    {
      "cell_type": "markdown",
      "source": [
        "Escribe un código para calcular el promedio de especies por área e identificar el área con la mayor diversidad biológica. Sugerencia: utiliza las funciones incorporadas sum() y len()."
      ],
      "metadata": {
        "id": "ERf8DH4TavjP"
      }
    },
    {
      "cell_type": "code",
      "source": [
        "# diccionario\n",
        "diversidad_biologica_bosque = {\n",
        "                              'Área Norte': [2819, 7236],\n",
        "                              'Área Leste': [1440, 9492],\n",
        "                              'Área Sul': [5969, 7496],\n",
        "                              'Área Oeste': [14446, 49688],\n",
        "                              'Área Centro': [22558, 45148]\n",
        "                              }\n",
        "\n",
        "# Promedio de especies por área\n",
        "total_especies_por_area = [sum(valores) for valores in diversidad_biologica_bosque.values()]\n",
        "promedio_especies_area = sum(total_especies_por_area) / len(diversidad_biologica_bosque)\n",
        "print(f\"Promedio de especies por área: {promedio_especies_area}\")\n",
        "\n",
        "# Área con la mayor diversidad biológica\n",
        "area_mayor_diversidad = max(diversidad_biologica_bosque, key=lambda area: sum(diversidad_biologica_bosque[area]))\n",
        "print(f\"Área con mayor diversidad biológica: {area_mayor_diversidad}\")"
      ],
      "metadata": {
        "id": "8Kz2c5Vra5Av",
        "colab": {
          "base_uri": "https://localhost:8080/"
        },
        "outputId": "58af7f9a-391c-4329-cf7f-50a65b804a53"
      },
      "execution_count": 24,
      "outputs": [
        {
          "output_type": "stream",
          "name": "stdout",
          "text": [
            "Promedio de especies por área: 33258.4\n",
            "Área con mayor diversidad biológica: Área Centro\n"
          ]
        }
      ]
    },
    {
      "cell_type": "markdown",
      "source": [
        "15 - El departamento de Recursos Humanos de tu empresa te pidió ayuda para analizar las edades de los colaboradores de 4 sectores de la empresa. Para ello, te proporcionaron los siguientes datos:"
      ],
      "metadata": {
        "id": "gArD0UOsa5P_"
      }
    },
    {
      "cell_type": "code",
      "source": [
        "{'Setor A': [22, 26, 30, 30, 35, 38, 40, 56, 57, 65],\n",
        " 'Setor B': [22, 24, 26, 33, 41, 49, 50, 54, 60, 64],\n",
        " 'Setor C': [23, 26, 26, 29, 34, 35, 36, 41, 52, 56],\n",
        " 'Setor D': [19, 20, 25, 27, 34, 39, 42, 44, 50, 65]}"
      ],
      "metadata": {
        "id": "CEl7sbrva_VW"
      },
      "execution_count": null,
      "outputs": []
    },
    {
      "cell_type": "code",
      "source": [
        "edades_por_sector = {\n",
        "    'Setor A': [22, 26, 30, 30, 35, 38, 40, 56, 57, 65],\n",
        "    'Setor B': [22, 24, 26, 33, 41, 49, 50, 54, 60, 64],\n",
        "    'Setor C': [23, 26, 26, 29, 34, 35, 36, 41, 52, 56],\n",
        "    'Setor D': [19, 20, 25, 27, 34, 39, 42, 44, 50, 65]\n",
        "}\n",
        "\n",
        "# Media de edad por sector\n",
        "media_por_sector = {sector: sum(edades) / len(edades) for sector, edades in edades_por_sector.items()}\n",
        "print(\"Media de edad por sector:\", media_por_sector)\n",
        "\n",
        "# Media de edad general\n",
        "todas_edades = [edad for edades in edades_por_sector.values() for edad in edades]\n",
        "media_general = sum(todas_edades) / len(todas_edades)\n",
        "print(\"Media de edad general:\", media_general)\n",
        "\n",
        "# Personas por encima de la media general\n",
        "personas_encima_media = sum(1 for edad in todas_edades if edad > media_general)\n",
        "print(\"Personas por encima de la media general:\", personas_encima_media)"
      ],
      "metadata": {
        "id": "LXCWC32xa_zQ",
        "colab": {
          "base_uri": "https://localhost:8080/"
        },
        "outputId": "d2875c39-f5d5-45ff-fb68-dcfbe5543d94"
      },
      "execution_count": 25,
      "outputs": [
        {
          "output_type": "stream",
          "name": "stdout",
          "text": [
            "Media de edad por sector: {'Setor A': 39.9, 'Setor B': 42.3, 'Setor C': 35.8, 'Setor D': 36.5}\n",
            "Media de edad general: 38.625\n",
            "Personas por encima de la media general: 18\n"
          ]
        }
      ]
    },
    {
      "cell_type": "markdown",
      "source": [
        "Dado que cada sector tiene 10 colaboradores, construye un código que calcule la media de edad de cada sector, la edad media general entre todos los sectores y cuántas personas están por encima de la edad media general.\n",
        "\n",
        "Si necesitas ayuda, las soluciones a las actividades están disponibles en la sección \"Opinión del instructor\"."
      ],
      "metadata": {
        "id": "JWiH-fltbAmA"
      }
    }
  ]
}