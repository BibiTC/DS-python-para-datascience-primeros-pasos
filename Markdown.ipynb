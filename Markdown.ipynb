{
  "nbformat": 4,
  "nbformat_minor": 0,
  "metadata": {
    "colab": {
      "provenance": [],
      "authorship_tag": "ABX9TyOnMwp4jkmuUcYpX4OPc0h4",
      "include_colab_link": true
    },
    "kernelspec": {
      "name": "python3",
      "display_name": "Python 3"
    },
    "language_info": {
      "name": "python"
    }
  },
  "cells": [
    {
      "cell_type": "markdown",
      "metadata": {
        "id": "view-in-github",
        "colab_type": "text"
      },
      "source": [
        "<a href=\"https://colab.research.google.com/github/BibiTC/DS-python-para-datascience-primeros-pasos/blob/Aula2/Markdown.ipynb\" target=\"_parent\"><img src=\"https://colab.research.google.com/assets/colab-badge.svg\" alt=\"Open In Colab\"/></a>"
      ]
    },
    {
      "cell_type": "markdown",
      "source": [
        "# Markdown\n",
        "¡Vamos a conocer Python, nuestro ambiente de estudio, y también generaremos nuestro primer código en este lenguaje!"
      ],
      "metadata": {
        "id": "OQ5aJJw_wcWj"
      }
    },
    {
      "cell_type": "markdown",
      "source": [
        "Encabezados:\n",
        "\n",
        "Para construir encabezados, puedes usar el símbolo # antes del texto. Cuantos más símbolos # uses, menor será el nivel del encabezado. Por ejemplo:\n",
        "\n",
        "\n",
        "# Encabezado de nivel 1\n",
        "## Encabezado de nivel 2\n",
        "### Encabezado de nivel 3"
      ],
      "metadata": {
        "id": "NUOjRysCxN55"
      }
    },
    {
      "cell_type": "code",
      "source": [
        "# Encabezado de nivel 1\n",
        "## Encabezado de nivel 2\n",
        "### Encabezado de nivel 3"
      ],
      "metadata": {
        "id": "W3qd9B3DxWDu"
      },
      "execution_count": 2,
      "outputs": []
    },
    {
      "cell_type": "markdown",
      "source": [
        "Negritas e itálicas:\n",
        "\n",
        "Para formatear el texto en negritas, puedes usar ** antes y después del texto, como en el ejemplo:\n",
        "\n",
        "**Texto en negritas**\n"
      ],
      "metadata": {
        "id": "uE2NShH9xdhk"
      }
    },
    {
      "cell_type": "code",
      "source": [
        "#** Texto en negritas **"
      ],
      "metadata": {
        "id": "BLczl3tGxiw4"
      },
      "execution_count": 9,
      "outputs": []
    },
    {
      "cell_type": "markdown",
      "source": [
        "Para formatear el texto en cursiva, utiliza * antes y después del texto. Por ejemplo:\n",
        "\n",
        "*Texto en cursiva*\n",
        "\n"
      ],
      "metadata": {
        "id": "egCBdn5FxmPo"
      }
    },
    {
      "cell_type": "code",
      "source": [
        "#*Texto en cursiva*"
      ],
      "metadata": {
        "id": "yzaiZBXAxpk9"
      },
      "execution_count": 10,
      "outputs": []
    },
    {
      "cell_type": "markdown",
      "source": [
        "También puedes combinar ambas formas de escritura agrupando las dos estructuras con ** y *. Por ejemplo:\n",
        "\n",
        "***Texto en negritas y cursiva***"
      ],
      "metadata": {
        "id": "at7qbx49xtfo"
      }
    },
    {
      "cell_type": "code",
      "source": [
        "#***Texto en negritas y cursiva***"
      ],
      "metadata": {
        "id": "h39yWMWnxxw0"
      },
      "execution_count": 11,
      "outputs": []
    },
    {
      "cell_type": "markdown",
      "source": [
        "Listas:\n",
        "\n",
        "Para crear listas no numeradas (con viñetas), coloca * y luego un espacio * antes del elemento, como en el ejemplo:\n",
        "\n",
        "* Elemento 1\n",
        "* Elemento 2\n",
        "* Elemento 3"
      ],
      "metadata": {
        "id": "rcPJjkI6x30E"
      }
    },
    {
      "cell_type": "code",
      "source": [
        "#* Elemento 1\n",
        "#* Elemento 2\n",
        "#* Elemento 3"
      ],
      "metadata": {
        "id": "gPOYTJWvx7NC"
      },
      "execution_count": 12,
      "outputs": []
    },
    {
      "cell_type": "markdown",
      "source": [
        "Para crear listas numeradas, puedes usar un número seguido de un punto y un espacio 1. antes del elemento, como en el ejemplo:\n",
        "\n",
        "1. Elemento 1\n",
        "2. Elemento 2\n",
        "3. Elemento 3\n"
      ],
      "metadata": {
        "id": "zrr0EFRIyJ4z"
      }
    },
    {
      "cell_type": "code",
      "source": [
        "#1. Elemento 1\n",
        "#2. Elemento 2\n",
        "#3. Elemento 3"
      ],
      "metadata": {
        "id": "XyByqRibyU5N"
      },
      "execution_count": 13,
      "outputs": []
    },
    {
      "cell_type": "markdown",
      "source": [
        "Enlaces:\n",
        "\n",
        "Para crear enlaces, a continuación, tienes un ejemplo con el enlace al sitio web de Alura:\n",
        "\n",
        "[Página de Alura](https://www.aluracursos.com/)"
      ],
      "metadata": {
        "id": "nIXb72ClyaCm"
      }
    },
    {
      "cell_type": "code",
      "source": [
        "#[Página de Alura](https://www.aluracursos.com/)"
      ],
      "metadata": {
        "id": "IaroFHL8ydZ-"
      },
      "execution_count": 14,
      "outputs": []
    },
    {
      "cell_type": "markdown",
      "source": [
        "Estos son ejemplos más comunes de uso de markdown, pero existen muchas otras formas y recursos disponibles para que domines el lenguaje de marcación."
      ],
      "metadata": {
        "id": "xojWD9zeyhUE"
      }
    }
  ]
}