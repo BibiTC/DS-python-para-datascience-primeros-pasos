{
  "nbformat": 4,
  "nbformat_minor": 0,
  "metadata": {
    "colab": {
      "provenance": [],
      "authorship_tag": "ABX9TyOYfY3AVTOLeEKuvbVQzJs8",
      "include_colab_link": true
    },
    "kernelspec": {
      "name": "python3",
      "display_name": "Python 3"
    },
    "language_info": {
      "name": "python"
    }
  },
  "cells": [
    {
      "cell_type": "markdown",
      "metadata": {
        "id": "view-in-github",
        "colab_type": "text"
      },
      "source": [
        "<a href=\"https://colab.research.google.com/github/BibiTC/DS-python-para-datascience-primeros-pasos/blob/Aula2/Markdown.ipynb\" target=\"_parent\"><img src=\"https://colab.research.google.com/assets/colab-badge.svg\" alt=\"Open In Colab\"/></a>"
      ]
    },
    {
      "cell_type": "markdown",
      "source": [
        "# Markdown\n",
        "¡Vamos a conocer Python, nuestro ambiente de estudio, y también generaremos nuestro primer código en este lenguaje!"
      ],
      "metadata": {
        "id": "OQ5aJJw_wcWj"
      }
    },
    {
      "cell_type": "markdown",
      "source": [
        "Encabezados:\n",
        "\n",
        "Para construir encabezados, puedes usar el símbolo # antes del texto. Cuantos más símbolos # uses, menor será el nivel del encabezado. Por ejemplo:"
      ],
      "metadata": {
        "id": "NUOjRysCxN55"
      }
    },
    {
      "cell_type": "code",
      "source": [
        "# Encabezado de nivel 1\n",
        "## Encabezado de nivel 2\n",
        "### Encabezado de nivel 3"
      ],
      "metadata": {
        "id": "W3qd9B3DxWDu"
      },
      "execution_count": null,
      "outputs": []
    },
    {
      "cell_type": "markdown",
      "source": [
        "Negritas e itálicas:\n",
        "\n",
        "Para formatear el texto en negritas, puedes usar ** antes y después del texto, como en el ejemplo:\n"
      ],
      "metadata": {
        "id": "uE2NShH9xdhk"
      }
    },
    {
      "cell_type": "code",
      "source": [
        "** Texto en negritas **"
      ],
      "metadata": {
        "colab": {
          "base_uri": "https://localhost:8080/",
          "height": 106
        },
        "id": "BLczl3tGxiw4",
        "outputId": "9084662c-23cc-4c33-c905-e855bd764745"
      },
      "execution_count": null,
      "outputs": [
        {
          "output_type": "error",
          "ename": "SyntaxError",
          "evalue": "invalid syntax (<ipython-input-18-000e5417e978>, line 1)",
          "traceback": [
            "\u001b[0;36m  File \u001b[0;32m\"<ipython-input-18-000e5417e978>\"\u001b[0;36m, line \u001b[0;32m1\u001b[0m\n\u001b[0;31m    ** Texto en negritas **\u001b[0m\n\u001b[0m    ^\u001b[0m\n\u001b[0;31mSyntaxError\u001b[0m\u001b[0;31m:\u001b[0m invalid syntax\n"
          ]
        }
      ]
    },
    {
      "cell_type": "markdown",
      "source": [
        "Para formatear el texto en cursiva, utiliza * antes y después del texto. Por ejemplo:\n",
        "\n"
      ],
      "metadata": {
        "id": "egCBdn5FxmPo"
      }
    },
    {
      "cell_type": "code",
      "source": [
        "*Texto en cursiva*"
      ],
      "metadata": {
        "colab": {
          "base_uri": "https://localhost:8080/",
          "height": 106
        },
        "id": "yzaiZBXAxpk9",
        "outputId": "8c1b64e0-cd3b-4cc4-8e84-6d58a2e99210"
      },
      "execution_count": null,
      "outputs": [
        {
          "output_type": "error",
          "ename": "SyntaxError",
          "evalue": "invalid syntax (<ipython-input-6-c3e1374de1e8>, line 1)",
          "traceback": [
            "\u001b[0;36m  File \u001b[0;32m\"<ipython-input-6-c3e1374de1e8>\"\u001b[0;36m, line \u001b[0;32m1\u001b[0m\n\u001b[0;31m    *Texto en cursiva*\u001b[0m\n\u001b[0m           ^\u001b[0m\n\u001b[0;31mSyntaxError\u001b[0m\u001b[0;31m:\u001b[0m invalid syntax\n"
          ]
        }
      ]
    },
    {
      "cell_type": "markdown",
      "source": [
        "También puedes combinar ambas formas de escritura agrupando las dos estructuras con ** y *. Por ejemplo:"
      ],
      "metadata": {
        "id": "at7qbx49xtfo"
      }
    },
    {
      "cell_type": "code",
      "source": [
        "***Texto en negritas y cursiva***"
      ],
      "metadata": {
        "id": "h39yWMWnxxw0"
      },
      "execution_count": null,
      "outputs": []
    },
    {
      "cell_type": "markdown",
      "source": [
        "Listas:\n",
        "\n",
        "Para crear listas no numeradas (con viñetas), coloca * y luego un espacio * antes del elemento, como en el ejemplo:"
      ],
      "metadata": {
        "id": "rcPJjkI6x30E"
      }
    },
    {
      "cell_type": "code",
      "source": [
        "* Elemento 1\n",
        "* Elemento 2\n",
        "* Elemento 3"
      ],
      "metadata": {
        "colab": {
          "base_uri": "https://localhost:8080/",
          "height": 106
        },
        "id": "gPOYTJWvx7NC",
        "outputId": "405888a0-f7ad-4e99-ebd9-09fde795a0c6"
      },
      "execution_count": null,
      "outputs": [
        {
          "output_type": "error",
          "ename": "SyntaxError",
          "evalue": "invalid syntax (<ipython-input-7-41f20c4c40dc>, line 1)",
          "traceback": [
            "\u001b[0;36m  File \u001b[0;32m\"<ipython-input-7-41f20c4c40dc>\"\u001b[0;36m, line \u001b[0;32m1\u001b[0m\n\u001b[0;31m    * Elemento 1\u001b[0m\n\u001b[0m               ^\u001b[0m\n\u001b[0;31mSyntaxError\u001b[0m\u001b[0;31m:\u001b[0m invalid syntax\n"
          ]
        }
      ]
    },
    {
      "cell_type": "markdown",
      "source": [
        "Para crear listas numeradas, puedes usar un número seguido de un punto y un espacio 1. antes del elemento, como en el ejemplo:\n"
      ],
      "metadata": {
        "id": "zrr0EFRIyJ4z"
      }
    },
    {
      "cell_type": "code",
      "source": [
        "1. Elemento 1\n",
        "2. Elemento 2\n",
        "3. Elemento 3"
      ],
      "metadata": {
        "id": "XyByqRibyU5N"
      },
      "execution_count": null,
      "outputs": []
    },
    {
      "cell_type": "markdown",
      "source": [
        "Enlaces:\n",
        "\n",
        "Para crear enlaces, a continuación, tienes un ejemplo con el enlace al sitio web de Alura:"
      ],
      "metadata": {
        "id": "nIXb72ClyaCm"
      }
    },
    {
      "cell_type": "code",
      "source": [
        "[Página de Alura](https://www.aluracursos.com/)"
      ],
      "metadata": {
        "colab": {
          "base_uri": "https://localhost:8080/",
          "height": 106
        },
        "id": "IaroFHL8ydZ-",
        "outputId": "2303fb3f-2488-465c-a81b-fe1eb42bc272"
      },
      "execution_count": null,
      "outputs": [
        {
          "output_type": "error",
          "ename": "SyntaxError",
          "evalue": "invalid syntax. Perhaps you forgot a comma? (<ipython-input-12-0cdc64e3ec81>, line 1)",
          "traceback": [
            "\u001b[0;36m  File \u001b[0;32m\"<ipython-input-12-0cdc64e3ec81>\"\u001b[0;36m, line \u001b[0;32m1\u001b[0m\n\u001b[0;31m    [Página de Alura](https://www.aluracursos.com/)\u001b[0m\n\u001b[0m     ^\u001b[0m\n\u001b[0;31mSyntaxError\u001b[0m\u001b[0;31m:\u001b[0m invalid syntax. Perhaps you forgot a comma?\n"
          ]
        }
      ]
    },
    {
      "cell_type": "markdown",
      "source": [
        "Estos son ejemplos más comunes de uso de markdown, pero existen muchas otras formas y recursos disponibles para que domines el lenguaje de marcación."
      ],
      "metadata": {
        "id": "xojWD9zeyhUE"
      }
    }
  ]
}