{
  "nbformat": 4,
  "nbformat_minor": 0,
  "metadata": {
    "colab": {
      "provenance": [],
      "authorship_tag": "ABX9TyOD7kloyikLfijxSTONXDfH",
      "include_colab_link": true
    },
    "kernelspec": {
      "name": "python3",
      "display_name": "Python 3"
    },
    "language_info": {
      "name": "python"
    }
  },
  "cells": [
    {
      "cell_type": "markdown",
      "metadata": {
        "id": "view-in-github",
        "colab_type": "text"
      },
      "source": [
        "<a href=\"https://colab.research.google.com/github/BibiTC/DS-python-para-datascience-primeros-pasos/blob/main/A3_Operadores_Relacionales.ipynb\" target=\"_parent\"><img src=\"https://colab.research.google.com/assets/colab-badge.svg\" alt=\"Open In Colab\"/></a>"
      ]
    },
    {
      "cell_type": "markdown",
      "source": [
        "Una condición no es más que una comparación entre datos a partir de la cual podemos obtener el resultado verdadero o falso de una condición. La comparación puede realizarse mediante operadores relacionales cuya misión es comparar valores y determinar si una expresión es verdadera o falsa. A continuación, conoceremos los operadores lógicos y cómo utilizarlos.\n",
        "\n",
        "##**Mayor que (>)**\n",
        "\n",
        "Devuelve verdadero si el valor a la izquierda del símbolo es mayor que el de la derecha. Su sintaxis, valor_1 > valor_2, representa una comparación que solo será verdadera si valor_1 es mayor que valor_2. Con este operador relacional, podemos verificar si una persona es mayor que otra al comparar sus edades, como se muestra en el siguiente ejemplo:"
      ],
      "metadata": {
        "id": "AouFWb1QO_0j"
      }
    },
    {
      "cell_type": "code",
      "source": [
        "edad_maria = int(input('Ingrese la edad de María: '))\n",
        "edad_beatriz = int(input('Ingrese la edad de Beatriz: '))\n",
        "\n",
        "if edad_maria > edad_beatriz:\n",
        "  print('María es mayor que Beatriz.')"
      ],
      "metadata": {
        "id": "h5GyX1B9PYO5",
        "colab": {
          "base_uri": "https://localhost:8080/"
        },
        "outputId": "ca83f1e6-fe25-4c1e-9a90-d79c4d93b0aa"
      },
      "execution_count": null,
      "outputs": [
        {
          "output_type": "stream",
          "name": "stdout",
          "text": [
            "Ingrese la edad de María: 70\n",
            "Ingrese la edad de Beatriz: 10\n",
            "María es mayor que Beatriz.\n"
          ]
        }
      ]
    },
    {
      "cell_type": "markdown",
      "source": [
        "El operador mayor que (>) devuelve un valor falso si los valores comparados son iguales o si el valor a la izquierda del símbolo es inferior al de la derecha.\n",
        "\n",
        "##**Menor que (<)**\n",
        "\n",
        "Devuelve verdadero si el valor a la izquierda del símbolo es menor que el de la derecha. Su sintaxis es valor_1 < valor_2. Esta comparación solo será verdadera si valor_1 es menor que valor_2. Con este operador relacional, también podemos verificar si una persona es menor que otra al comparar sus edades, como se muestra a continuación:"
      ],
      "metadata": {
        "id": "2z-PDpH5QZyG"
      }
    },
    {
      "cell_type": "code",
      "source": [
        "edad_maria = int(input('Ingrese la edad de María: '))\n",
        "edad_beatriz = int(input('Ingrese la edad de Beatriz: '))\n",
        "\n",
        "if edad_maria < edad_beatriz:\n",
        "  print('María es menor que Beatriz.')"
      ],
      "metadata": {
        "colab": {
          "base_uri": "https://localhost:8080/"
        },
        "id": "r0RWBHC0Ql5X",
        "outputId": "c210067c-4f5b-4a50-be11-82b0ca88142b"
      },
      "execution_count": null,
      "outputs": [
        {
          "output_type": "stream",
          "name": "stdout",
          "text": [
            "Ingrese la edad de María: 10\n",
            "Ingrese la edad de Beatriz: 20\n",
            "María es menor que Beatriz.\n"
          ]
        }
      ]
    },
    {
      "cell_type": "markdown",
      "source": [
        "Este operador también devuelve un valor falso si los valores comparados son iguales o si el valor a la izquierda del símbolo es superior al de la derecha.\n",
        "\n",
        "##**Mayor o igual a (>=)**\n",
        "\n",
        "\n",
        "Devuelve verdadero si el valor a la izquierda del símbolo es mayor o igual al valor a la derecha. Su sintaxis es valor_1 >= valor_2. Esta comparación solo será verdadera si valor_1 es mayor o igual a valor_2. Con este operador relacional, podemos verificar, por ejemplo, si una empresa tiene una cantidad mayor o igual a la de otra, como se muestra a continuación:"
      ],
      "metadata": {
        "id": "HgMMOU4mQvJo"
      }
    },
    {
      "cell_type": "code",
      "source": [
        "empleados_empresa_1 = int(input('Ingrese la cantidad de empleados de la empresa 1: '))\n",
        "empleados_empresa_2 = int(input('Ingrese la cantidad de empleados de la empresa 2: '))\n",
        "\n",
        "if empleados_empresa_1 >= empleados_empresa_2:\n",
        "  print('La empresa 1 tiene una cantidad de empleados mayor o igual a la empresa 2.')"
      ],
      "metadata": {
        "colab": {
          "base_uri": "https://localhost:8080/"
        },
        "id": "mRHKPW_gQ1eA",
        "outputId": "16ec0c44-bc98-4025-a0e7-8f862e7b2df2"
      },
      "execution_count": null,
      "outputs": [
        {
          "output_type": "stream",
          "name": "stdout",
          "text": [
            "Ingrese la cantidad de empleados de la empresa 1: 10\n",
            "Ingrese la cantidad de empleados de la empresa 2: 1\n",
            "La empresa 1 tiene una cantidad de empleados mayor o igual a la empresa 2.\n"
          ]
        }
      ]
    },
    {
      "cell_type": "markdown",
      "source": [
        "##**Menor o igual a (<=)**\n",
        "\n",
        "Devuelve verdadero si el valor a la izquierda del símbolo es menor o igual al valor de la derecha. Su sintaxis es valor_1 <= valor_2. Esta comparación solo será verdadera si valor_1 es menor o igual a valor_2. Con este operador relacional, podemos verificar si una empresa tiene una cantidad menor o igual a otra, como se muestra a continuación:"
      ],
      "metadata": {
        "id": "DOxIGoexRFXg"
      }
    },
    {
      "cell_type": "code",
      "source": [
        "empleados_empresa_1 = int(input('Ingrese la cantidad de empleados de la empresa 1: '))\n",
        "empleados_empresa_2 = int(input('Ingrese la cantidad de empleados de la empresa 2: '))\n",
        "\n",
        "if empleados_empresa_1 <= empleados_empresa_2:\n",
        "  print('La empresa 1 tiene una cantidad de empleados menor o igual a la empresa 2.')"
      ],
      "metadata": {
        "colab": {
          "base_uri": "https://localhost:8080/"
        },
        "id": "e714cnxVRPHG",
        "outputId": "1e24b2a2-36a2-440d-a679-70f0f49ed02f"
      },
      "execution_count": null,
      "outputs": [
        {
          "output_type": "stream",
          "name": "stdout",
          "text": [
            "Ingrese la cantidad de empleados de la empresa 1: 10\n",
            "Ingrese la cantidad de empleados de la empresa 2: 50\n",
            "La empresa 1 tiene una cantidad de empleados menor o igual a la empresa 2.\n"
          ]
        }
      ]
    },
    {
      "cell_type": "markdown",
      "source": [
        "Igual a (==)\n",
        "\n",
        "Devuelve verdadero si el valor a la izquierda del símbolo es igual al valor de la derecha. Su sintaxis, valor_1 == valor_2, representa una comparación que solo será verdadera si valor_1 es igual a valor_2. Con este operador relacional, podemos verificar si dos libros tienen el mismo título mediante una comparación de cadenas, como se muestra en el siguiente ejemplo:"
      ],
      "metadata": {
        "id": "2LZ1_MyJRW0V"
      }
    },
    {
      "cell_type": "code",
      "source": [
        "libro_1 = input('Ingrese el título del 1° libro: ')\n",
        "libro_2 = input('Ingrese el título del 2° libro: ')\n",
        "\n",
        "if libro_1 == libro_2:\n",
        "  print('Los libros tienen el mismo título.')"
      ],
      "metadata": {
        "colab": {
          "base_uri": "https://localhost:8080/"
        },
        "id": "ukBaCESyRif2",
        "outputId": "2fce7fd1-9a4d-49af-a714-c373d2762083"
      },
      "execution_count": null,
      "outputs": [
        {
          "output_type": "stream",
          "name": "stdout",
          "text": [
            "Ingrese el título del 1° libro: El poder de la mente\n",
            "Ingrese el título del 2° libro: El poder de la mente\n",
            "Los libros tienen el mismo título.\n"
          ]
        }
      ]
    },
    {
      "cell_type": "markdown",
      "source": [
        "También es posible realizar esta comparación con valores numéricos.\n",
        "\n",
        "##**Diferente de (!=)**\n",
        "\n",
        "Devuelve verdadero si el valor a la izquierda del símbolo es diferente del valor a la derecha. Su sintaxis, valor_1 != valor_2, representa una comparación que solo será verdadera si valor_1 es diferente de valor_2. Este operador es el inverso de ==. Con él, podemos verificar si dos libros tienen títulos diferentes mediante una comparación de cadenas, como se muestra a continuación:"
      ],
      "metadata": {
        "id": "hAJXsjn3Rpje"
      }
    },
    {
      "cell_type": "code",
      "source": [
        "libro_1 = input('Ingrese el título del 1° libro: ')\n",
        "libro_2 = input('Ingrese el título del 2° libro: ')\n",
        "\n",
        "if libro_1 != libro_2:\n",
        "  print('Los libros tienen títulos diferentes.')"
      ],
      "metadata": {
        "id": "BQOfQigUR4zG",
        "outputId": "8380f595-4f0e-498c-e122-e6a08a76a508",
        "colab": {
          "base_uri": "https://localhost:8080/"
        }
      },
      "execution_count": null,
      "outputs": [
        {
          "output_type": "stream",
          "name": "stdout",
          "text": [
            "Ingrese el título del 1° libro: 1\n",
            "Ingrese el título del 2° libro: 5\n",
            "Los libros tienen títulos diferentes.\n"
          ]
        }
      ]
    }
  ]
}