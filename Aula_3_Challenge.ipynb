{
  "nbformat": 4,
  "nbformat_minor": 0,
  "metadata": {
    "colab": {
      "provenance": [],
      "authorship_tag": "ABX9TyOnSkE4pcnUcKuvsh+DIUtL",
      "include_colab_link": true
    },
    "kernelspec": {
      "name": "python3",
      "display_name": "Python 3"
    },
    "language_info": {
      "name": "python"
    }
  },
  "cells": [
    {
      "cell_type": "markdown",
      "metadata": {
        "id": "view-in-github",
        "colab_type": "text"
      },
      "source": [
        "<a href=\"https://colab.research.google.com/github/BibiTC/DS-python-para-datascience-primeros-pasos/blob/Aula3/Aula_3_Challenge.ipynb\" target=\"_parent\"><img src=\"https://colab.research.google.com/assets/colab-badge.svg\" alt=\"Open In Colab\"/></a>"
      ]
    },
    {
      "cell_type": "markdown",
      "source": [
        "#***Aula 3 - Desafio: ¡Es hora de practicar!***\n",
        "\n",
        "> Vamos practicar el uso de estructuras condicionales como el if, else y elif a través de algunas actividades. Ahora que estamos avanzando en los contenidos, podemos hacer los desafíos más interesantes: ¡trabajaremos en proyectos de código! Resuelve los problemas iniciales para prepararte para los proyectos:\n",
        "\n",
        "---\n",
        "\n",
        "# **Entrenando la programación**\n",
        "\n",
        "1 - Escribe un programa que pida a la persona usuaria que proporcione dos números y muestre el número más grande.\n",
        "\n",
        "\n",
        "\n"
      ],
      "metadata": {
        "id": "EPE_kyR5a_mE"
      }
    },
    {
      "cell_type": "code",
      "source": [
        "num1 = int(input('\\tIngresar número 1: '))\n",
        "num2 = int(input('\\tIngresar número 2: '))\n",
        "\n",
        "if num1 > num2 :\n",
        "  print(f'\\n\\tEl número mayor es {num1}')\n",
        "elif num2 > num1 :\n",
        "  print(f'\\n\\tEl número mayor es {num2}')\n",
        "elif num2 == num1 :\n",
        "  print(f'\\n\\tLos dos números son iguales')\n"
      ],
      "metadata": {
        "id": "r1EAXFILcTWN",
        "colab": {
          "base_uri": "https://localhost:8080/"
        },
        "outputId": "79303094-ed0d-4a3d-94cf-673bab88053a"
      },
      "execution_count": null,
      "outputs": [
        {
          "output_type": "stream",
          "name": "stdout",
          "text": [
            "\tIngresar número 1: 9\n",
            "\tIngresar número 2: 20\n",
            "\n",
            "\tEl número mayor es 20\n"
          ]
        }
      ]
    },
    {
      "cell_type": "markdown",
      "source": [
        "2 - Escribe un programa que solicite el porcentaje de crecimiento de producción de una empresa e informe si hubo un crecimiento (porcentaje positivo) o una disminución (porcentaje negativo)."
      ],
      "metadata": {
        "id": "FYX1A08qbH3m"
      }
    },
    {
      "cell_type": "code",
      "source": [
        "porcentaje_crecimiento = float(input('\\tIngrese el porcentaje de crecimiento de producción: '))\n",
        "\n",
        "if porcentaje_crecimiento > 0:\n",
        "  print(f'\\n\\tHubo un crecimiento de {porcentaje_crecimiento} %')\n",
        "elif porcentaje_crecimiento < 0:\n",
        "  print(f'\\n\\tHubo una disminución de {porcentaje_crecimiento} %')\n",
        "else:\n",
        "  print(f'\\n\\tLa producción se mantuvo igual')"
      ],
      "metadata": {
        "id": "-gqwBmHdcT0L",
        "colab": {
          "base_uri": "https://localhost:8080/"
        },
        "outputId": "884b255a-1eed-4cba-bdac-5f9f1eadb933"
      },
      "execution_count": null,
      "outputs": [
        {
          "output_type": "stream",
          "name": "stdout",
          "text": [
            "\tIngrese el porcentaje de crecimiento de producción: 12.5\n",
            "\n",
            "\tHubo un crecimiento de 12.5 %\n"
          ]
        }
      ]
    },
    {
      "cell_type": "markdown",
      "source": [
        "3 - Escribe un programa que determine si una letra proporcionada por la persona usuaria es una vocal o una consonante."
      ],
      "metadata": {
        "id": "5cHTgJs9bMvM"
      }
    },
    {
      "cell_type": "code",
      "source": [
        "letra = input('\\tIngresar una letra: ')\n",
        "\n",
        "if letra.lower() in 'aeiou':\n",
        "  print(f'\\n\\tLa letra {letra} es una vocal')\n",
        "else:\n",
        "  print(f'\\n\\tLa letra {letra} es una consonante')"
      ],
      "metadata": {
        "id": "S1Y5jq5KcUIk",
        "colab": {
          "base_uri": "https://localhost:8080/"
        },
        "outputId": "3f36ff6f-5a72-4440-9997-d8855d5a1e57"
      },
      "execution_count": null,
      "outputs": [
        {
          "output_type": "stream",
          "name": "stdout",
          "text": [
            "\tIngresar una letra: e\n",
            "\n",
            "\tLa letra e es una vocal\n"
          ]
        }
      ]
    },
    {
      "cell_type": "markdown",
      "source": [
        "4 - Escribe un programa que lea valores promedio de precios de un modelo de automóvil durante 3 años consecutivos y muestre el valor más alto y más bajo entre esos tres años."
      ],
      "metadata": {
        "id": "YQO_RVejbRMs"
      }
    },
    {
      "cell_type": "code",
      "source": [
        "# Ingresar valores promedio automovil años 1,2 y 3\n",
        "precio_auto_ano1 = float(input('\\tIngresar valor promedio automovil año 1: $'))\n",
        "precio_auto_ano2 = float(input('\\tIngresar valor promedio automovil año 2: $'))\n",
        "precio_auto_ano3 = float(input('\\tIngresar valor promedio automovil año 3: $'))\n",
        "\n",
        "\n",
        "# Mismo valor todos los años\n",
        "if precio_auto_ano1 == precio_auto_ano2 == precio_auto_ano3:\n",
        "  print(f'\\n\\tEl precio durante los 3 años se mantuvo en ${precio_auto_ano1}')\n",
        "else :\n",
        "  # Localizar valor promedio automovil de mayor valor\n",
        "  valor_mayor = precio_auto_ano1\n",
        "  ano_mayor = 1\n",
        "\n",
        "  if precio_auto_ano2 > valor_mayor:\n",
        "    valor_mayor = precio_auto_ano2\n",
        "    ano_mayor = 2\n",
        "\n",
        "  if precio_auto_ano3 > valor_mayor:\n",
        "    valor_mayor = precio_auto_ano3\n",
        "    ano_mayor = 3\n",
        "\n",
        "  # Localizar valor promedio automovil de mayor valor\n",
        "  valor_menor = precio_auto_ano1\n",
        "  ano_menor = 1\n",
        "\n",
        "  if precio_auto_ano2 < valor_menor:\n",
        "    valor_menor = precio_auto_ano2\n",
        "    ano_menor = 2\n",
        "\n",
        "  if precio_auto_ano3 < valor_mayor:\n",
        "    valor_menor = precio_auto_ano3\n",
        "    ano_menor = 3\n",
        "\n",
        "  # Resultado\n",
        "  print(f'\\n\\tEl valor más alto del automovil fue de {valor_mayor} en el año {ano_mayor}')\n",
        "  print(f'\\n\\tEl valor más bajo del automovil fue de {valor_menor} en el año {ano_menor}.')"
      ],
      "metadata": {
        "id": "K-8PbYphcUvd",
        "colab": {
          "base_uri": "https://localhost:8080/"
        },
        "outputId": "4dcda593-a394-4074-c0d4-13fc2e3a3ab8"
      },
      "execution_count": null,
      "outputs": [
        {
          "output_type": "stream",
          "name": "stdout",
          "text": [
            "\tIngresar valor promedio automovil año 1: $50\n",
            "\tIngresar valor promedio automovil año 2: $90\n",
            "\tIngresar valor promedio automovil año 3: $30\n",
            "\n",
            "\tEl valor más alto del automovil fue de 90.0 en el año 2\n",
            "\n",
            "\tEl valor más bajo del automovil fue de 30.0 en el año 3.\n"
          ]
        }
      ]
    },
    {
      "cell_type": "code",
      "source": [
        "# Optimizado\n",
        "precio_auto_ano1 = float(input('\\tIngresar valor promedio automovil año 1: $'))\n",
        "precio_auto_ano2 = float(input('\\tIngresar valor promedio automovil año 2: $'))\n",
        "precio_auto_ano3 = float(input('\\tIngresar valor promedio automovil año 3: $'))\n",
        "\n",
        "precios_lista = (precio_auto_ano1, precio_auto_ano2, precio_auto_ano3)\n",
        "precio_maximo = max(precios_lista)\n",
        "ano_max = precios_lista.index(precio_maximo) + 1\n",
        "\n",
        "precio_minimo = min(precios_lista)\n",
        "ano_min = precios_lista.index(precio_minimo) + 1\n",
        "\n",
        "print(f'\\n\\t- El valor más alto del automovil fue de {precio_maximo} año {ano_max}')\n",
        "print(f'\\t- El valor más bajo del automovil fue de {precio_minimo} año {ano_min}')\n"
      ],
      "metadata": {
        "colab": {
          "base_uri": "https://localhost:8080/"
        },
        "id": "FHclfIzAU56r",
        "outputId": "06a8f250-0c6e-44e6-820c-25ed0da37f90"
      },
      "execution_count": null,
      "outputs": [
        {
          "output_type": "stream",
          "name": "stdout",
          "text": [
            "\tIngresar valor promedio automovil año 1: $50\n",
            "\tIngresar valor promedio automovil año 2: $90\n",
            "\tIngresar valor promedio automovil año 3: $30\n",
            "\n",
            "\t- El valor más alto del automovil fue de 90.0 año 2\n",
            "\t- El valor más bajo del automovil fue de 30.0 año 3\n"
          ]
        }
      ]
    },
    {
      "cell_type": "markdown",
      "source": [
        "5 - Escribe un programa que pregunte sobre el precio de tres productos e indique cuál es el producto más barato para comprar."
      ],
      "metadata": {
        "id": "Omu0nQU0bUyk"
      }
    },
    {
      "cell_type": "code",
      "source": [
        "precio_prod_1 = float(input('\\tIngresar valor producto 1: $'))\n",
        "precio_prod_2 = float(input('\\tIngresar valor producto 2: $'))\n",
        "precio_prod_3 = float(input('\\tIngresar valor producto 3: $'))\n",
        "\n",
        "prod_mejor_valor =  precio_prod_1\n",
        "\n",
        "if precio_prod_1 < precio_prod_2 and precio_prod_1 < precio_prod_3:\n",
        "  print(f'\\n\\tEl producto 1 es el más barato para comprar: ${precio_prod_1}')\n",
        "elif precio_prod_2 < precio_prod_1 and precio_prod_2 < precio_prod_3:\n",
        "  print(f'\\n\\tEl producto 2 es el más barato para comprar: ${precio_prod_2}')\n",
        "elif precio_prod_3 < precio_prod_1 and precio_prod_3 < precio_prod_2:\n",
        "  print(f'\\n\\tEl producto 3 es el más barato para comprar: ${precio_prod_3}')\n",
        "elif precio_prod_1 == precio_prod_2 and precio_prod_1 == precio_prod_3:\n",
        "  print(f'\\n\\tLos 3 productos tienen el mismo precio: ${precio_prod_1}')\n",
        "#else :\n",
        "#  print(f'\\n\\tEl producto más barato para comprar: $ {min(precio_prod_1, precio_prod_2, precio_prod_3)}')"
      ],
      "metadata": {
        "id": "JiJ8FSr9cV5j",
        "colab": {
          "base_uri": "https://localhost:8080/"
        },
        "outputId": "76cba193-4759-4dc7-ac8c-e4029c6df282"
      },
      "execution_count": null,
      "outputs": [
        {
          "output_type": "stream",
          "name": "stdout",
          "text": [
            "\tIngresar valor producto 1: $55\n",
            "\tIngresar valor producto 2: $55.5\n",
            "\tIngresar valor producto 3: $54.9\n",
            "\n",
            "\tEl producto 3 es el más barato para comprar: $54.9\n"
          ]
        }
      ]
    },
    {
      "cell_type": "code",
      "source": [
        "#Optimizado\n",
        "precio_prod_1 = float(input('\\tIngresar valor producto 1: $'))\n",
        "precio_prod_2 = float(input('\\tIngresar valor producto 2: $'))\n",
        "precio_prod_3 = float(input('\\tIngresar valor producto 3: $'))\n",
        "\n",
        "precio_lista = (precio_prod_1, precio_prod_2, precio_prod_3)\n",
        "precio_minimo = min(precio_lista)\n",
        "numero_producto = precio_lista.index(precio_minimo) +1\n",
        "\n",
        "print(f'\\n\\t-El producto {numero_producto} es el más barato para comprar: ${precio_minimo}')"
      ],
      "metadata": {
        "colab": {
          "base_uri": "https://localhost:8080/"
        },
        "id": "nIq0pPVqUc4H",
        "outputId": "d4a16bd3-d87f-4c70-bcf9-5dd18f95f874"
      },
      "execution_count": null,
      "outputs": [
        {
          "output_type": "stream",
          "name": "stdout",
          "text": [
            "\tIngresar valor producto 1: $10\n",
            "\tIngresar valor producto 2: $9.9\n",
            "\tIngresar valor producto 3: $10.1\n",
            "\n",
            "\t-El producto 2 es el más barato para comprar: $9.9\n"
          ]
        }
      ]
    },
    {
      "cell_type": "markdown",
      "source": [
        "6 - Escribe un programa que lea tres números y los muestre en orden descendente."
      ],
      "metadata": {
        "id": "yaj5TurEbYx0"
      }
    },
    {
      "cell_type": "code",
      "source": [
        "numero1 = int(input(f'\\tIngresar el primer número: '))\n",
        "numero2 = int(input(f'\\tIngresar el segundo número: '))\n",
        "numero3 = int(input(f'\\tIngresar el tercer número: '))\n",
        "\n",
        "lista_numero = [numero1, numero2, numero3]\n",
        "lista_numero.sort(reverse=True)\n",
        "\n",
        "print(f'\\n\\tLos números en orden descendente son: {lista_numero}')"
      ],
      "metadata": {
        "id": "uQvp_9EycWzz",
        "colab": {
          "base_uri": "https://localhost:8080/"
        },
        "outputId": "d1932ab1-babb-460a-eb84-de8d0c917546"
      },
      "execution_count": null,
      "outputs": [
        {
          "output_type": "stream",
          "name": "stdout",
          "text": [
            "\tIngresar el primer número: 8\n",
            "\tIngresar el segundo número: 90\n",
            "\tIngresar el tercer número: 100\n",
            "\n",
            "\tLos números en orden descendente son: [100, 90, 8]\n"
          ]
        }
      ]
    },
    {
      "cell_type": "markdown",
      "source": [
        "\n",
        "7 -Escribe un programa que pregunte en qué turno estudia la persona usuaria (\"mañana\", \"tarde\" o \"noche\") y muestre el mensaje \"¡Buenos Días!\", \"¡Buenas Tardes!\", \"¡Buenas Noches!\" o \"Valor Inválido!\", según el caso."
      ],
      "metadata": {
        "id": "h-gcHm8kbdDF"
      }
    },
    {
      "cell_type": "code",
      "source": [
        "turno_estudio = input(f'\\tEn que turno estudia el usuario ? [mañana][tarde][noche] : ')\n",
        "\n",
        "if turno_estudio.lower() == 'mañana':\n",
        "  print(f'\\n\\t¡Buenos Días!')\n",
        "elif turno_estudio.lower() == 'tarde':\n",
        "  print(f'\\n\\t¡Buenas Tardes!')\n",
        "elif turno_estudio.lower() == 'noche':\n",
        "  print(f'\\n\\t¡Buenas Noches!')\n",
        "else :\n",
        "  print(f'\\n\\tValor Inválido!')"
      ],
      "metadata": {
        "id": "7bHtoev-cXbL",
        "colab": {
          "base_uri": "https://localhost:8080/"
        },
        "outputId": "f0e13a71-18b7-4a21-9e6b-9fe521101a0b"
      },
      "execution_count": null,
      "outputs": [
        {
          "output_type": "stream",
          "name": "stdout",
          "text": [
            "\tEn que turno estudia el usuario ? [mañana][tarde][noche] : NOCHE\n",
            "\n",
            "\t¡Buenas Noches!\n"
          ]
        }
      ]
    },
    {
      "cell_type": "markdown",
      "source": [
        "8 - Escribe un programa que solicite un número entero a la persona usuaria y determine si es par o impar. Pista: Puedes usar el operador módulo (%)."
      ],
      "metadata": {
        "id": "w-28CyLUbgP5"
      }
    },
    {
      "cell_type": "code",
      "source": [
        "numero = input(f'Ingresar un número entero: ')\n",
        "\n",
        "try:\n",
        "\n",
        "  numero_entero = int(numero)\n",
        "  if int(numero_entero) % 2 == 0:\n",
        "    print(f'\\n\\tEl número {numero_entero} es par')\n",
        "  else:\n",
        "    print(f'\\n\\tEl número {numero_entero} es impar')\n",
        "\n",
        "except ValueError:\n",
        "  print(\"Error: No es un valor válido. Ingrese un número entero.\")"
      ],
      "metadata": {
        "id": "9Z7-QVX5cX_0",
        "colab": {
          "base_uri": "https://localhost:8080/"
        },
        "outputId": "30682034-6531-452c-e084-653ac9ce8bac"
      },
      "execution_count": null,
      "outputs": [
        {
          "output_type": "stream",
          "name": "stdout",
          "text": [
            "Ingresar un número entero: 150000000\n",
            "\n",
            "\tEl número 150000000 es par\n"
          ]
        }
      ]
    },
    {
      "cell_type": "markdown",
      "source": [
        "9 - Escribe un programa que pida un número a la persona usuaria y le informe si es entero o decimal."
      ],
      "metadata": {
        "id": "Orm0X-7IbjXz"
      }
    },
    {
      "cell_type": "code",
      "source": [
        "try:\n",
        "  numero = float(input(f'Ingresar un número: '))\n",
        "\n",
        "  # Verificamos si el número es entero o decimal según el resultado del módulo\n",
        "  if numero % 1 == 0:\n",
        "      print('El número es entero.')\n",
        "  else:\n",
        "      print('El número es decimal.')\n",
        "\n",
        "except ValueError:\n",
        "  print(\"Error: No es un valor válido. Ingrese un número.\")\n"
      ],
      "metadata": {
        "id": "fLNnY8_gcY5L",
        "colab": {
          "base_uri": "https://localhost:8080/"
        },
        "outputId": "d87025c2-9dd3-4c46-9206-0e07c3ff445d"
      },
      "execution_count": null,
      "outputs": [
        {
          "output_type": "stream",
          "name": "stdout",
          "text": [
            "Ingresar un número: 10.\n",
            "El número es entero.\n"
          ]
        }
      ]
    },
    {
      "cell_type": "markdown",
      "source": [
        "\n",
        "\n",
        "---\n",
        "\n",
        "\n",
        "\n",
        "##**Momento de los proyectos**\n",
        "\n",
        "10 - Un programa debe ser escrito para leer dos números y luego preguntar a la persona usuaria qué operación desea realizar. El resultado de la operación debe incluir información sobre el número, si es par o impar, positivo o negativo, e entero o decimal."
      ],
      "metadata": {
        "id": "PYduF3eWbmsc"
      }
    },
    {
      "cell_type": "code",
      "source": [
        "numero1 = float(input(f'\\tIngresar el primer número: '))\n",
        "numero2 = float(input(f'\\tIngresar el segundo número: '))\n",
        "operacion = input(f'\\n\\t¿Qué operación desea realizar ? [+][-][*][/] : ')\n",
        "\n",
        "if operacion == '+':\n",
        "  resultado = numero1 + numero2\n",
        "elif operacion == '-':\n",
        "  resultado = numero1 - numero2\n",
        "elif operacion == '*':\n",
        "  resultado = numero1 * numero2\n",
        "elif operacion == '/':\n",
        "  resultado = numero1 / numero2\n",
        "else:\n",
        "  print(f'\\n\\tLa operación nno es válida')\n",
        "  resultado = 0\n",
        "\n",
        "if resultado != 0:\n",
        "  print(f'\\n\\tEl resultado de la operación {numero1} {operacion} {numero2} es: {resultado}')\n",
        "\n",
        "  # Valida par impar\n",
        "  if resultado % 2 == 0:\n",
        "    print(f'\\n\\t- Es número par')\n",
        "  else:\n",
        "    print(f'\\n\\t- Es número impar')\n",
        "\n",
        "  # Valida positivo negativo\n",
        "  if resultado >= 0:\n",
        "    print(f'\\t- Es número positivo')\n",
        "  elif resultado < 0:\n",
        "    print(f'\\t- Es número negativo')\n",
        "\n",
        "  # Valida entero decimal\n",
        "  if resultado % 1 == 0:\n",
        "    print(f'\\t- Es número entero')\n",
        "  else:\n",
        "    print(f'\\t- Es número decimal')"
      ],
      "metadata": {
        "id": "beJ2zpZzcaAz",
        "colab": {
          "base_uri": "https://localhost:8080/"
        },
        "outputId": "5b22c0c2-a6e9-4802-c311-3d83a56e2eac"
      },
      "execution_count": null,
      "outputs": [
        {
          "output_type": "stream",
          "name": "stdout",
          "text": [
            "\tIngresar el primer número: 80\n",
            "\tIngresar el segundo número: 2\n",
            "\n",
            "\t¿Qué operación desea realizar ? [+][-][*][/] : /\n",
            "\n",
            "\tEl resultado de la operación 80.0 / 2.0 es: 40.0\n",
            "\n",
            "\t- Es número par\n",
            "\t- Es número positivo\n",
            "\t- Es número entero\n"
          ]
        }
      ]
    },
    {
      "cell_type": "markdown",
      "source": [
        "11 - Escribe un programa que pida a la persona usuaria tres números que representan los lados de un triángulo. El programa debe informar si los valores pueden utilizarse para formar un triángulo y, en caso afirmativo, si es equilátero, isósceles o escaleno. Ten en cuenta algunas sugerencias:\n",
        "\n",
        "Tres lados forman un triángulo cuando la suma de cualesquiera dos lados es mayor que el tercero;\n",
        "Triángulo Equilátero: tres lados iguales;\n",
        "Triángulo Isósceles: dos lados iguales;\n",
        "Triángulo Escaleno: tres lados diferentes."
      ],
      "metadata": {
        "id": "fXhUHAUJbsN2"
      }
    },
    {
      "cell_type": "code",
      "source": [
        "lado1_t = float(input(f'\\tIngresar longitud primer lado del triangulo: '))\n",
        "lado2_t = float(input(f'\\tIngresar longitud segundo lado  del triangulo: '))\n",
        "lado3_t = float(input(f'\\tIngresar longitud tercer lado del triangulo: '))\n",
        "\n",
        "if (lado1_t+lado2_t >= lado3_t) and (lado1_t+lado3_t >= lado2_t) and (lado2_t+lado3_t >=lado1_t):\n",
        "  print(f'\\n\\tLa longitud de los lados {lado1_t}, {lado2_t} y {lado3_t} pueden formar un triángulo')\n",
        "  if (lado1_t == lado2_t) and (lado2_t == lado3_t):\n",
        "    print(f'\\n\\tEl triángulo es equilátero')\n",
        "  elif (lado1_t != lado2_t) and (lado1_t != lado3_t) and (lado2_t != lado3_t):\n",
        "    print(f'\\n\\tEl triángulo es escaleno')\n",
        "  else:\n",
        "    print(f'\\n\\tEl triángulo es isósceles')\n",
        "else:\n",
        "  print(f'\\n\\tLa longitud de los lados  {lado1_t}, {lado2_t} y {lado3_t} no pueden formar un triángulo')"
      ],
      "metadata": {
        "id": "xi81eckscbN8",
        "colab": {
          "base_uri": "https://localhost:8080/"
        },
        "outputId": "05579bd1-d92d-4d38-e349-5cd52a28ad29"
      },
      "execution_count": 81,
      "outputs": [
        {
          "output_type": "stream",
          "name": "stdout",
          "text": [
            "\tIngresar longitud primer lado del triangulo: 10\n",
            "\tIngresar longitud segundo lado  del triangulo: 20\n",
            "\tIngresar longitud tercer lado del triangulo: 30\n",
            "\n",
            "\tLa longitud de los lados 10.0, 20.0 y 30.0 pueden formar un triángulo\n",
            "\n",
            "\tEl triángulo es escaleno\n"
          ]
        }
      ]
    },
    {
      "cell_type": "code",
      "source": [],
      "metadata": {
        "id": "zp56YrDkLpZO"
      },
      "execution_count": null,
      "outputs": []
    },
    {
      "cell_type": "markdown",
      "source": [
        "12 - Un establecimiento está vendiendo combustibles con descuentos variables. Para el etanol, si la cantidad comprada es de hasta 15 litros, el descuento será del 2% por litro. En caso contrario, será del 4% por litro. Para el diésel, si la cantidad comprada es de hasta 15 litros, el descuento será del 3% por litro. En caso contrario, será del 5% por litro. El precio por litro de diésel es de R$ 2,00 y el precio por litro de etanol es de R$ 1,70. Escribe un programa que lea la cantidad de litros vendidos y el tipo de combustible (E para etanol y D para diésel) y calcule el valor a pagar por el cliente. Ten en cuenta algunas sugerencias:\n",
        "\n",
        "El valor del descuento será el producto del precio por litro, la cantidad de litros y el valor del descuento.\n",
        "El valor a pagar por un cliente será el resultado de la multiplicación del precio por litro por la cantidad de litros menos el valor del descuento resultante del cálculo."
      ],
      "metadata": {
        "id": "nbbX5Epibwc8"
      }
    },
    {
      "cell_type": "code",
      "source": [
        "litros_vendidos = float(input(f'\\tIngresar cantidad de litros vendidos: '))\n",
        "tipo_combustible = input(f'\\tTipo de Combustible [E]-Etanol [D]-Disel: ')\n",
        "\n",
        "if tipo_combustible.upper() == 'E':\n",
        "  precio_litro = 1.70\n",
        "  if litros_vendidos <= 15:\n",
        "    descuento = 0.02\n",
        "  else:\n",
        "    descuento = 0.04\n",
        "elif tipo_combustible.upper() == 'D':\n",
        "  precio_litro = 2.00\n",
        "  if litros_vendidos <= 15:\n",
        "    descuento = 0.03\n",
        "  else:\n",
        "    descuento = 0.05\n",
        "else:\n",
        "    print('Tipo de Combustible no válido!')\n",
        "    precio_litro = 0\n",
        "    descuento = 0\n",
        "\n",
        "valor_descuento = litros_vendidos * precio_litro * descuento\n",
        "valor_pagar_cliente = litros_vendidos * precio_litro - valor_descuento\n",
        "\n",
        "print(f'\\n\\tValor a pagar cliente: R${valor_pagar_cliente}')\n",
        "print('\\n\\t-------------Detalle ---------------')\n",
        "print(f'\\n\\tTipo de Combustible: {tipo_combustible}')\n",
        "print(f'\\tLitros vendidos: {litros_vendidos}')\n",
        "print(f'\\tValor de su compra : R${litros_vendidos*precio_litro}')\n",
        "print(f'\\tDescuento aplicado a su compra : {descuento*100}% , R${valor_descuento}')"
      ],
      "metadata": {
        "id": "UinVTnl9ccIE",
        "colab": {
          "base_uri": "https://localhost:8080/"
        },
        "outputId": "3fb12f11-0a60-4510-c36d-bf14ee317b07"
      },
      "execution_count": 92,
      "outputs": [
        {
          "output_type": "stream",
          "name": "stdout",
          "text": [
            "\tIngresar cantidad de litros vendidos: 16\n",
            "\tTipo de Combustible [E]-Etanol [D]-Disel: D\n",
            "\n",
            "\tValor a pagar cliente: R$30.4\n",
            "\n",
            "\t-------------Detalle ---------------\n",
            "\n",
            "\tTipo de Combustible: D\n",
            "\tLitros vendidos: 16.0\n",
            "\tValor de su compra : R$32.0\n",
            "\tDescuento aplicado a su compra : 5.0% , R$1.6\n"
          ]
        }
      ]
    },
    {
      "cell_type": "markdown",
      "source": [
        "13 - En una empresa de venta de bienes raíces, debes crear un código que analice los datos de ventas anuales para ayudar a la dirección en la toma de decisiones. El código debe recopilar los datos de cantidad de ventas durante los años 2022 y 2023 y calcular la variación porcentual. A partir del valor de la variación, se deben proporcionar las siguientes sugerencias:\n",
        "\n",
        "Para una variación superior al 20%: bonificación para el equipo de ventas.\n",
        "Para una variación entre el 2% y el 20%: pequeña bonificación para el equipo de ventas.\n",
        "Para una variación entre el 2% y el -10%: planificación de políticas de incentivo a las ventas.\n",
        "Para bonificaciones inferiores al -10%: recorte de gastos."
      ],
      "metadata": {
        "id": "8_q8PfHSbzWz"
      }
    },
    {
      "cell_type": "code",
      "source": [
        "# Recopilar los datos de cantidad de ventas durante los años 2022 y 2023\n",
        "ventas_2022 = float(input(f'\\tIngresar cantidad de ventas durante el año 2022 :'))\n",
        "ventas_2023 = float(input(f'\\tIngresar cantidad de ventas durante el año 2023 :'))\n",
        "\n",
        "variacion_porcentual = ((ventas_2023 - ventas_2022) / ventas_2022) * 100\n",
        "print(f'\\n\\t- Variacion Porcentual {variacion_porcentual}%')\n",
        "print(f'\\t- Sugerencia:')\n",
        "if variacion_porcentual > 20 :\n",
        "  print(f'\\t  Bonificación para el equipo de ventas')\n",
        "elif variacion_porcentual >= 2 and variacion_porcentual <= 20 :\n",
        "  print(f'\\t  Pequeña bonificación para el equipo de ventas')\n",
        "elif variacion_porcentual >= -10 and variacion_porcentual < 2 :\n",
        "  print(f'\\t  Planificación de políticas de incentivo a las ventas')\n",
        "elif variacion_porcentual < -10 :\n",
        "  print(f'\\t  Recorte de gastos')\n"
      ],
      "metadata": {
        "id": "Jv8bmE1WcdTL",
        "colab": {
          "base_uri": "https://localhost:8080/"
        },
        "outputId": "13ddceb1-47d2-43bc-8101-2b59f4f6215b"
      },
      "execution_count": 110,
      "outputs": [
        {
          "output_type": "stream",
          "name": "stdout",
          "text": [
            "\tIngresar cantidad de ventas durante el año 2022 :100\n",
            "\tIngresar cantidad de ventas durante el año 2023 :110\n",
            "\n",
            "\t- Variacion Porcentual 10.0%\n",
            "\t- Sugerencia:\n",
            "\t  Pequeña bonificación para el equipo de ventas\n"
          ]
        }
      ]
    },
    {
      "cell_type": "code",
      "source": [],
      "metadata": {
        "id": "US_mFYXoVhpY"
      },
      "execution_count": null,
      "outputs": []
    }
  ]
}