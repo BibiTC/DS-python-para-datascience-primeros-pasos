{
  "cells": [
    {
      "cell_type": "markdown",
      "metadata": {
        "id": "view-in-github"
      },
      "source": [
        "<a href=\"https://colab.research.google.com/github/BibiTC/DS-python-para-datascience-primeros-pasos/blob/Aula5/Python_Data_Science.ipynb\" target=\"_parent\"><img src=\"https://colab.research.google.com/assets/colab-badge.svg\" alt=\"Open In Colab\"/></a>"
      ]
    },
    {
      "cell_type": "markdown",
      "metadata": {
        "id": "lQx6Mmv0OJyT"
      },
      "source": [
        "# Python para Data Science\n",
        "\n",
        "Notebook para el curso de Python para Data Science publicado en la plataforma de [Alura Latam](https://www.aluracursos.com/)"
      ]
    },
    {
      "cell_type": "markdown",
      "metadata": {
        "id": "7SiB6JIpYKmY"
      },
      "source": [
        "# Introducción a Python\n",
        "¡Vamos a conocer Python, nuestro ambiente de estudio, y también generaremos nuestro primer código en este lenguaje!"
      ]
    },
    {
      "cell_type": "markdown",
      "metadata": {
        "id": "Yugfb3fCOYY9"
      },
      "source": [
        "## Google Colaboratory\n",
        "\n",
        "Ya aprendimos qué es [Python](https://www.python.org/) y ahora aprenderemos a usar nuestra herramienta de ejecución [Google Colaboratory](https://colab.research.google.com/) para programar en un notebook interactivo.\n",
        "\n",
        "Vamos a probar algunas funciones de este ambiente."
      ]
    },
    {
      "cell_type": "markdown",
      "metadata": {
        "id": "2iUHQsJasJAk"
      },
      "source": [
        " **`>>> Usa esta celda para mover <<<`**"
      ]
    },
    {
      "cell_type": "code",
      "execution_count": null,
      "metadata": {
        "id": "o7jrX_iKhdkU"
      },
      "outputs": [],
      "source": []
    },
    {
      "cell_type": "markdown",
      "metadata": {
        "id": "aLSFP2V7XTfe"
      },
      "source": [
        "## ¡Hola mundo!\n",
        "\n",
        "Vamos a conocer un poco más de cerca nuestro notebook. Para ello ejecutaremos nuestro primer comando en Python: [`print()`](https://docs.python.org/3/library/functions.html#print)"
      ]
    },
    {
      "cell_type": "code",
      "execution_count": null,
      "metadata": {
        "colab": {
          "base_uri": "https://localhost:8080/"
        },
        "id": "0qZX8_ZQBYyk",
        "outputId": "e1d2b8d2-3d22-4c1b-97e3-292b846bb73d"
      },
      "outputs": [
        {
          "name": "stdout",
          "output_type": "stream",
          "text": [
            "Hola Mundo\n"
          ]
        }
      ],
      "source": [
        "print('Hola Mundo')"
      ]
    },
    {
      "cell_type": "code",
      "execution_count": null,
      "metadata": {
        "colab": {
          "base_uri": "https://localhost:8080/"
        },
        "id": "GLMzF_AKBY7a",
        "outputId": "5fc0403c-bfe1-4ae4-ccf7-b455b6f059c3"
      },
      "outputs": [
        {
          "data": {
            "text/plain": [
              "15"
            ]
          },
          "execution_count": 5,
          "metadata": {},
          "output_type": "execute_result"
        }
      ],
      "source": [
        "15"
      ]
    },
    {
      "cell_type": "code",
      "execution_count": null,
      "metadata": {
        "colab": {
          "base_uri": "https://localhost:8080/"
        },
        "id": "LZ5E4ORYSlO9",
        "outputId": "76ef6d56-af7c-478a-fa87-4523908b7e23"
      },
      "outputs": [
        {
          "name": "stdout",
          "output_type": "stream",
          "text": [
            "Mi nombre es Bibiana y tengo 4? años y me encanta la ciencia de datos\n"
          ]
        }
      ],
      "source": [
        "print('Mi nombre es Bibiana y tengo 4? años y me encanta la ciencia de datos')"
      ]
    },
    {
      "cell_type": "markdown",
      "metadata": {
        "id": "iP8uWQmFYFRs"
      },
      "source": [
        "# Manipulando los datos\n",
        "\n",
        "Vamos a aprender sobre las variables en Python, cómo declararlas y utilizarlas además de conocer otros comandos de este lenguaje. :D"
      ]
    },
    {
      "cell_type": "markdown",
      "metadata": {
        "id": "sLNVmnTbag1Z"
      },
      "source": [
        "## Variables\n",
        "\n",
        "En Data Science trabajamos con varios tipos de datos e informaciones, entonces es esencial saber cómo trabajar con las variables."
      ]
    },
    {
      "cell_type": "markdown",
      "metadata": {
        "id": "lsCY0wahAbf6"
      },
      "source": [
        "Las variables en Python se crean cuando atribuimos un valor a ella.\n",
        "\n",
        "Para esto, colocamos el nombre de la variable, el signo de igual (`=`) y el valor que queremos atribuirle."
      ]
    },
    {
      "cell_type": "code",
      "execution_count": null,
      "metadata": {
        "colab": {
          "base_uri": "https://localhost:8080/"
        },
        "id": "vsHh5buZADND",
        "outputId": "906142ac-5ea6-4737-d3c1-90f546bc29a6"
      },
      "outputs": [
        {
          "data": {
            "text/plain": [
              "5"
            ]
          },
          "execution_count": 1,
          "metadata": {},
          "output_type": "execute_result"
        }
      ],
      "source": [
        "5"
      ]
    },
    {
      "cell_type": "code",
      "execution_count": null,
      "metadata": {
        "colab": {
          "base_uri": "https://localhost:8080/"
        },
        "id": "sivPtqSjADQV",
        "outputId": "88741b60-7261-41eb-a8c1-606783cd345f"
      },
      "outputs": [
        {
          "data": {
            "text/plain": [
              "10750984"
            ]
          },
          "execution_count": 5,
          "metadata": {},
          "output_type": "execute_result"
        }
      ],
      "source": [
        "id(5)"
      ]
    },
    {
      "cell_type": "code",
      "execution_count": null,
      "metadata": {
        "id": "JC8jO47wADlm"
      },
      "outputs": [],
      "source": [
        "edad = 5"
      ]
    },
    {
      "cell_type": "code",
      "execution_count": null,
      "metadata": {
        "colab": {
          "base_uri": "https://localhost:8080/"
        },
        "id": "3vJfg9dSmu3E",
        "outputId": "0a97d26f-50f4-4604-edf4-6d5bd33e5e3c"
      },
      "outputs": [
        {
          "name": "stdout",
          "output_type": "stream",
          "text": [
            "10750984\n",
            "10750984\n"
          ]
        }
      ],
      "source": [
        "print(id(edad))\n",
        "print(id(5))"
      ]
    },
    {
      "cell_type": "code",
      "execution_count": null,
      "metadata": {
        "id": "czvMft0GmxTA"
      },
      "outputs": [],
      "source": [
        "numerocinco = 5"
      ]
    },
    {
      "cell_type": "code",
      "execution_count": null,
      "metadata": {
        "colab": {
          "base_uri": "https://localhost:8080/"
        },
        "id": "gPvjmEvHmxz7",
        "outputId": "48d8005f-7665-4646-aa88-07881fdcd06b"
      },
      "outputs": [
        {
          "data": {
            "text/plain": [
              "10750984"
            ]
          },
          "execution_count": 10,
          "metadata": {},
          "output_type": "execute_result"
        }
      ],
      "source": [
        "id(numerocinco)"
      ]
    },
    {
      "cell_type": "code",
      "execution_count": null,
      "metadata": {
        "id": "BwTC8JkepGxY"
      },
      "outputs": [],
      "source": [
        "nombre = 'Gabriel'"
      ]
    },
    {
      "cell_type": "code",
      "execution_count": null,
      "metadata": {
        "colab": {
          "base_uri": "https://localhost:8080/"
        },
        "id": "ry4ny3iRpRUU",
        "outputId": "4fa7f4dd-d884-43ed-9336-54b8876f9cfc"
      },
      "outputs": [
        {
          "data": {
            "text/plain": [
              "135768331182256"
            ]
          },
          "execution_count": 13,
          "metadata": {},
          "output_type": "execute_result"
        }
      ],
      "source": [
        "id('Gabriel')"
      ]
    },
    {
      "cell_type": "code",
      "execution_count": null,
      "metadata": {
        "colab": {
          "base_uri": "https://localhost:8080/"
        },
        "id": "VtbNH40opclh",
        "outputId": "05c46203-fce8-4989-cb79-67f7533d3990"
      },
      "outputs": [
        {
          "data": {
            "text/plain": [
              "135768331182256"
            ]
          },
          "execution_count": 14,
          "metadata": {},
          "output_type": "execute_result"
        }
      ],
      "source": [
        "id(nombre)"
      ]
    },
    {
      "cell_type": "code",
      "execution_count": null,
      "metadata": {
        "colab": {
          "base_uri": "https://localhost:8080/"
        },
        "id": "9-prii1asXCc",
        "outputId": "f544b844-3af2-4ae1-ebe4-63b3e3962cfd"
      },
      "outputs": [
        {
          "name": "stdout",
          "output_type": "stream",
          "text": [
            "10\n"
          ]
        }
      ],
      "source": [
        "# Este es un comentario de una línea\n",
        "print(10) # Podemos colocar otro comentario en una línea después de un código"
      ]
    },
    {
      "cell_type": "code",
      "execution_count": null,
      "metadata": {
        "colab": {
          "base_uri": "https://localhost:8080/",
          "height": 35
        },
        "id": "JJDwEBwisbgA",
        "outputId": "6851ca28-9c5f-4309-cc55-294648ff9caf"
      },
      "outputs": [
        {
          "data": {
            "application/vnd.google.colaboratory.intrinsic+json": {
              "type": "string"
            },
            "text/plain": [
              "'\\nEste es un comentario\\nde varias líneas.\\n'"
            ]
          },
          "execution_count": 18,
          "metadata": {},
          "output_type": "execute_result"
        }
      ],
      "source": [
        "'''\n",
        "Este es un comentario\n",
        "de varias líneas.\n",
        "'''"
      ]
    },
    {
      "cell_type": "markdown",
      "metadata": {
        "id": "om2N0jHKAzwL"
      },
      "source": [
        "Existen algunos tipos de nomes que **no** podemos definir para las variables:\n",
        "\n",
        "- **Nombres que comiencen con números**\n",
        "  - Ejemplos: `10_notas`, `2_nombre_casa`, etc.\n",
        "- **Palabras separadas por espacio**\n",
        "  - Ejemplos: `Nombre escuela`, `notas estudiantes`, etc.\n",
        "- **Nombres de funciones de Python**\n",
        "  - Ejemplos: `print`, `type`, etc."
      ]
    },
    {
      "cell_type": "code",
      "execution_count": null,
      "metadata": {
        "id": "OAByXXpupOgM"
      },
      "outputs": [],
      "source": []
    },
    {
      "cell_type": "markdown",
      "metadata": {
        "id": "A19vY2GVMujB"
      },
      "source": [
        "> Las letras mayúsculas y minúsculas generarán diferentes variables. La variable `edad` es diferente de `Edad` que a su vez es diferente de `EDAD`:\n",
        "``` Python\n",
        "edad = 1\n",
        "Edad = 2\n",
        "EDAD = 3\n",
        "_edad = 4\n",
        "_edad_ = 5\n",
        "print(edad, Edad, EDAD, _edad, _edad_)\n",
        "1 2 3 4 5\n",
        "```"
      ]
    },
    {
      "cell_type": "markdown",
      "metadata": {
        "id": "UqhzuBhBHsps"
      },
      "source": [
        "## Tipos de variables\n",
        "\n",
        "Cada variable contiene una clase específica con respecto al tipo de objeto al cual esta hace referencia. Estas clases serán diferentes de acuerdo con el tipo de dato que le sea atribuido a una variable.\n",
        "\n",
        "Para conocer la clase de cada elemento usamos la función [`type()`](https://docs.python.org/3/library/functions.html#type)"
      ]
    },
    {
      "cell_type": "code",
      "execution_count": null,
      "metadata": {
        "id": "J5a9t73A_-PX"
      },
      "outputs": [],
      "source": [
        "edad = 5"
      ]
    },
    {
      "cell_type": "code",
      "execution_count": null,
      "metadata": {
        "colab": {
          "base_uri": "https://localhost:8080/"
        },
        "id": "rqmO1ew-_-So",
        "outputId": "792379a3-b440-4012-ce7f-8f99f496ce72"
      },
      "outputs": [
        {
          "data": {
            "text/plain": [
              "int"
            ]
          },
          "execution_count": 20,
          "metadata": {},
          "output_type": "execute_result"
        }
      ],
      "source": [
        "type(edad)"
      ]
    },
    {
      "cell_type": "code",
      "execution_count": null,
      "metadata": {
        "colab": {
          "base_uri": "https://localhost:8080/"
        },
        "id": "xkrPMkeY_-cP",
        "outputId": "d5c19108-ea53-44fd-aad6-9bc59053bf4a"
      },
      "outputs": [
        {
          "data": {
            "text/plain": [
              "float"
            ]
          },
          "execution_count": 22,
          "metadata": {},
          "output_type": "execute_result"
        }
      ],
      "source": [
        "promedio = 9.5\n",
        "type(promedio)"
      ]
    },
    {
      "cell_type": "code",
      "execution_count": null,
      "metadata": {
        "colab": {
          "base_uri": "https://localhost:8080/"
        },
        "id": "bIJz4Um41mBx",
        "outputId": "dd70433e-c582-4222-8b1d-d9e4f9b4a8a9"
      },
      "outputs": [
        {
          "data": {
            "text/plain": [
              "str"
            ]
          },
          "execution_count": 24,
          "metadata": {},
          "output_type": "execute_result"
        }
      ],
      "source": [
        "nombre = \"Bibiana\"\n",
        "type('Bibiana')"
      ]
    },
    {
      "cell_type": "code",
      "execution_count": null,
      "metadata": {
        "colab": {
          "base_uri": "https://localhost:8080/"
        },
        "id": "-YW6Np7u12Lq",
        "outputId": "1e1eebcf-9931-4384-fa09-cd738ff7760a"
      },
      "outputs": [
        {
          "data": {
            "text/plain": [
              "bool"
            ]
          },
          "execution_count": 28,
          "metadata": {},
          "output_type": "execute_result"
        }
      ],
      "source": [
        "v = True\n",
        "type(v)"
      ]
    },
    {
      "cell_type": "markdown",
      "metadata": {
        "id": "O-FxDumfWu0C"
      },
      "source": [
        "En un conjunto de datos escolares podemos tener varios tipos de informaciones. Supongamos que tenemos acceso a la ficha de datos del alumno *Penélope Camacho*, cómo transformamos este nombre en variables de Python?\n",
        "\n",
        "#### Ficha:\n",
        "\n",
        "- Nombre: Penélope Camacho\n",
        "- Edad: 11 años\n",
        "- Promedio del semestre: 9,75\n",
        "- Situación de aprobación: Verdadera (aprobado)"
      ]
    },
    {
      "cell_type": "code",
      "execution_count": null,
      "metadata": {
        "colab": {
          "base_uri": "https://localhost:8080/"
        },
        "id": "FabQ7jQf_8Xt",
        "outputId": "831e8091-0003-497a-fc07-888a74fdb926"
      },
      "outputs": [
        {
          "name": "stdout",
          "output_type": "stream",
          "text": [
            "Penélope Camacho 11 9.75 True\n",
            "<class 'str'> <class 'int'> <class 'float'> <class 'bool'>\n"
          ]
        }
      ],
      "source": [
        "nombre_estudiante = 'Penélope Camacho'\n",
        "edad_estudiante = 11\n",
        "promedio_estudiante = 9.75\n",
        "aprobado = True\n",
        "\n",
        "print(nombre_estudiante,edad_estudiante,promedio_estudiante,aprobado)\n",
        "print(type(nombre_estudiante),type(edad_estudiante),type(promedio_estudiante),type(aprobado))"
      ]
    },
    {
      "cell_type": "markdown",
      "metadata": {
        "id": "KFq_8Sxf-OG0"
      },
      "source": [
        "## Variables numéricas\n",
        "\n",
        "Entre los tipos de datos numéricos vamos a enfocarnos en los tipos `entero` y `float`."
      ]
    },
    {
      "cell_type": "markdown",
      "metadata": {
        "id": "8_HYUbkVYdQY"
      },
      "source": [
        "Tenemos una tabla de información sobre los diversos cargos, cantidad de personas empleadas y el salario correspondiente:\n",
        "\n",
        "|Cargo | Cantidad | Salario|\n",
        "|---|---|---|\n",
        "|Vigilante | 5 | 300 |\n",
        "|Docente | 16| 500|\n",
        "|Coordinador| 2 |600|\n",
        "\n",
        "Necesitamos trabajar con estos datos para obtener:\n",
        "\n",
        "- La cantidad total de empleados;\n",
        "- La diferencia entre el salario más bajo y más alto; y\n",
        "- El promedio ponderado de los salarios de los empleados de la escuela."
      ]
    },
    {
      "cell_type": "code",
      "execution_count": null,
      "metadata": {
        "id": "F_X-wxdm_5Ys"
      },
      "outputs": [],
      "source": [
        "c_vigilante = 5\n",
        "s_vigilante = 300\n",
        "\n",
        "c_docentes = 16\n",
        "s_docentes = 500\n",
        "\n",
        "c_coordinador = 2\n",
        "s_coordinador = 600"
      ]
    },
    {
      "cell_type": "code",
      "execution_count": null,
      "metadata": {
        "colab": {
          "base_uri": "https://localhost:8080/"
        },
        "id": "gKmBbhII_5b9",
        "outputId": "98f83d5e-0db0-4d5d-fd30-45ace0aa19c6"
      },
      "outputs": [
        {
          "data": {
            "text/plain": [
              "23"
            ]
          },
          "execution_count": 39,
          "metadata": {},
          "output_type": "execute_result"
        }
      ],
      "source": [
        "total_empleados = c_vigilante + c_docentes + c_coordinador\n",
        "total_empleados"
      ]
    },
    {
      "cell_type": "code",
      "execution_count": null,
      "metadata": {
        "colab": {
          "base_uri": "https://localhost:8080/"
        },
        "id": "fIugsxNy_53j",
        "outputId": "48a9062b-ab97-4af4-9682-9c7d19ab3080"
      },
      "outputs": [
        {
          "data": {
            "text/plain": [
              "300"
            ]
          },
          "execution_count": 41,
          "metadata": {},
          "output_type": "execute_result"
        }
      ],
      "source": [
        "diferencia_salario = s_coordinador - s_vigilante\n",
        "diferencia_salario\n"
      ]
    },
    {
      "cell_type": "code",
      "execution_count": null,
      "metadata": {
        "colab": {
          "base_uri": "https://localhost:8080/"
        },
        "id": "g1Duc_EK4BFt",
        "outputId": "0915db14-60bd-423a-8351-e46756feae14"
      },
      "outputs": [
        {
          "data": {
            "text/plain": [
              "465.2173913043478"
            ]
          },
          "execution_count": 45,
          "metadata": {},
          "output_type": "execute_result"
        }
      ],
      "source": [
        "#El promedio ponderado de los salarios de los empleados de la escuela.\n",
        "promedio_salario = (c_vigilante * s_vigilante + c_docentes * s_docentes + c_coordinador * s_coordinador) / total_empleados\n",
        "promedio_salario"
      ]
    },
    {
      "cell_type": "code",
      "execution_count": null,
      "metadata": {
        "colab": {
          "base_uri": "https://localhost:8080/"
        },
        "id": "Cio2WtL45Mhf",
        "outputId": "9bd09dd1-05a7-41ab-bbb6-9486f638876f"
      },
      "outputs": [
        {
          "data": {
            "text/plain": [
              "float"
            ]
          },
          "execution_count": 46,
          "metadata": {},
          "output_type": "execute_result"
        }
      ],
      "source": [
        "type(promedio_salario)"
      ]
    },
    {
      "cell_type": "markdown",
      "metadata": {
        "id": "yQy7b0ZWoD-P"
      },
      "source": [
        "## Strings"
      ]
    },
    {
      "cell_type": "markdown",
      "metadata": {
        "id": "vlo2-DXusv3s"
      },
      "source": [
        "Strings hace referencia a un conjunto de caracteres formando un texto.\n",
        "\n",
        "Podemos crear Strings cuando atribuimos un dato a una variable entre comillas sencillas (`'`) o comillas dobles (`\"`)."
      ]
    },
    {
      "cell_type": "code",
      "execution_count": null,
      "metadata": {
        "colab": {
          "base_uri": "https://localhost:8080/"
        },
        "id": "ityEWqvh_2wK",
        "outputId": "d7ac6b81-acb7-486d-f2a0-2977a25996df"
      },
      "outputs": [
        {
          "data": {
            "text/plain": [
              "str"
            ]
          },
          "execution_count": 47,
          "metadata": {},
          "output_type": "execute_result"
        }
      ],
      "source": [
        "t = 'Alura'\n",
        "type(t)"
      ]
    },
    {
      "cell_type": "markdown",
      "metadata": {
        "id": "2e9UD_CCxqz_"
      },
      "source": [
        "Las variables textuales son objetos que poseen métodos que nos ayudan a formatear strings. Los métodos los podemos ejecutar al definir un objeto de acuerdo con la siguiente estructura:\n",
        "\n",
        "```\n",
        "objeto.metodo()\n",
        "```\n",
        "\n",
        "Existen métodos que no necesitan los `()`, siempre es una buena práctica verificar la documentación para cada caso."
      ]
    },
    {
      "cell_type": "markdown",
      "metadata": {
        "id": "p6aPmMGP4tf9"
      },
      "source": [
        "---\n",
        "**Situación:**\n",
        "\n",
        "Recibimos una variable con el nombre de una profesora de la escuela para añadirla a los registros. Sin embargo, necesitamos darle un tratamiento a este texto antes de insertarlo al sistema."
      ]
    },
    {
      "cell_type": "code",
      "execution_count": null,
      "metadata": {
        "colab": {
          "base_uri": "https://localhost:8080/"
        },
        "id": "icDWtYTjBO0n",
        "outputId": "68b26533-dada-4ac1-eb80-6d1f577df1d6"
      },
      "outputs": [
        {
          "data": {
            "text/plain": [
              "135768318323536"
            ]
          },
          "execution_count": 49,
          "metadata": {},
          "output_type": "execute_result"
        }
      ],
      "source": [
        "texto = '  Micaela de los Sanyos '\n",
        "id(texto)"
      ]
    },
    {
      "cell_type": "markdown",
      "metadata": {
        "id": "Dg2ZXSZOGzjC"
      },
      "source": [
        "El objetivo final es que el nombre aparezca de la siguiente forma:\n",
        "\n",
        "```\n",
        "'MICAELA DE LOS SANTOS'\n",
        "```"
      ]
    },
    {
      "cell_type": "markdown",
      "metadata": {
        "id": "iVTAD8q702eN"
      },
      "source": [
        "### [`str.upper()` ](https://docs.python.org/3/library/stdtypes.html#str.upper)\n",
        "Convierte una string a mayúsculas."
      ]
    },
    {
      "cell_type": "code",
      "execution_count": null,
      "metadata": {
        "colab": {
          "base_uri": "https://localhost:8080/",
          "height": 35
        },
        "id": "wMVshJrY_ZXh",
        "outputId": "fc0b521a-fbda-4f7c-e486-64e803503380"
      },
      "outputs": [
        {
          "data": {
            "application/vnd.google.colaboratory.intrinsic+json": {
              "type": "string"
            },
            "text/plain": [
              "'  MICAELA DE LOS SANYOS '"
            ]
          },
          "execution_count": 50,
          "metadata": {},
          "output_type": "execute_result"
        }
      ],
      "source": [
        "texto.upper()"
      ]
    },
    {
      "cell_type": "markdown",
      "metadata": {
        "id": "hbDSBtMV1TpG"
      },
      "source": [
        "### [`str.lower()`](https://docs.python.org/3/library/stdtypes.html#str.lower)\n",
        "Convierte una string a minúsculas."
      ]
    },
    {
      "cell_type": "code",
      "execution_count": null,
      "metadata": {
        "colab": {
          "base_uri": "https://localhost:8080/",
          "height": 35
        },
        "id": "px3yEeNH_YK4",
        "outputId": "f805b51b-95e9-480a-8472-f4b4f4540cbb"
      },
      "outputs": [
        {
          "data": {
            "application/vnd.google.colaboratory.intrinsic+json": {
              "type": "string"
            },
            "text/plain": [
              "'  micaela de los sanyos '"
            ]
          },
          "execution_count": 51,
          "metadata": {},
          "output_type": "execute_result"
        }
      ],
      "source": [
        "texto.lower()"
      ]
    },
    {
      "cell_type": "markdown",
      "metadata": {
        "id": "kz47eWM11gii"
      },
      "source": [
        "### [`str.strip()`](https://docs.python.org/3/library/stdtypes.html#str.strip)\n",
        "Elimina los espacios en blanco al inicio y al final de una string."
      ]
    },
    {
      "cell_type": "code",
      "execution_count": null,
      "metadata": {
        "colab": {
          "base_uri": "https://localhost:8080/",
          "height": 35
        },
        "id": "76dLgNa4_XAe",
        "outputId": "0c03c849-ad18-4b55-9c5f-68a5b763373d"
      },
      "outputs": [
        {
          "data": {
            "application/vnd.google.colaboratory.intrinsic+json": {
              "type": "string"
            },
            "text/plain": [
              "'Micaela de los Sanyos'"
            ]
          },
          "execution_count": 52,
          "metadata": {},
          "output_type": "execute_result"
        }
      ],
      "source": [
        "texto.strip()"
      ]
    },
    {
      "cell_type": "markdown",
      "metadata": {
        "id": "m6notiyS1SCV"
      },
      "source": [
        "### [`str.replace(antiguo, nuevo)`](https://docs.python.org/3/library/stdtypes.html#str.replace)\n",
        "\n",
        "Sustituye todas las ocurrencias del texto \"antiguo\" en la string por el  \"nuevo\"."
      ]
    },
    {
      "cell_type": "code",
      "execution_count": null,
      "metadata": {
        "colab": {
          "base_uri": "https://localhost:8080/",
          "height": 35
        },
        "id": "PNXAixtE_V6R",
        "outputId": "ec2fe7d4-a64b-4723-f2c0-266c7fc413af"
      },
      "outputs": [
        {
          "data": {
            "application/vnd.google.colaboratory.intrinsic+json": {
              "type": "string"
            },
            "text/plain": [
              "'  Micaela de los Santos '"
            ]
          },
          "execution_count": 53,
          "metadata": {},
          "output_type": "execute_result"
        }
      ],
      "source": [
        "texto.replace('y','t')"
      ]
    },
    {
      "cell_type": "markdown",
      "metadata": {
        "id": "zukvEjhG2Rcn"
      },
      "source": [
        "### Observaciones\n",
        "\n",
        "1. Los métodos devuelven una **tranformación**, no son ejecutados directamente sobre la variable donde está almacenado el texto.\n",
        "\n",
        "2. Adicionalmente, podemos acumular la ejecución de los métodos."
      ]
    },
    {
      "cell_type": "code",
      "execution_count": null,
      "metadata": {
        "id": "JjkBRklr_T5n"
      },
      "outputs": [],
      "source": []
    },
    {
      "cell_type": "code",
      "execution_count": null,
      "metadata": {
        "colab": {
          "base_uri": "https://localhost:8080/",
          "height": 35
        },
        "id": "hcY_DDPM80gD",
        "outputId": "a7061c29-ec06-4b2d-d78b-a7130e6ca426"
      },
      "outputs": [
        {
          "data": {
            "application/vnd.google.colaboratory.intrinsic+json": {
              "type": "string"
            },
            "text/plain": [
              "'  Micaela de los Sanyos '"
            ]
          },
          "execution_count": 57,
          "metadata": {},
          "output_type": "execute_result"
        }
      ],
      "source": [
        "texto"
      ]
    },
    {
      "cell_type": "code",
      "execution_count": null,
      "metadata": {
        "colab": {
          "base_uri": "https://localhost:8080/"
        },
        "id": "32KDtLE687Q3",
        "outputId": "01bc89c7-8c39-44d9-a60e-2d29c885b74a"
      },
      "outputs": [
        {
          "data": {
            "text/plain": [
              "135768318323536"
            ]
          },
          "execution_count": 56,
          "metadata": {},
          "output_type": "execute_result"
        }
      ],
      "source": [
        "id(texto)"
      ]
    },
    {
      "cell_type": "markdown",
      "metadata": {
        "id": "1KbwfVut2h6I"
      },
      "source": [
        "Para que la transformación se pueda ejecutar debemos atribuir la salida de las transformaciones a las variables"
      ]
    },
    {
      "cell_type": "code",
      "execution_count": null,
      "metadata": {
        "colab": {
          "base_uri": "https://localhost:8080/"
        },
        "id": "ocPP-Jaj_SJI",
        "outputId": "d0f49bba-4cca-42eb-8efe-79f69ef39eb2"
      },
      "outputs": [
        {
          "name": "stdout",
          "output_type": "stream",
          "text": [
            "MICAELA DE LOS SANTOS\n",
            "135768318323536 135768318063152\n"
          ]
        }
      ],
      "source": [
        "nuevo_texto = texto.strip().replace('y','t').upper()\n",
        "print(nuevo_texto)\n",
        "print(id(texto),id(nuevo_texto))"
      ]
    },
    {
      "cell_type": "code",
      "execution_count": null,
      "metadata": {
        "colab": {
          "base_uri": "https://localhost:8080/"
        },
        "id": "wiq5IqUd-KWf",
        "outputId": "0cc0c94d-2bfa-4fed-8ef8-d2871dac5976"
      },
      "outputs": [
        {
          "name": "stdout",
          "output_type": "stream",
          "text": [
            "MICAELA DE LOS SANTOS\n",
            "135768318326336 135768318063152\n"
          ]
        }
      ],
      "source": [
        "texto = texto.strip().replace('y','t').upper()\n",
        "print(nuevo_texto)\n",
        "print(id(texto),id(nuevo_texto))"
      ]
    },
    {
      "cell_type": "markdown",
      "metadata": {
        "id": "0h9Fh5G9kHCa"
      },
      "source": [
        "## Capturando datos\n",
        "\n",
        "En algunas aplicaciones necesitamos capturar los valores del usuario de nuestro proyecto. En python, logramos capturar los datos del usuario a través del comando [`input()`](https://docs.python.org/3/library/functions.html#input).\n",
        "\n",
        "Para ejecutar la captura debemos atribuir el resultado de esta función a una variable."
      ]
    },
    {
      "cell_type": "code",
      "execution_count": null,
      "metadata": {
        "colab": {
          "base_uri": "https://localhost:8080/"
        },
        "id": "zbH_9i3q_PdY",
        "outputId": "67d22f1e-b15b-4522-de61-a6a9b6d038e5"
      },
      "outputs": [
        {
          "name": "stdout",
          "output_type": "stream",
          "text": [
            "Escribe tu nombre: Bibiana\n"
          ]
        }
      ],
      "source": [
        "nombre = input('Escribe tu nombre: ')"
      ]
    },
    {
      "cell_type": "code",
      "execution_count": null,
      "metadata": {
        "colab": {
          "base_uri": "https://localhost:8080/"
        },
        "id": "JZy1Q9Tl_PgL",
        "outputId": "4caca194-0e4b-4abc-b167-e952c835a63c"
      },
      "outputs": [
        {
          "data": {
            "text/plain": [
              "str"
            ]
          },
          "execution_count": 3,
          "metadata": {},
          "output_type": "execute_result"
        }
      ],
      "source": [
        "type(nombre)"
      ]
    },
    {
      "cell_type": "markdown",
      "metadata": {
        "id": "7z7hcLCk_aCY"
      },
      "source": [
        "La salida de este comando siempre será una *string*. Esto quiere decir que aunque capturemos un valor de variable numérica, este será de tipo string.\n",
        "\n",
        "Entonces, será necesario **convertir el resultado cuando no se desea utilizar el valor como tipo string**."
      ]
    },
    {
      "cell_type": "markdown",
      "metadata": {
        "id": "TOlegATj1Jfp"
      },
      "source": [
        "Existen funciones para la conversión de valores:\n",
        "\n",
        "- Enteros: [`int(dato_para_conversion)`](https://docs.python.org/3/library/functions.html#int)\n",
        "- Coma flotante: [`float(dato_para_conversion)`](https://docs.python.org/3/library/functions.html#float)\n",
        "- String: [`str(dato_para_conversion)`](https://docs.python.org/3/library/functions.html#func-str)\n",
        "- Booleano: [`bool(dato_para_conversion)`](https://docs.python.org/3/library/functions.html#bool)"
      ]
    },
    {
      "cell_type": "code",
      "execution_count": null,
      "metadata": {
        "colab": {
          "base_uri": "https://localhost:8080/"
        },
        "id": "M2ueeH6l_NMe",
        "outputId": "d3d18445-bd61-4580-d37f-1199dc40ef3e"
      },
      "outputs": [
        {
          "name": "stdout",
          "output_type": "stream",
          "text": [
            "Digita el año de admisión:2023\n"
          ]
        }
      ],
      "source": [
        "ano_admision = int(input('Digita el año de admisión:'))"
      ]
    },
    {
      "cell_type": "code",
      "execution_count": null,
      "metadata": {
        "colab": {
          "base_uri": "https://localhost:8080/"
        },
        "id": "xfWwuViK_NUn",
        "outputId": "512df8fa-21a3-4ead-c4b3-6ff8bbb820dd"
      },
      "outputs": [
        {
          "data": {
            "text/plain": [
              "int"
            ]
          },
          "execution_count": 10,
          "metadata": {},
          "output_type": "execute_result"
        }
      ],
      "source": [
        "type(ano_admision)"
      ]
    },
    {
      "cell_type": "code",
      "execution_count": null,
      "metadata": {
        "colab": {
          "base_uri": "https://localhost:8080/"
        },
        "id": "uFCHDyew_NZm",
        "outputId": "feb138fe-75e2-4004-b860-caa5ac24852c"
      },
      "outputs": [
        {
          "name": "stdout",
          "output_type": "stream",
          "text": [
            "Digita el año de salida:2024\n"
          ]
        }
      ],
      "source": [
        "ano_salida = input('Digita el año de salida:')"
      ]
    },
    {
      "cell_type": "code",
      "execution_count": null,
      "metadata": {
        "colab": {
          "base_uri": "https://localhost:8080/"
        },
        "id": "QSRZa-XEdEpz",
        "outputId": "a010bc14-4eeb-4e61-8573-de63614f8f22"
      },
      "outputs": [
        {
          "data": {
            "text/plain": [
              "str"
            ]
          },
          "execution_count": 7,
          "metadata": {},
          "output_type": "execute_result"
        }
      ],
      "source": [
        "type(ano_salida)"
      ]
    },
    {
      "cell_type": "code",
      "execution_count": null,
      "metadata": {
        "colab": {
          "base_uri": "https://localhost:8080/"
        },
        "id": "Ok7s29cadddy",
        "outputId": "f9cb1dcf-001c-421f-d806-045a0c2f8bbc"
      },
      "outputs": [
        {
          "name": "stdout",
          "output_type": "stream",
          "text": [
            "Digita la nota de admisión: 9.5\n"
          ]
        }
      ],
      "source": [
        "nota_admision = float(input('Digita la nota de admisión: '))"
      ]
    },
    {
      "cell_type": "code",
      "execution_count": null,
      "metadata": {
        "colab": {
          "base_uri": "https://localhost:8080/"
        },
        "id": "5-0hOzYxdpU0",
        "outputId": "6277e766-8583-4de8-d07e-aa330699d767"
      },
      "outputs": [
        {
          "data": {
            "text/plain": [
              "float"
            ]
          },
          "execution_count": 12,
          "metadata": {},
          "output_type": "execute_result"
        }
      ],
      "source": [
        "type(nota_admision)"
      ]
    },
    {
      "cell_type": "code",
      "execution_count": null,
      "metadata": {
        "colab": {
          "base_uri": "https://localhost:8080/",
          "height": 35
        },
        "id": "X2865wOIdJKx",
        "outputId": "9dae22f4-19ad-44a3-de5c-f1f5d364f46a"
      },
      "outputs": [
        {
          "data": {
            "application/vnd.google.colaboratory.intrinsic+json": {
              "type": "string"
            },
            "text/plain": [
              "'20232024'"
            ]
          },
          "execution_count": 8,
          "metadata": {},
          "output_type": "execute_result"
        }
      ],
      "source": [
        "ano_admision+ano_salida"
      ]
    },
    {
      "cell_type": "code",
      "execution_count": null,
      "metadata": {
        "colab": {
          "base_uri": "https://localhost:8080/"
        },
        "id": "z_pTHbYqdxpo",
        "outputId": "00001900-eedb-4ced-f8e7-bd34bc857af6"
      },
      "outputs": [
        {
          "name": "stdout",
          "output_type": "stream",
          "text": [
            "\tEl año de admisión fue: 2023 \n",
            "\tLa nota de admisión fue: 9.5\n"
          ]
        }
      ],
      "source": [
        "print(f'\\tEl año de admisión fue: {ano_admision} \\n\\tLa nota de admisión fue: {nota_admision}')"
      ]
    },
    {
      "cell_type": "markdown",
      "metadata": {
        "id": "yNI2-XTbB3aS"
      },
      "source": [
        "Trataremos de representar mejor ahora el resultado de la transformación que obtuvimos. Nosotros podemos formatear y presentar nuestro resultado mezclando strings con valores no textuales.\n",
        "\n",
        "Para ello utilizamos la estructura de formatación `f` con strings."
      ]
    },
    {
      "cell_type": "code",
      "execution_count": null,
      "metadata": {
        "colab": {
          "base_uri": "https://localhost:8080/",
          "height": 35
        },
        "id": "keJjA5N9_K5i",
        "outputId": "9074a8ea-4d33-4643-9e22-29a5c39aff95"
      },
      "outputs": [
        {
          "data": {
            "application/vnd.google.colaboratory.intrinsic+json": {
              "type": "string"
            },
            "text/plain": [
              "'@'"
            ]
          },
          "execution_count": 17,
          "metadata": {},
          "output_type": "execute_result"
        }
      ],
      "source": [
        "chr(64)"
      ]
    },
    {
      "cell_type": "code",
      "execution_count": null,
      "metadata": {
        "colab": {
          "base_uri": "https://localhost:8080/",
          "height": 35
        },
        "id": "TDTTVJgugRwZ",
        "outputId": "85b58144-5dbc-47d3-dda4-c228ab1a45b6"
      },
      "outputs": [
        {
          "data": {
            "application/vnd.google.colaboratory.intrinsic+json": {
              "type": "string"
            },
            "text/plain": [
              "'Hola'"
            ]
          },
          "execution_count": 18,
          "metadata": {},
          "output_type": "execute_result"
        }
      ],
      "source": [
        "chr(72)+chr(111)+chr(108)+chr(97)"
      ]
    },
    {
      "cell_type": "markdown",
      "metadata": {
        "id": "NwRaiHHHhhyl"
      },
      "source": [
        "# Estructuras condicionales"
      ]
    },
    {
      "cell_type": "code",
      "execution_count": null,
      "metadata": {
        "colab": {
          "base_uri": "https://localhost:8080/",
          "height": 35
        },
        "id": "pa4gLncu-mvU",
        "outputId": "c1882da2-4576-4c72-b5cb-e3d619f044d6"
      },
      "outputs": [
        {
          "data": {
            "application/vnd.google.colaboratory.intrinsic+json": {
              "type": "string"
            },
            "text/plain": [
              "'\\nSi la nota es mayor o igual a 7 entonces el estudiante aprueba\\nSi no, el estudiante rerpueba\\n'"
            ]
          },
          "execution_count": 19,
          "metadata": {},
          "output_type": "execute_result"
        }
      ],
      "source": [
        "# Nota de probación va a ser entre 7 y 10 == nota de aprobación >= 7\n",
        "# Nota de reprobación es menor a  7 == nota de reaprobación < 7\n",
        "\n",
        "\"\"\"\n",
        "Si la nota es mayor o igual a 7 entonces el estudiante aprueba\n",
        "Si no, el estudiante rerpueba\n",
        "\"\"\"\n",
        "\n"
      ]
    },
    {
      "cell_type": "code",
      "execution_count": null,
      "metadata": {
        "id": "_cWRmDiE-m4p"
      },
      "outputs": [],
      "source": []
    },
    {
      "cell_type": "markdown",
      "metadata": {
        "id": "qXZqg9aYEhAh"
      },
      "source": [
        "## `IF` y `ELSE`\n",
        "\n",
        "Los comandos `if` y `else` son dos estructuras condicionales. El comando `if` ejecutará el bloque de comandos en caso de que la condición citada sea  **verdadera**. El comando `else` ejecutará el bloque de comandos en el caso de que la condicional de `if` sea **falsa**."
      ]
    },
    {
      "cell_type": "markdown",
      "metadata": {
        "id": "EIhlqHXd2Gil"
      },
      "source": [
        "El comando `if` es una palabra clave en Python que significa \"si\". Este se emplea para conformar la estructura condicional, que te permite verificar si una determinada condición es verdadera o falsa e, inmediatamente después, ejecute un bloque de código específico dependiendo del resultado de la verificación. La sintaxis para usar el comando `if` es:\n",
        "\n",
        "\n",
        "\n",
        "```\n",
        "if condicion:\n",
        "    # Realiza algo\n",
        "```\n",
        "\n"
      ]
    },
    {
      "cell_type": "code",
      "execution_count": null,
      "metadata": {
        "colab": {
          "base_uri": "https://localhost:8080/"
        },
        "id": "S2S6XAFz-czM",
        "outputId": "67f328db-1ed0-4af5-8030-c0245370dcdc"
      },
      "outputs": [
        {
          "name": "stdout",
          "output_type": "stream",
          "text": [
            "La condición es verdadera\n"
          ]
        }
      ],
      "source": [
        "if 2 < 7:\n",
        "  print('La condición es verdadera')"
      ]
    },
    {
      "cell_type": "code",
      "execution_count": null,
      "metadata": {
        "colab": {
          "base_uri": "https://localhost:8080/"
        },
        "id": "YHkwMMyY-c1r",
        "outputId": "94199f95-b59a-4188-d01c-bb4f142e3871"
      },
      "outputs": [
        {
          "name": "stdout",
          "output_type": "stream",
          "text": [
            "Fin de la consulta\n"
          ]
        }
      ],
      "source": [
        "if 2 > 7:\n",
        "  print('La condición es verdadera')\n",
        "print('Fin de la consulta')"
      ]
    },
    {
      "cell_type": "markdown",
      "metadata": {
        "id": "27RW2v_sIKct"
      },
      "source": [
        "Ya el comando `else` en Python se usa en junción con la palabra clave `if` para formar una estructura condicional. la sintaxis para usar el `else` es:\n",
        "\n",
        "```\n",
        "if condicion:\n",
        "  # codigo en caso de que sea verdad\n",
        "else:\n",
        "  # codigo en caso de que sea falso\n",
        "```\n",
        "\n",
        "el comando `else` se ejecuta cuando la condición verificada por el `if` es evaluada como `False`."
      ]
    },
    {
      "cell_type": "code",
      "execution_count": null,
      "metadata": {
        "colab": {
          "base_uri": "https://localhost:8080/"
        },
        "id": "ZTfNJd_f-aOq",
        "outputId": "f6016182-e079-45fa-de20-03eb25766194"
      },
      "outputs": [
        {
          "name": "stdout",
          "output_type": "stream",
          "text": [
            "La condición es falsa\n"
          ]
        }
      ],
      "source": [
        "if 2 > 7:\n",
        "  print('La condición es verdadera')\n",
        "else:\n",
        "  print('La condición es falsa')"
      ]
    },
    {
      "cell_type": "code",
      "execution_count": null,
      "metadata": {
        "id": "LPOb5MkV-btq"
      },
      "outputs": [],
      "source": []
    },
    {
      "cell_type": "markdown",
      "metadata": {
        "id": "BqORg85XX-Nl"
      },
      "source": [
        "---\n",
        "**Situación:**\n",
        "\n",
        "Recibiremos el promedio de la nota de los estudiantes y necesitamos de un algoritmo que ejecute el análisis y determine si el estudiante fue **Aprobado** o **Reprobado**, mostrando un mensaje del resultado. Para ser aprobado, el promedio necesita ser igual o superior a 7.0."
      ]
    },
    {
      "cell_type": "code",
      "execution_count": null,
      "metadata": {
        "colab": {
          "base_uri": "https://localhost:8080/"
        },
        "id": "UukCN4AQ-YYW",
        "outputId": "f8c89e6e-a834-462d-8aaa-7079a27a3f9c"
      },
      "outputs": [
        {
          "name": "stdout",
          "output_type": "stream",
          "text": [
            "Digita la nota8\n",
            "Aprobó\n"
          ]
        }
      ],
      "source": [
        "nota = float(input('Digita la nota'))\n",
        "\n",
        "if nota >= 7:\n",
        "  print('Aprobó')\n",
        "else:\n",
        "  print('Reprobó')"
      ]
    },
    {
      "cell_type": "code",
      "execution_count": null,
      "metadata": {
        "id": "X0o8FW1H-YkA"
      },
      "outputs": [],
      "source": []
    },
    {
      "cell_type": "markdown",
      "metadata": {
        "id": "bD9O17HB6LUo"
      },
      "source": [
        "Ahora, nuestra institución educativa estableció que las personas que tengan el promedio entre 5.0 y 7.0 pueden participar del curso de **Recuperación** durante las vacaciones para lograr aprobar.\n",
        "\n",
        "Entonces podemos apoyarnos en un conjunto de `if`s para poder estructurar esta nueva condición."
      ]
    },
    {
      "cell_type": "code",
      "execution_count": null,
      "metadata": {
        "colab": {
          "base_uri": "https://localhost:8080/"
        },
        "id": "G9cJ5O9--W52",
        "outputId": "8f86d14d-ee84-4cd6-d595-05956ad208de"
      },
      "outputs": [
        {
          "name": "stdout",
          "output_type": "stream",
          "text": [
            "Digita la nota: 7\n",
            "Aprobó\n"
          ]
        }
      ],
      "source": [
        "nota = float(input('Digita la nota: '))\n",
        "\n",
        "if nota >= 7:\n",
        "  print('Aprobó')\n",
        "if 7 > nota >= 5:\n",
        "  print('Recuperación')\n",
        "if nota < 5:\n",
        "  print('Reprobó')"
      ]
    },
    {
      "cell_type": "markdown",
      "metadata": {
        "id": "D5e2mByjvycO"
      },
      "source": [
        "Observa que en casos con 3 situaciones como este necesitamos definir bien nuestras condiciones. Pues, si realizamos una condición con `else` al final, este irá a considerar solamente la condición `if` inmediatamente anterior para generar la salida en caso de que el resultado de su operación lógica sea **falso** dando como resultado, dos o más ejecuciones.\n",
        "\n",
        "Por ejemplo:"
      ]
    },
    {
      "cell_type": "code",
      "execution_count": null,
      "metadata": {
        "colab": {
          "base_uri": "https://localhost:8080/"
        },
        "id": "C21JmOuK-VU8",
        "outputId": "9da7ada6-6c33-4866-9389-3fb5ca81ad05"
      },
      "outputs": [
        {
          "name": "stdout",
          "output_type": "stream",
          "text": [
            "Digita la nota: 8\n",
            "Aprobó\n",
            "Reprobó\n"
          ]
        }
      ],
      "source": [
        "nota = float(input('Digita la nota: '))\n",
        "\n",
        "if nota >= 7:\n",
        "  print('Aprobó')\n",
        "if 7 > nota >= 5:\n",
        "  print('Recuperación')\n",
        "else:\n",
        "  print('Reprobó')"
      ]
    },
    {
      "cell_type": "code",
      "execution_count": null,
      "metadata": {
        "id": "bHiVgnPs-Vlv"
      },
      "outputs": [],
      "source": []
    },
    {
      "cell_type": "markdown",
      "metadata": {
        "id": "04T5g-7h4zWx"
      },
      "source": [
        "## `ELIF`\n",
        "\n",
        "El comando `elif` es una palabra clave en Python que significa \"si no, si\" y lo podemos considerar una *contracción* entre `else` e `if`. Se utiliza en conjunto con la palabra clave `if` para formar una estructura condicional en cadena."
      ]
    },
    {
      "cell_type": "markdown",
      "metadata": {
        "id": "rNBHr5mm1Lm6"
      },
      "source": [
        "la sintaxis para utilizar el comando `elif` es:\n",
        "\n",
        "```\n",
        "if condicion1:\n",
        "    # Realiza algo\n",
        "elif condicion2:\n",
        "    # Realiza otra cosa\n",
        "elif condicion3:\n",
        "    # Realiza otra cosa\n",
        "else:\n",
        "    # Realiza algo diferente\n",
        "```\n",
        "\n",
        "El comando `elif` permite que puedas verificar varias condiciones en cadena, economizando espacio en tu código. Si la primera condición se evalúa como `False`, el interpretador de Python evaluará la próxima condición con el `elif`. Ello continuará hasta que una condición sea evaluada como `True` o hasta que el `else` sea alcazado. Si ninguna de las condiciones es evaluada como `True`, la ejecución del código del comando `else` será iniciada."
      ]
    },
    {
      "cell_type": "markdown",
      "metadata": {
        "id": "MVoykFbB4bd4"
      },
      "source": [
        "Vamos a emplear el mismo caso anterior:"
      ]
    },
    {
      "cell_type": "code",
      "execution_count": null,
      "metadata": {
        "colab": {
          "base_uri": "https://localhost:8080/"
        },
        "id": "QFamB78s-TW_",
        "outputId": "7d21a83e-00a4-4665-d517-ac34e3a4993a"
      },
      "outputs": [
        {
          "name": "stdout",
          "output_type": "stream",
          "text": [
            "Digita la nota: 7\n",
            "Aprobó\n"
          ]
        }
      ],
      "source": [
        "nota = float(input('Digita la nota: '))\n",
        "\n",
        "if nota >= 7:\n",
        "  print('Aprobó')\n",
        "elif 7 > nota >= 5:\n",
        "  print('Recuperación')\n",
        "else:\n",
        "  print('Reprobó')"
      ]
    },
    {
      "cell_type": "code",
      "execution_count": null,
      "metadata": {
        "id": "nuScbnHF-TfK"
      },
      "outputs": [],
      "source": []
    },
    {
      "cell_type": "markdown",
      "metadata": {
        "id": "Tf1wSOem6iwZ"
      },
      "source": [
        "## Operadores\n",
        "\n",
        "Durante la construcción de comandos a veces necesitamos de una elaboración mayor de la expresión condicional, necesitando que algunos operadores lógicos se encuentren integrados."
      ]
    },
    {
      "cell_type": "markdown",
      "metadata": {
        "id": "GFIZnRWXGPWO"
      },
      "source": [
        "### `AND`, `OR`, `NOT`\n",
        "\n",
        "Los operadores lógicos `and`, `or` y `not` son usados para combinar expresiones lógicas en Python. Ellos son usados frecuentemente en conjunto con el comando `if` para crear estructuras condicionales más complejas.\n"
      ]
    },
    {
      "cell_type": "markdown",
      "metadata": {
        "id": "Z_dgAoHXJbzB"
      },
      "source": [
        "- `AND` es usado para verificar si dos condiciones son verdaderas. La expresión lógica¹ `x and y` se evalúa como `True` tan solo si **ambas condiciones `x` y `y` son verdaderas**, y como `False` en caso contrario.\n",
        "\n",
        "- `OR` es usado para verificar si al menos una de las condiciones es verdadera. La expresión lógica `x or y` se evalúa como `True` **si al menos una de las condiciones `x` o `y` es verdadera**, y como `False` si ambas condiciones son falsas.\n",
        "\n",
        "- `NOT` es usado para **negar una condición**. La expresión lógica `not x` es evaluada como `True` si la condición x es falsa, y como `False` si la condición x es verdadera.\n",
        "\n",
        "¹ Una expresión lógica es una declaración que puede ser evaluada como verdadera o falsa. Ella se compone por operandos lógicos² y por operadores lógicos³, que son usados ​​para combinar varias expresiones lógicas en una única expresión.\n",
        "\n",
        "² Los operandos lógicos son los elementos que son comparados o evaluados en una expresión lógica. Ellos son generalmente valores verdaderos o falsos, pero también pueden ser expresiones lógicas más complejas. En Python, los operandos lógicos son los valores `True` y `False`.\n",
        "\n",
        "³ Los operadores lógicos son ls símbolos o palabras clave que son usados ​​para combinar varias expresiones lógicas en una única expresión. En Python, los operadores lógicos son `and`, `or` y `not`, bien como las palabras clave `if`, `elif` e `else`."
      ]
    },
    {
      "cell_type": "markdown",
      "metadata": {
        "id": "2E5aUogf-49u"
      },
      "source": [
        "> Operadores lógicos más comunes\n",
        "\n",
        "|a|b|AND|OR|NOT|\n",
        "|-|-|-|-|-|\n",
        "|0|0|0|0|1\n",
        "|0|1|0|1|-\n",
        "|1|0|0|1|-\n",
        "|1|1|1|1|0\n"
      ]
    },
    {
      "cell_type": "code",
      "execution_count": null,
      "metadata": {
        "id": "DFKmpvmS-Pa6"
      },
      "outputs": [],
      "source": [
        "v = True\n",
        "f = False"
      ]
    },
    {
      "cell_type": "code",
      "execution_count": null,
      "metadata": {
        "colab": {
          "base_uri": "https://localhost:8080/"
        },
        "id": "W5BIrpOD-PeI",
        "outputId": "42134fab-c472-48c7-fd6e-24709de9852b"
      },
      "outputs": [
        {
          "name": "stdout",
          "output_type": "stream",
          "text": [
            "La condicion en falsa\n"
          ]
        }
      ],
      "source": [
        "if f and f:\n",
        "  print('La condición es verdadera')\n",
        "else:\n",
        "  print('La condicion en falsa')"
      ]
    },
    {
      "cell_type": "code",
      "execution_count": null,
      "metadata": {
        "colab": {
          "base_uri": "https://localhost:8080/"
        },
        "id": "fpDhYxq4-PiM",
        "outputId": "c9c88d98-c04b-402b-cc0b-04389ccf4e71"
      },
      "outputs": [
        {
          "name": "stdout",
          "output_type": "stream",
          "text": [
            "La condición es verdadera\n"
          ]
        }
      ],
      "source": [
        "if f or v:\n",
        "  print('La condición es verdadera')\n",
        "else:\n",
        "  print('La condicion en falsa')"
      ]
    },
    {
      "cell_type": "code",
      "execution_count": null,
      "metadata": {
        "colab": {
          "base_uri": "https://localhost:8080/"
        },
        "id": "puvFoS9_Y0TV",
        "outputId": "9cb5c9b0-cf41-4016-b969-cbecb2c08186"
      },
      "outputs": [
        {
          "name": "stdout",
          "output_type": "stream",
          "text": [
            "La condición es verdadera\n"
          ]
        }
      ],
      "source": [
        "if not f:\n",
        "  print('La condición es verdadera')\n",
        "else:\n",
        "  print('La condicion en falsa')"
      ]
    },
    {
      "cell_type": "markdown",
      "metadata": {
        "id": "w7EXG1dhWtja"
      },
      "source": [
        "### `IN`\n",
        "\n",
        "Es usado para verificar si un elemento está presente en una lista, tupla u otra colección de conjunto. La expresión `x in y` se evalúa como `True` si el elemento `x` esta presente na variávelen la variable de conjunto `y`, y como `False` en caso contrario."
      ]
    },
    {
      "cell_type": "markdown",
      "metadata": {
        "id": "enJNp6JenQbq"
      },
      "source": [
        "Podemos verificarlo con variables de texto.\n",
        "\n",
        "---\n",
        "\n",
        "**Situación:**\n",
        "\n",
        "En la escuela nos entregaron una lista con nombres de estudiantes que fueron aprobados según el promedio del semestre, pero es necesario verificar si algunos nombres están en esa lista para confirmar que los datos estén correctos.\n",
        "\n",
        "La lista distribuida puede ser observada a continuación:\n",
        "\n",
        "```\n",
        "lista = 'Juan Pérez, María González, Pedro Rodríguez, Ana López, Carlos Martínez,\n",
        "    Laura Sánchez, José García, Elena Fernández, Luis Morales, Carmen Torres,\n",
        "    David Ruiz, Isabel Ramírez, Javier Díaz, Sara Herrera, Miguel Castro,\n",
        "    Patricia Ortega, Francisco Vargas, Marta Jiménez, Manuel Medina, Rosa Molina,\n",
        "    Alejandro Silva, Silvia Ruiz, Andrés Torres, Natalia Soto, Diego Guerrero,\n",
        "    Paula Ríos, Ricardo Navarro, Alicia Cordero, Carlos Vidal, Lorena Gómez'\n",
        "```\n",
        "\n",
        "Los nombres que necesitas verificar son los siguientes:\n",
        "\n",
        "```\n",
        "nombre_1 = 'Miguel Castro'\n",
        "nombre_2 = 'Marcelo Noguera'\n",
        "```"
      ]
    },
    {
      "cell_type": "code",
      "execution_count": null,
      "metadata": {
        "id": "gPPN9BCT-Mki"
      },
      "outputs": [],
      "source": [
        "lista = 'Juan Pérez, María González, Pedro Rodríguez, Ana López, Carlos Martínez,Laura Sánchez, José García, Elena Fernández, Luis Morales, Carmen Torres,David Ruiz, Isabel Ramírez, Javier Díaz, Sara Herrera, Miguel Castro,Patricia Ortega, Francisco Vargas, Marta Jiménez, Manuel Medina, Rosa Molina,Alejandro Silva, Silvia Ruiz, Andrés Torres, Natalia Soto, Diego Guerrero,Paula Ríos, Ricardo Navarro, Alicia Cordero, Carlos Vidal, Lorena Gómez '"
      ]
    },
    {
      "cell_type": "code",
      "execution_count": null,
      "metadata": {
        "id": "GINbG3Fa-Mnb"
      },
      "outputs": [],
      "source": [
        "nombre_1 = 'Miguel Castro'\n",
        "nombre_2 = 'Marcelo Noguera'"
      ]
    },
    {
      "cell_type": "code",
      "execution_count": null,
      "metadata": {
        "colab": {
          "base_uri": "https://localhost:8080/"
        },
        "id": "hk-RhNRT-Mp7",
        "outputId": "c73139bc-c388-45f6-ca54-2c5937746a86"
      },
      "outputs": [
        {
          "name": "stdout",
          "output_type": "stream",
          "text": [
            "El Estudiante reaprobó.\n"
          ]
        }
      ],
      "source": [
        "if nombre_2 in lista:\n",
        "  print('El Estudiante aprobó.')\n",
        "else:\n",
        "  print('El Estudiante reaprobó.')"
      ]
    },
    {
      "cell_type": "markdown",
      "metadata": {
        "id": "aL1vJPewvwvz"
      },
      "source": [
        "# Estructuras de repetición"
      ]
    },
    {
      "cell_type": "markdown",
      "metadata": {
        "id": "VcPfCa8d-84t"
      },
      "source": [
        "Cuando tenemos que ejecutar un mismo bloque de comandos durante varias ocasiones no es nada práctico hacerlo a mano.\n",
        "\n",
        "**Situación**: Nos fue solicitado obtener e imprimir el promedio de 2 notas de **3 estudantes**:"
      ]
    },
    {
      "cell_type": "code",
      "execution_count": null,
      "metadata": {
        "colab": {
          "base_uri": "https://localhost:8080/"
        },
        "id": "xcx21IGT9qA0",
        "outputId": "23ddf116-b56a-407b-c376-d722d88c868c"
      },
      "outputs": [
        {
          "name": "stdout",
          "output_type": "stream",
          "text": [
            "Digita la primera nota: 6.5\n",
            "Digita la segunda nota: 8.6\n",
            "El promedio del estudiante 1 es: 7.55\n",
            "Digita la primera nota: 8.3\n",
            "Digita la segunda nota: 9\n",
            "El promedio del estudiante 2 es: 8.65\n",
            "Digita la primera nota: 3\n",
            "Digita la segunda nota: 10\n",
            "El promedio del estudiante 3 es: 6.5\n"
          ]
        }
      ],
      "source": [
        "nota_1 = float(input('Digita la primera nota: '))\n",
        "nota_2 = float(input('Digita la segunda nota: '))\n",
        "print(f'El promedio del estudiante 1 es: {(nota_1+nota_2)/2}')\n",
        "\n",
        "nota_1 = float(input('Digita la primera nota: '))\n",
        "nota_2 = float(input('Digita la segunda nota: '))\n",
        "print(f'El promedio del estudiante 2 es: {(nota_1+nota_2)/2}')\n",
        "\n",
        "nota_1 = float(input('Digita la primera nota: '))\n",
        "nota_2 = float(input('Digita la segunda nota: '))\n",
        "print(f'El promedio del estudiante 3 es: {(nota_1+nota_2)/2}')"
      ]
    },
    {
      "cell_type": "markdown",
      "metadata": {
        "id": "9puIuvUbFSFX"
      },
      "source": [
        "Ahora imaginemos una situación en que no son tan solo 3 estudiantes, sino 100 estudiantes. No sería nada interesante repetir el mismo código 100 veces, sino **ejecutar el mismo código 100 veces**.\n",
        "\n",
        "¡Esta estructura la logramos construir con lazos de repetición!"
      ]
    },
    {
      "cell_type": "markdown",
      "metadata": {
        "id": "uLO9-aE4-wx8"
      },
      "source": [
        "## `WHILE`"
      ]
    },
    {
      "cell_type": "markdown",
      "metadata": {
        "id": "rXZxDMiqHxm9"
      },
      "source": [
        "El lazo `while` es una estructura de control de repetición en Python que permite ejecutar un bloque de código repetidamente mientras que una determinada condición sea verdadera. Su estructura es:\n",
        "\n",
        "\n",
        "\n",
        "```\n",
        "while condicion:\n",
        "    # bloque de codigo\n",
        "```\n",
        "\n",
        "Vamos a construir un ejemplo con un contador de 1 hasta 10.\n"
      ]
    },
    {
      "cell_type": "code",
      "execution_count": null,
      "metadata": {
        "colab": {
          "base_uri": "https://localhost:8080/"
        },
        "id": "Hd0ZSWxD9wCD",
        "outputId": "90fdc6a3-1c45-49de-8dc0-5d7fd528f0b3"
      },
      "outputs": [
        {
          "name": "stdout",
          "output_type": "stream",
          "text": [
            "1\n",
            "2\n",
            "3\n",
            "4\n",
            "5\n",
            "6\n",
            "7\n",
            "8\n",
            "9\n",
            "10\n"
          ]
        }
      ],
      "source": [
        "contador = 1\n",
        "\n",
        "while contador <= 10:\n",
        "  print(contador)\n",
        "  #contador = contador + 1\n",
        "  contador += 1"
      ]
    },
    {
      "cell_type": "markdown",
      "metadata": {
        "id": "W4KZPBJuIrut"
      },
      "source": [
        "Ahora vamos a colectar las notas y promedios de cada alumno dentro del lazo `while`. Haremos un ejemplo con 3 promedios."
      ]
    },
    {
      "cell_type": "code",
      "execution_count": null,
      "metadata": {
        "colab": {
          "base_uri": "https://localhost:8080/"
        },
        "id": "9T5eCLFx9wk6",
        "outputId": "e9a6967f-8591-4684-927f-2d39fcdac89d"
      },
      "outputs": [
        {
          "name": "stdout",
          "output_type": "stream",
          "text": [
            "Digita la primera nota: 8.5\n",
            "Digita la segunda nota: 5.7\n",
            "El promedio del estudiante 1 es: 7.1\n",
            "Digita la primera nota: 6.5\n",
            "Digita la segunda nota: 10\n",
            "El promedio del estudiante 1 es: 8.25\n",
            "Digita la primera nota: 9\n",
            "Digita la segunda nota: 7\n",
            "El promedio del estudiante 1 es: 8.0\n"
          ]
        }
      ],
      "source": [
        "contador = 1\n",
        "while contador <= 3:\n",
        "  nota_1 = float(input('Digita la primera nota: '))\n",
        "  nota_2 = float(input('Digita la segunda nota: '))\n",
        "  print(f'El promedio del estudiante 1 es: {(nota_1+nota_2)/2}')\n",
        "\n",
        "  contador +=1\n"
      ]
    },
    {
      "cell_type": "code",
      "execution_count": null,
      "metadata": {
        "colab": {
          "base_uri": "https://localhost:8080/"
        },
        "id": "P6E0_dW-9lZ9",
        "outputId": "fc34893d-2d91-48f3-befe-b6ba523f018a"
      },
      "outputs": [
        {
          "name": "stdout",
          "output_type": "stream",
          "text": [
            "101\n",
            "100\n",
            "300\n",
            "150.0\n",
            "75.0\n",
            "1.0\n"
          ]
        }
      ],
      "source": [
        "precio = 100\n",
        "\n",
        "precio +=1\n",
        "print(precio)\n",
        "precio -=1\n",
        "print(precio)\n",
        "precio *=3\n",
        "print(precio)\n",
        "precio /=2\n",
        "print(precio)\n",
        "precio //=2\n",
        "print(precio)\n",
        "precio %=2\n",
        "print(precio)"
      ]
    },
    {
      "cell_type": "markdown",
      "metadata": {
        "id": "WgAIaENMMfCP"
      },
      "source": [
        "## `FOR`"
      ]
    },
    {
      "cell_type": "markdown",
      "metadata": {
        "id": "HxrSZoRAMh-x"
      },
      "source": [
        "El lazo `for` es un tipo de estructura de control de flujo en Python que permite iterar sobre un conjunto de elementos. Su estructura es:\n",
        "\n",
        "\n",
        "\n",
        "```\n",
        "for elemento in conjunto:\n",
        "    # codigo a ser ejecutado para cada elemento\n",
        "```\n",
        "\n",
        "El lazo `for` itera sobre cada elemento del conjunto especificado y ejecuta el bloque de código dentro del lazo para cada elemento. Cuando el lazo llega al final del conjunto, este se interrumpe y el programa continúa la ejecución después del lazo.\n",
        "\n"
      ]
    },
    {
      "cell_type": "markdown",
      "metadata": {
        "id": "6VgjyoQtPHBM"
      },
      "source": [
        "El conjunto lo podemos generar con la función incorporada [`range()`](https://docs.python.org/3/library/functions.html#func-range). Se trata de una función capaz de generar una secuencia de números enteros. La estructura de esta función es:\n",
        "\n",
        "```\n",
        "range(inicio, fin, paso)\n",
        "```\n",
        "\n",
        "Según la documentación, `range()` genera una secuencia de números enteros a partir del valor del parámetro `inicio` hasta el valor del parámetro `fin`, de acuerdo con el valor del parámetro `paso`. Si `inicio` no es especificado, el valor por defecto es `0`. Si `paso` no es especificado, el valor por defecto es `1`.\n",
        "\n",
        "\n"
      ]
    },
    {
      "cell_type": "markdown",
      "metadata": {
        "id": "ryn0hfdlUwC8"
      },
      "source": [
        "Vamos a recrear el mismo contador `while` con el lazo `for`."
      ]
    },
    {
      "cell_type": "code",
      "execution_count": null,
      "metadata": {
        "colab": {
          "base_uri": "https://localhost:8080/"
        },
        "id": "KkL1wUIj9jL4",
        "outputId": "1244b7a4-f945-476d-afd1-7a3326618d70"
      },
      "outputs": [
        {
          "name": "stdout",
          "output_type": "stream",
          "text": [
            "1\n",
            "2\n",
            "3\n",
            "4\n",
            "5\n",
            "6\n",
            "7\n",
            "8\n",
            "9\n",
            "10\n"
          ]
        }
      ],
      "source": [
        "for n in range(1,11):\n",
        "  print(n)"
      ]
    },
    {
      "cell_type": "code",
      "execution_count": null,
      "metadata": {
        "colab": {
          "base_uri": "https://localhost:8080/"
        },
        "id": "uXIZnLSr9jOu",
        "outputId": "95bb9afb-9799-4c59-8182-d18d87497684"
      },
      "outputs": [
        {
          "name": "stdout",
          "output_type": "stream",
          "text": [
            "Digita la primera nota: 7\n",
            "Digita la segunda nota: 8\n",
            "El promedio del estudiante 1 es: 7.5\n",
            "Digita la primera nota: 8\n",
            "Digita la segunda nota: 9\n",
            "El promedio del estudiante 1 es: 8.5\n",
            "Digita la primera nota: 10\n",
            "Digita la segunda nota: 5\n",
            "El promedio del estudiante 1 es: 7.5\n"
          ]
        }
      ],
      "source": [
        "for e in range(1,4):\n",
        "  nota_1 = float(input('Digita la primera nota: '))\n",
        "  nota_2 = float(input('Digita la segunda nota: '))\n",
        "  print(f'El promedio del estudiante 1 es: {(nota_1+nota_2)/2}')\n"
      ]
    },
    {
      "cell_type": "code",
      "execution_count": null,
      "metadata": {
        "colab": {
          "base_uri": "https://localhost:8080/"
        },
        "id": "kUDQkGxYFocY",
        "outputId": "5ac29cae-07d6-4556-8704-a2256653c1e0"
      },
      "outputs": [
        {
          "name": "stdout",
          "output_type": "stream",
          "text": [
            "Digite la cantidad de propiedades en el año 2017: 20\n",
            "Digite la cantidad de propiedades en el año 2018: 30\n",
            "Digite la cantidad de propiedades en el año 2019: 40\n",
            "Digite la cantidad de propiedades en el año 2020: 50\n",
            "Digite la cantidad de propiedades en el año 2021: 60\n",
            "Digite la cantidad de propiedades en el año 2022: 70\n",
            "Total de propiedades construidas: 270.0 propiedades\n"
          ]
        }
      ],
      "source": [
        "total_propiedades = 0\n",
        "año = 2017\n",
        "\n",
        "while año <= 2022:\n",
        " cantidad_propiedades = float(input(f'Digite la cantidad de propiedades en el año {año}: '))\n",
        " total_propiedades += cantidad_propiedades\n",
        " año += 1\n",
        "\n",
        "print(f'Total de propiedades construidas: {total_propiedades} propiedades')"
      ]
    },
    {
      "cell_type": "code",
      "execution_count": null,
      "metadata": {
        "colab": {
          "base_uri": "https://localhost:8080/"
        },
        "id": "yNv09j_jGdzm",
        "outputId": "248573e2-d22f-4260-cc04-5c0ca134c51b"
      },
      "outputs": [
        {
          "name": "stdout",
          "output_type": "stream",
          "text": [
            "Digite la cantidad de propiedades en el año 2017: 1\n",
            "Digite la cantidad de propiedades en el año 2018: 1\n",
            "Digite la cantidad de propiedades en el año 2019: 1\n",
            "Digite la cantidad de propiedades en el año 2020: 1\n",
            "Digite la cantidad de propiedades en el año 2021: 1\n",
            "Digite la cantidad de propiedades en el año 2022: 1\n",
            "Total de propiedades construidas: 6.0 propiedades\n"
          ]
        }
      ],
      "source": [
        "total_propiedades = 0\n",
        "\n",
        "for año in range(2017, 2023):\n",
        "  cantidad_propiedades = float(input(f'Digite la cantidad de propiedades en el año {año}: '))\n",
        "  total_propiedades += cantidad_propiedades\n",
        "\n",
        "print(f'Total de propiedades construidas: {total_propiedades} propiedades')1"
      ]
    },
    {
      "cell_type": "code",
      "execution_count": null,
      "metadata": {
        "colab": {
          "base_uri": "https://localhost:8080/"
        },
        "id": "c7diGLAxHkrs",
        "outputId": "78811c35-e9af-4e39-8fdd-fc1604888d0c"
      },
      "outputs": [
        {
          "name": "stdout",
          "output_type": "stream",
          "text": [
            "1\n",
            "2\n",
            "3\n",
            "5\n"
          ]
        }
      ],
      "source": [
        "for i in range(1, 6):\n",
        "    if i == 4:\n",
        "        continue\n",
        "    print(i)"
      ]
    },
    {
      "cell_type": "code",
      "execution_count": null,
      "metadata": {
        "colab": {
          "base_uri": "https://localhost:8080/"
        },
        "id": "9N0d7N4sHtun",
        "outputId": "c7313a21-9a79-4729-891a-9ef44a056653"
      },
      "outputs": [
        {
          "name": "stdout",
          "output_type": "stream",
          "text": [
            "1\n",
            "2\n",
            "3\n"
          ]
        }
      ],
      "source": [
        "for i in range(1, 6):\n",
        "    if i == 4:\n",
        "        break\n",
        "    print(i)"
      ]
    },
    {
      "cell_type": "markdown",
      "metadata": {
        "id": "8noP8OJ0Vhux"
      },
      "source": [
        "# Estructuras de datos"
      ]
    },
    {
      "cell_type": "markdown",
      "metadata": {
        "id": "xpEUkefTu8fY"
      },
      "source": [
        "Un conjunto de elementos es una colección de items, que son almacenados juntos de manera organizada. Algunos ejemplos de conjuntos de elementos en Python son las listas, los strings y los diccionarios."
      ]
    },
    {
      "cell_type": "markdown",
      "metadata": {
        "id": "THSg4KYLwxIb"
      },
      "source": [
        "## Listas"
      ]
    },
    {
      "cell_type": "markdown",
      "metadata": {
        "id": "dzpsiqrOyJcK"
      },
      "source": [
        "Las listas pueden almacenar una colección de items en orden. Ellas son delimitadas por corchetes `[]` y sus elementos son separados por comas.\n",
        "\n",
        "Estas pueden almacenar cualquier tipo de items, incluyendo números, strings, objetos, otras listas, entre otros. También nos permiten almacenar items de tipos de datos diferentes juntos en una única lista."
      ]
    },
    {
      "cell_type": "code",
      "execution_count": null,
      "metadata": {
        "colab": {
          "base_uri": "https://localhost:8080/"
        },
<<<<<<< HEAD
        "id": "DO3TBj7nAYeG",
=======
>>>>>>> be20b7033bcb01fd9d984b41422fb69a8529360c
        "outputId": "88c60738-4b75-4fad-d643-5304119d0461"
      },
      "outputs": [
        {
          "data": {
            "text/plain": [
              "['Penélope Camacho', 9.5, 9.0, 9.7, True]"
            ]
          },
          "execution_count": 2,
          "metadata": {},
<<<<<<< HEAD
          "output_type": "execute_result"
=======
          "execution_count": 2
>>>>>>> be20b7033bcb01fd9d984b41422fb69a8529360c
        }
      ],
      "source": [
        "lista = ['Penélope Camacho',9.5,9.0,9.7,True]\n",
        "lista"
      ]
    },
    {
      "cell_type": "code",
<<<<<<< HEAD
      "execution_count": null,
      "metadata": {
        "colab": {
          "base_uri": "https://localhost:8080/"
        },
        "id": "DO2ubP9N9D_2",
        "outputId": "ca621f62-cd72-419b-f2ba-1fa19c91b3d9"
      },
      "outputs": [
        {
=======
      "source": [
        "type(lista)"
      ],
      "metadata": {
        "id": "DO2ubP9N9D_2",
        "colab": {
          "base_uri": "https://localhost:8080/"
        },
        "outputId": "ca621f62-cd72-419b-f2ba-1fa19c91b3d9"
      },
      "execution_count": null,
      "outputs": [
        {
          "output_type": "execute_result",
>>>>>>> be20b7033bcb01fd9d984b41422fb69a8529360c
          "data": {
            "text/plain": [
              "list"
            ]
          },
<<<<<<< HEAD
          "execution_count": 3,
          "metadata": {},
          "output_type": "execute_result"
        }
      ],
      "source": [
        "type(lista)"
=======
          "metadata": {},
          "execution_count": 3
        }
>>>>>>> be20b7033bcb01fd9d984b41422fb69a8529360c
      ]
    },
    {
      "cell_type": "markdown",
      "metadata": {
        "id": "qUz3sJNl6LgK"
      },
      "source": [
        "Las listas son organizadas en Python porque **cada elemento de la lista tiene un índice que indica su posición al interior de la lista**. Los índices comienzan en 0 van hasta el tamaño de la lista menos 1."
      ]
    },
    {
      "cell_type": "markdown",
      "metadata": {
        "id": "rLf-Qg526hFD"
      },
      "source": [
        "Tenemos entonces 5 elementos con índices que varían de 0 a 4, ordenadamente:\n",
        "\n",
        "```\n",
        "#             [0]           [1]   [2]   [3]    [4]\n",
        "lista = ['Penélope Camacho', 9.5 , 9.0 , 9.7 , True]\n",
        "```\n",
        "\n",
        "En Python tenemos también los índices **negativos** que se inician en el último elemento con el valor de `-1` y avanzan en el universo de los negativos hasta llegar al 1° elemento:\n",
        "\n",
        "```\n",
        "#             [-5]         [-4]  [-3]  [-2]   [-1]\n",
        "lista = ['Penélope Camacho', 9.5 , 9.0 , 9.7 , True]\n",
        "```\n",
        "\n",
        "Logramos seleccionar separadamente cada elemento a través de sus respectivos índices. Colocando el nombre de la lista y en seguida el índice que será seleccionado."
      ]
    },
    {
      "cell_type": "code",
      "execution_count": null,
      "metadata": {
        "colab": {
          "base_uri": "https://localhost:8080/",
          "height": 36
        },
        "id": "4hco1Zqy88Kw",
        "outputId": "0354ef8e-9c23-4853-a414-5a3703383616"
      },
      "outputs": [
        {
          "data": {
            "application/vnd.google.colaboratory.intrinsic+json": {
              "type": "string"
            },
            "text/plain": [
              "'Penélope Camacho'"
            ]
          },
          "execution_count": 4,
          "metadata": {},
          "output_type": "execute_result"
        }
      ],
      "source": [
        "lista[0]"
      ]
    },
    {
      "cell_type": "code",
<<<<<<< HEAD
      "execution_count": null,
      "metadata": {
        "colab": {
          "base_uri": "https://localhost:8080/"
        },
        "id": "M8lH0I2288Ph",
        "outputId": "9685ee09-80a3-4036-c42b-80046382ba4d"
      },
      "outputs": [
        {
          "data": {
            "text/plain": [
              "str"
            ]
          },
          "execution_count": 5,
          "metadata": {},
          "output_type": "execute_result"
        }
      ],
      "source": [
        "type(lista[0])"
=======
      "source": [
        "lista[0]"
      ],
      "metadata": {
        "id": "4hco1Zqy88Kw",
        "colab": {
          "base_uri": "https://localhost:8080/",
          "height": 36
        },
        "outputId": "0354ef8e-9c23-4853-a414-5a3703383616"
      },
      "execution_count": null,
      "outputs": [
        {
          "output_type": "execute_result",
          "data": {
            "text/plain": [
              "'Penélope Camacho'"
            ],
            "application/vnd.google.colaboratory.intrinsic+json": {
              "type": "string"
            }
          },
          "metadata": {},
          "execution_count": 4
        }
>>>>>>> be20b7033bcb01fd9d984b41422fb69a8529360c
      ]
    },
    {
      "cell_type": "code",
<<<<<<< HEAD
      "execution_count": null,
=======
      "source": [
        "type(lista[0])"
      ],
      "metadata": {
        "id": "M8lH0I2288Ph",
        "colab": {
          "base_uri": "https://localhost:8080/"
        },
        "outputId": "9685ee09-80a3-4036-c42b-80046382ba4d"
      },
      "execution_count": null,
      "outputs": [
        {
          "output_type": "execute_result",
          "data": {
            "text/plain": [
              "str"
            ]
          },
          "metadata": {},
          "execution_count": 5
        }
      ]
    },
    {
      "cell_type": "code",
      "source": [
        "type(lista[1])"
      ],
>>>>>>> be20b7033bcb01fd9d984b41422fb69a8529360c
      "metadata": {
        "colab": {
          "base_uri": "https://localhost:8080/"
        },
        "id": "6Dg5WLXVWCgj",
        "outputId": "9b5662cb-7ce6-4088-9b0e-0816b91a6fb7"
      },
<<<<<<< HEAD
      "outputs": [
        {
=======
      "execution_count": null,
      "outputs": [
        {
          "output_type": "execute_result",
>>>>>>> be20b7033bcb01fd9d984b41422fb69a8529360c
          "data": {
            "text/plain": [
              "float"
            ]
          },
<<<<<<< HEAD
          "execution_count": 6,
          "metadata": {},
          "output_type": "execute_result"
        }
      ],
      "source": [
        "type(lista[1])"
=======
          "metadata": {},
          "execution_count": 6
        }
>>>>>>> be20b7033bcb01fd9d984b41422fb69a8529360c
      ]
    },
    {
      "cell_type": "code",
<<<<<<< HEAD
      "execution_count": null,
=======
      "source": [
        "type(lista[-1])"
      ],
>>>>>>> be20b7033bcb01fd9d984b41422fb69a8529360c
      "metadata": {
        "colab": {
          "base_uri": "https://localhost:8080/"
        },
        "id": "62c8MToFWGxj",
        "outputId": "de54da1a-2e81-4038-cee4-6c7868ad83a5"
      },
<<<<<<< HEAD
      "outputs": [
        {
=======
      "execution_count": null,
      "outputs": [
        {
          "output_type": "execute_result",
>>>>>>> be20b7033bcb01fd9d984b41422fb69a8529360c
          "data": {
            "text/plain": [
              "bool"
            ]
          },
<<<<<<< HEAD
          "execution_count": 7,
          "metadata": {},
          "output_type": "execute_result"
        }
      ],
      "source": [
        "type(lista[-1])"
=======
          "metadata": {},
          "execution_count": 7
        }
>>>>>>> be20b7033bcb01fd9d984b41422fb69a8529360c
      ]
    },
    {
      "cell_type": "markdown",
      "metadata": {
        "id": "6TaE1ijmBTCd"
      },
      "source": [
        "Una forma más dinámica de trabajar item a item en una lista es utilizando un lazo `for` para leer un elemento a la vez."
      ]
    },
    {
      "cell_type": "code",
<<<<<<< HEAD
      "execution_count": null,
      "metadata": {
        "colab": {
          "base_uri": "https://localhost:8080/"
        },
        "id": "rBx4Yu1786Sy",
        "outputId": "7c8711be-28d8-492d-beeb-db651de73161"
      },
      "outputs": [
        {
          "name": "stdout",
          "output_type": "stream",
=======
      "source": [
        "for elemento in lista:\n",
        "  print(elemento)"
      ],
      "metadata": {
        "id": "rBx4Yu1786Sy",
        "colab": {
          "base_uri": "https://localhost:8080/"
        },
        "outputId": "7c8711be-28d8-492d-beeb-db651de73161"
      },
      "execution_count": null,
      "outputs": [
        {
          "output_type": "stream",
          "name": "stdout",
>>>>>>> be20b7033bcb01fd9d984b41422fb69a8529360c
          "text": [
            "Penélope Camacho\n",
            "9.5\n",
            "9.0\n",
            "9.7\n",
            "True\n"
          ]
        }
<<<<<<< HEAD
      ],
      "source": [
        "for elemento in lista:\n",
        "  print(elemento)"
=======
>>>>>>> be20b7033bcb01fd9d984b41422fb69a8529360c
      ]
    },
    {
      "cell_type": "markdown",
      "metadata": {
        "id": "Dh1_HnIVvucY"
      },
      "source": [
        "**Situación**: La nota `9.0` de Penélope necesita ser ajustada pues ganó 1 punto en su última nota por participación en clase. Entonces es necesario realizar un cambio en el índice `2` de `9.0` a `10.0`."
      ]
    },
    {
      "cell_type": "code",
<<<<<<< HEAD
      "execution_count": null,
=======
      "source": [
        "lista[2] = 10.0"
      ],
>>>>>>> be20b7033bcb01fd9d984b41422fb69a8529360c
      "metadata": {
        "id": "bVPoZg668z3T"
      },
      "outputs": [],
      "source": [
        "lista[2] = 10.0"
      ]
    },
    {
      "cell_type": "code",
<<<<<<< HEAD
      "execution_count": null,
      "metadata": {
        "colab": {
          "base_uri": "https://localhost:8080/"
        },
        "id": "Jo_PBQ0g8z7D",
        "outputId": "d58b95da-3217-406b-b4c0-164cb80672b1"
      },
      "outputs": [
        {
=======
      "source": [
        "lista"
      ],
      "metadata": {
        "id": "Jo_PBQ0g8z7D",
        "colab": {
          "base_uri": "https://localhost:8080/"
        },
        "outputId": "d58b95da-3217-406b-b4c0-164cb80672b1"
      },
      "execution_count": null,
      "outputs": [
        {
          "output_type": "execute_result",
>>>>>>> be20b7033bcb01fd9d984b41422fb69a8529360c
          "data": {
            "text/plain": [
              "['Penélope Camacho', 9.5, 10.0, 9.7, True]"
            ]
          },
<<<<<<< HEAD
          "execution_count": 12,
          "metadata": {},
          "output_type": "execute_result"
        }
      ],
      "source": [
        "lista"
=======
          "metadata": {},
          "execution_count": 12
        }
>>>>>>> be20b7033bcb01fd9d984b41422fb69a8529360c
      ]
    },
    {
      "cell_type": "markdown",
      "metadata": {
        "id": "53XduzXkycAf"
      },
      "source": [
        "También podemos calcular el promedio del estudiante a partir de los datos que tenemos."
      ]
    },
    {
      "cell_type": "code",
<<<<<<< HEAD
=======
      "source": [
        "promedio = (lista[1]+lista[2]+lista[3])/3\n",
        "promedio\n"
      ],
      "metadata": {
        "id": "SIH61Rrb8yv4",
        "colab": {
          "base_uri": "https://localhost:8080/"
        },
        "outputId": "7dc42495-eb02-47aa-80e5-d5fe90629a99"
      },
      "execution_count": null,
      "outputs": [
        {
          "output_type": "execute_result",
          "data": {
            "text/plain": [
              "9.4"
            ]
          },
          "metadata": {},
          "execution_count": 4
        }
      ]
    },
    {
      "cell_type": "code",
      "source": [
        "lenguaje = 'Python'"
      ],
      "metadata": {
        "id": "I7yI1lUmYzX7"
      },
>>>>>>> be20b7033bcb01fd9d984b41422fb69a8529360c
      "execution_count": null,
      "metadata": {
        "colab": {
          "base_uri": "https://localhost:8080/"
        },
        "id": "SIH61Rrb8yv4",
        "outputId": "7dc42495-eb02-47aa-80e5-d5fe90629a99"
      },
      "outputs": [
        {
          "data": {
            "text/plain": [
              "9.4"
            ]
          },
          "execution_count": 4,
          "metadata": {},
          "output_type": "execute_result"
        }
      ],
      "source": [
        "promedio = (lista[1]+lista[2]+lista[3])/3\n",
        "promedio\n"
      ]
    },
    {
      "cell_type": "code",
      "execution_count": null,
      "metadata": {
        "id": "I7yI1lUmYzX7"
      },
      "outputs": [],
      "source": [
        "lenguaje = 'Python'"
      ]
    },
    {
      "cell_type": "code",
      "execution_count": null,
      "metadata": {
        "colab": {
          "base_uri": "https://localhost:8080/"
        },
        "id": "hd1_h0TMY7Tw",
        "outputId": "6fa3ec77-cf90-41bc-820e-b619390880fc"
      },
      "outputs": [
        {
          "name": "stdout",
          "output_type": "stream",
          "text": [
            "P y t h o n\n"
          ]
        }
      ],
      "source": [
        "print(lenguaje[0], lenguaje[1], lenguaje[2], lenguaje[-3], lenguaje[-2], lenguaje[-1])"
      ]
    },
    {
      "cell_type": "code",
      "execution_count": null,
      "metadata": {
        "colab": {
          "base_uri": "https://localhost:8080/"
        },
        "id": "4XNGe01xajn3",
        "outputId": "dcf8083a-caed-41f5-9a0f-77b7ca2ed616"
      },
      "outputs": [
        {
          "name": "stdout",
          "output_type": "stream",
          "text": [
            "['¿Quién vino primero', ' ¿El huevo', ' ¿O fue la serpiente', '']\n"
          ]
        }
      ],
      "source": [
        "pregunta = '¿Quién vino primero? ¿El huevo? ¿O fue la serpiente?'\n",
        "lista_palabras = pregunta.split('?')\n",
        "print(lista_palabras)"
      ]
    },
    {
      "cell_type": "code",
      "execution_count": null,
      "metadata": {
        "colab": {
          "base_uri": "https://localhost:8080/"
        },
        "id": "EGnpqTlYalee",
        "outputId": "3d09d09d-27e2-4b58-9e8d-f1fbd3738ac0"
      },
      "outputs": [
        {
          "name": "stdout",
          "output_type": "stream",
          "text": [
            "['¿Quién', 'vino', 'primero?', '¿El', 'huevo?', '¿O', 'fue', 'la', 'serpiente?']\n"
          ]
        }
      ],
      "source": [
        "pregunta = '¿Quién vino primero? ¿El huevo? ¿O fue la serpiente?'\n",
        "lista_palabras = pregunta.split()\n",
        "print(lista_palabras)"
      ]
    },
    {
      "cell_type": "code",
      "execution_count": null,
      "metadata": {
        "colab": {
          "base_uri": "https://localhost:8080/"
        },
        "id": "2VhoCtZObFKe",
        "outputId": "c0329a37-8daa-4d43-a7af-77e0cfd82da1"
      },
      "outputs": [
        {
          "name": "stdout",
          "output_type": "stream",
          "text": [
            "Pinturas: rojo, azul y amarillo. Verde: mezcla de azul y amarillo. Naranja: mezcla de rojo y amarillo. Morado: mezcla de rojo y azul\n"
          ]
        }
      ],
      "source": [
        "mezclas = ['Pinturas: rojo, azul y amarillo',\n",
        "            'Verde: mezcla de azul y amarillo',\n",
        "            'Naranja: mezcla de rojo y amarillo',\n",
        "            'Morado: mezcla de rojo y azul']\n",
        "unificador = '. '\n",
        "cadena_mezclas = unificador.join(mezclas)\n",
        "print(cadena_mezclas)"
      ]
    },
    {
      "cell_type": "code",
      "source": [
        "print(lenguaje[0], lenguaje[1], lenguaje[2], lenguaje[-3], lenguaje[-2], lenguaje[-1])"
      ],
      "metadata": {
        "colab": {
          "base_uri": "https://localhost:8080/"
        },
        "id": "hd1_h0TMY7Tw",
        "outputId": "6fa3ec77-cf90-41bc-820e-b619390880fc"
      },
      "execution_count": null,
      "outputs": [
        {
          "output_type": "stream",
          "name": "stdout",
          "text": [
            "P y t h o n\n"
          ]
        }
      ]
    },
    {
      "cell_type": "code",
      "source": [
        "pregunta = '¿Quién vino primero? ¿El huevo? ¿O fue la serpiente?'\n",
        "lista_palabras = pregunta.split('?')\n",
        "print(lista_palabras)"
      ],
      "metadata": {
        "colab": {
          "base_uri": "https://localhost:8080/"
        },
        "id": "4XNGe01xajn3",
        "outputId": "dcf8083a-caed-41f5-9a0f-77b7ca2ed616"
      },
      "execution_count": null,
      "outputs": [
        {
          "output_type": "stream",
          "name": "stdout",
          "text": [
            "['¿Quién vino primero', ' ¿El huevo', ' ¿O fue la serpiente', '']\n"
          ]
        }
      ]
    },
    {
      "cell_type": "code",
      "source": [
        "pregunta = '¿Quién vino primero? ¿El huevo? ¿O fue la serpiente?'\n",
        "lista_palabras = pregunta.split()\n",
        "print(lista_palabras)"
      ],
      "metadata": {
        "colab": {
          "base_uri": "https://localhost:8080/"
        },
        "id": "EGnpqTlYalee",
        "outputId": "3d09d09d-27e2-4b58-9e8d-f1fbd3738ac0"
      },
      "execution_count": null,
      "outputs": [
        {
          "output_type": "stream",
          "name": "stdout",
          "text": [
            "['¿Quién', 'vino', 'primero?', '¿El', 'huevo?', '¿O', 'fue', 'la', 'serpiente?']\n"
          ]
        }
      ]
    },
    {
      "cell_type": "code",
      "source": [
        "mezclas = ['Pinturas: rojo, azul y amarillo',\n",
        "            'Verde: mezcla de azul y amarillo',\n",
        "            'Naranja: mezcla de rojo y amarillo',\n",
        "            'Morado: mezcla de rojo y azul']\n",
        "unificador = '. '\n",
        "cadena_mezclas = unificador.join(mezclas)\n",
        "print(cadena_mezclas)"
      ],
      "metadata": {
        "colab": {
          "base_uri": "https://localhost:8080/"
        },
        "id": "2VhoCtZObFKe",
        "outputId": "c0329a37-8daa-4d43-a7af-77e0cfd82da1"
      },
      "execution_count": null,
      "outputs": [
        {
          "output_type": "stream",
          "name": "stdout",
          "text": [
            "Pinturas: rojo, azul y amarillo. Verde: mezcla de azul y amarillo. Naranja: mezcla de rojo y amarillo. Morado: mezcla de rojo y azul\n"
          ]
        }
      ]
    },
    {
      "cell_type": "markdown",
      "metadata": {
        "id": "d-iYr10-y4qw"
      },
      "source": [
        "## Manipulación de listas\n",
        "\n",
        "Las listas son muy útiles en Python porque nos permiten almacenar y acceder a una colección de items de manera organizada y rápida. Estas también ofrecen muchos métodos útiles para manipular los itens almacenados, como adicionar, remover, clasificar y buscar elementos."
      ]
    },
    {
      "cell_type": "markdown",
      "metadata": {
        "id": "ZLqx9A97XVB_"
      },
      "source": [
        "#### Cantidad de elementos\n",
        "\n",
        "Usamos la función [`len()`](https://docs.python.org/3/library/functions.html#len) para descubrir la cantidad de elementos de un conjunto."
      ]
    },
    {
      "cell_type": "code",
<<<<<<< HEAD
      "execution_count": null,
      "metadata": {
        "colab": {
          "base_uri": "https://localhost:8080/"
        },
        "id": "6q1Tmm7P8wQf",
        "outputId": "bf0d9417-c531-49fb-84b3-989a86adacda"
      },
      "outputs": [
        {
=======
      "source": [
        "len(lista)"
      ],
      "metadata": {
        "id": "6q1Tmm7P8wQf",
        "colab": {
          "base_uri": "https://localhost:8080/"
        },
        "outputId": "bf0d9417-c531-49fb-84b3-989a86adacda"
      },
      "execution_count": null,
      "outputs": [
        {
          "output_type": "execute_result",
>>>>>>> be20b7033bcb01fd9d984b41422fb69a8529360c
          "data": {
            "text/plain": [
              "5"
            ]
          },
<<<<<<< HEAD
          "execution_count": 10,
          "metadata": {},
          "output_type": "execute_result"
        }
      ],
      "source": [
        "len(lista)"
=======
          "metadata": {},
          "execution_count": 10
        }
>>>>>>> be20b7033bcb01fd9d984b41422fb69a8529360c
      ]
    },
    {
      "cell_type": "markdown",
      "metadata": {
        "id": "Z5tpstlHJss3"
      },
      "source": [
        "#### Partición\n",
        "\n",
        "La partición de listas por indexación en Python es una técnica muy útil para seleccionar un subconjunto de elementos de una lista. Esta se realiza usando la sintaxis `lista[inicio:fin]`, donde `inicio` es el índice del primer elemento que será incluído en la partición `fin` es el índice del primer elemento que será excluído de la partición."
      ]
    },
    {
      "cell_type": "code",
      "execution_count": null,
      "metadata": {
        "colab": {
          "base_uri": "https://localhost:8080/"
        },
        "id": "NctvJTTU8uV9",
        "outputId": "a4ef4e70-0a7d-4221-e966-0ada899828e7"
      },
      "outputs": [
        {
          "data": {
            "text/plain": [
              "['Penélope Camacho', 9.5]"
            ]
          },
          "execution_count": 11,
          "metadata": {},
          "output_type": "execute_result"
        }
      ],
      "source": [
        "lista[0:2]"
      ]
    },
    {
      "cell_type": "code",
<<<<<<< HEAD
      "execution_count": null,
      "metadata": {
        "colab": {
          "base_uri": "https://localhost:8080/"
        },
        "id": "bQZUwldj8uY2",
        "outputId": "0193149f-f011-484f-f418-0e4c60115a2d"
      },
      "outputs": [
        {
          "data": {
            "text/plain": [
              "['Penélope Camacho', 9.5, 9.0]"
            ]
          },
          "execution_count": 12,
          "metadata": {},
          "output_type": "execute_result"
        }
      ],
      "source": [
        "lista[:3]"
=======
      "source": [
        "lista[0:2]"
      ],
      "metadata": {
        "id": "NctvJTTU8uV9",
        "colab": {
          "base_uri": "https://localhost:8080/"
        },
        "outputId": "a4ef4e70-0a7d-4221-e966-0ada899828e7"
      },
      "execution_count": null,
      "outputs": [
        {
          "output_type": "execute_result",
          "data": {
            "text/plain": [
              "['Penélope Camacho', 9.5]"
            ]
          },
          "metadata": {},
          "execution_count": 11
        }
>>>>>>> be20b7033bcb01fd9d984b41422fb69a8529360c
      ]
    },
    {
      "cell_type": "code",
<<<<<<< HEAD
      "execution_count": null,
=======
      "source": [
        "lista[:3]"
      ],
      "metadata": {
        "id": "bQZUwldj8uY2",
        "colab": {
          "base_uri": "https://localhost:8080/"
        },
        "outputId": "0193149f-f011-484f-f418-0e4c60115a2d"
      },
      "execution_count": null,
      "outputs": [
        {
          "output_type": "execute_result",
          "data": {
            "text/plain": [
              "['Penélope Camacho', 9.5, 9.0]"
            ]
          },
          "metadata": {},
          "execution_count": 12
        }
      ]
    },
    {
      "cell_type": "code",
      "source": [
        "lista[3:]"
      ],
>>>>>>> be20b7033bcb01fd9d984b41422fb69a8529360c
      "metadata": {
        "colab": {
          "base_uri": "https://localhost:8080/"
        },
        "id": "foL0HJ2gfQ-7",
        "outputId": "6e800aaa-7a43-4537-89cd-b8995994c74b"
      },
<<<<<<< HEAD
      "outputs": [
        {
=======
      "execution_count": null,
      "outputs": [
        {
          "output_type": "execute_result",
>>>>>>> be20b7033bcb01fd9d984b41422fb69a8529360c
          "data": {
            "text/plain": [
              "[9.7, True]"
            ]
          },
<<<<<<< HEAD
          "execution_count": 13,
          "metadata": {},
          "output_type": "execute_result"
        }
      ],
      "source": [
        "lista[3:]"
=======
          "metadata": {},
          "execution_count": 13
        }
>>>>>>> be20b7033bcb01fd9d984b41422fb69a8529360c
      ]
    },
    {
      "cell_type": "code",
<<<<<<< HEAD
      "execution_count": null,
=======
      "source": [
        "lista[:]"
      ],
>>>>>>> be20b7033bcb01fd9d984b41422fb69a8529360c
      "metadata": {
        "colab": {
          "base_uri": "https://localhost:8080/"
        },
        "id": "3riq9z0NgEso",
        "outputId": "8272a0aa-5bcc-4e7d-b288-b58e580becae"
      },
<<<<<<< HEAD
      "outputs": [
        {
=======
      "execution_count": null,
      "outputs": [
        {
          "output_type": "execute_result",
>>>>>>> be20b7033bcb01fd9d984b41422fb69a8529360c
          "data": {
            "text/plain": [
              "['Penélope Camacho', 9.5, 9.0, 9.7, True]"
            ]
          },
<<<<<<< HEAD
          "execution_count": 14,
          "metadata": {},
          "output_type": "execute_result"
        }
      ],
      "source": [
        "lista[:]"
=======
          "metadata": {},
          "execution_count": 14
        }
>>>>>>> be20b7033bcb01fd9d984b41422fb69a8529360c
      ]
    },
    {
      "cell_type": "code",
<<<<<<< HEAD
      "execution_count": null,
=======
      "source": [
        "lista"
      ],
>>>>>>> be20b7033bcb01fd9d984b41422fb69a8529360c
      "metadata": {
        "colab": {
          "base_uri": "https://localhost:8080/"
        },
        "id": "1dp-eFCadiWz",
        "outputId": "42b6fe63-56c3-46f1-fe1f-f8f11442e70a"
      },
<<<<<<< HEAD
      "outputs": [
        {
=======
      "execution_count": null,
      "outputs": [
        {
          "output_type": "execute_result",
>>>>>>> be20b7033bcb01fd9d984b41422fb69a8529360c
          "data": {
            "text/plain": [
              "['Penélope Camacho', 9.5, 9.0, 9.7, True]"
            ]
          },
<<<<<<< HEAD
          "execution_count": 15,
          "metadata": {},
          "output_type": "execute_result"
        }
      ],
      "source": [
        "lista"
=======
          "metadata": {},
          "execution_count": 15
        }
>>>>>>> be20b7033bcb01fd9d984b41422fb69a8529360c
      ]
    },
    {
      "cell_type": "markdown",
      "metadata": {
        "id": "O0RRyabkRzZC"
      },
      "source": [
        "#### [`append()`](https://docs.python.org/3/tutorial/datastructures.html#:~:text=of%20list%20objects%3A-,list.append(x),-Add%20an%20item)\n",
        "\n",
        "Añade un elemento al final de la lista."
      ]
    },
    {
      "cell_type": "code",
<<<<<<< HEAD
      "execution_count": null,
=======
      "source": [
        "lista.append(promedio)"
      ],
>>>>>>> be20b7033bcb01fd9d984b41422fb69a8529360c
      "metadata": {
        "id": "_Q0oODwa8spC"
      },
      "outputs": [],
      "source": [
        "lista.append(promedio)"
      ]
    },
    {
      "cell_type": "code",
<<<<<<< HEAD
      "execution_count": null,
      "metadata": {
        "colab": {
          "base_uri": "https://localhost:8080/"
        },
        "id": "RM894r2M8sse",
        "outputId": "fe4a2036-5512-4141-b37c-52e0eaf80962"
      },
      "outputs": [
        {
=======
      "source": [
        "lista"
      ],
      "metadata": {
        "id": "RM894r2M8sse",
        "colab": {
          "base_uri": "https://localhost:8080/"
        },
        "outputId": "fe4a2036-5512-4141-b37c-52e0eaf80962"
      },
      "execution_count": null,
      "outputs": [
        {
          "output_type": "execute_result",
>>>>>>> be20b7033bcb01fd9d984b41422fb69a8529360c
          "data": {
            "text/plain": [
              "['Penélope Camacho', 9.5, 9.0, 9.7, True, 9.4]"
            ]
          },
<<<<<<< HEAD
          "execution_count": 17,
          "metadata": {},
          "output_type": "execute_result"
        }
      ],
      "source": [
        "lista"
=======
          "metadata": {},
          "execution_count": 17
        }
>>>>>>> be20b7033bcb01fd9d984b41422fb69a8529360c
      ]
    },
    {
      "cell_type": "markdown",
      "metadata": {
        "id": "uQV91XMsUOJD"
      },
      "source": [
        "#### [`extend()`](https://docs.python.org/3/tutorial/datastructures.html#:~:text=list.extend(iterable))\n",
        "\n",
        "Añade varios elementos al final de la lista.\n",
        "\n",
        "Añadiremos las notas `[10.0,8.0,9.0]` En la lista de Penélope Camacho."
      ]
    },
    {
      "cell_type": "code",
<<<<<<< HEAD
      "execution_count": null,
=======
      "source": [
        "lista.extend([10.0,8.0,9.0])"
      ],
>>>>>>> be20b7033bcb01fd9d984b41422fb69a8529360c
      "metadata": {
        "id": "6Zk2MpMw8rQc"
      },
      "outputs": [],
      "source": [
        "lista.extend([10.0,8.0,9.0])"
      ]
    },
    {
      "cell_type": "code",
<<<<<<< HEAD
      "execution_count": null,
      "metadata": {
        "colab": {
          "base_uri": "https://localhost:8080/"
        },
        "id": "NnoKkoWb8rTQ",
        "outputId": "2f09b52c-fb15-4787-e0b0-ba1c90523769"
      },
      "outputs": [
        {
=======
      "source": [
        "lista"
      ],
      "metadata": {
        "id": "NnoKkoWb8rTQ",
        "colab": {
          "base_uri": "https://localhost:8080/"
        },
        "outputId": "2f09b52c-fb15-4787-e0b0-ba1c90523769"
      },
      "execution_count": null,
      "outputs": [
        {
          "output_type": "execute_result",
>>>>>>> be20b7033bcb01fd9d984b41422fb69a8529360c
          "data": {
            "text/plain": [
              "['Penélope Camacho', 9.5, 9.0, 9.7, True, 9.4, 10.0, 8.0, 9.0]"
            ]
          },
<<<<<<< HEAD
          "execution_count": 19,
          "metadata": {},
          "output_type": "execute_result"
        }
      ],
      "source": [
        "lista"
=======
          "metadata": {},
          "execution_count": 19
        }
>>>>>>> be20b7033bcb01fd9d984b41422fb69a8529360c
      ]
    },
    {
      "cell_type": "markdown",
      "metadata": {
        "id": "IVJvkTwNUk6M"
      },
      "source": [
        "*A continuación te mostraremos lo que no puede realizarse con* `append`."
      ]
    },
    {
      "cell_type": "code",
<<<<<<< HEAD
      "execution_count": null,
=======
      "source": [
        "lista.append([10.0,8.0,9.0])"
      ],
>>>>>>> be20b7033bcb01fd9d984b41422fb69a8529360c
      "metadata": {
        "id": "u3Eub2ZL8pp3"
      },
      "outputs": [],
      "source": [
        "lista.append([10.0,8.0,9.0])"
      ]
    },
    {
      "cell_type": "code",
<<<<<<< HEAD
      "execution_count": null,
      "metadata": {
        "colab": {
          "base_uri": "https://localhost:8080/"
        },
        "id": "tsKK5Ne58pvN",
        "outputId": "8f96f43f-dbfc-439b-98db-74045d207d0a"
      },
      "outputs": [
        {
=======
      "source": [
        "lista"
      ],
      "metadata": {
        "id": "tsKK5Ne58pvN",
        "colab": {
          "base_uri": "https://localhost:8080/"
        },
        "outputId": "8f96f43f-dbfc-439b-98db-74045d207d0a"
      },
      "execution_count": null,
      "outputs": [
        {
          "output_type": "execute_result",
>>>>>>> be20b7033bcb01fd9d984b41422fb69a8529360c
          "data": {
            "text/plain": [
              "['Penélope Camacho',\n",
              " 9.5,\n",
              " 9.0,\n",
              " 9.7,\n",
              " True,\n",
              " 9.4,\n",
              " 10.0,\n",
              " 8.0,\n",
              " 9.0,\n",
              " [10.0, 8.0, 9.0]]"
            ]
          },
<<<<<<< HEAD
          "execution_count": 21,
          "metadata": {},
          "output_type": "execute_result"
        }
      ],
      "source": [
        "lista"
=======
          "metadata": {},
          "execution_count": 21
        }
>>>>>>> be20b7033bcb01fd9d984b41422fb69a8529360c
      ]
    },
    {
      "cell_type": "markdown",
      "metadata": {
        "id": "dPGM5gpyUX1z"
      },
      "source": [
        "#### [`remove()`](https://docs.python.org/3/tutorial/datastructures.html#:~:text=append(x).-,list.remove(x),-Remove%20the%20first)\n",
        "\n",
        "Remueve un elemento específico de la lista."
      ]
    },
    {
      "cell_type": "code",
<<<<<<< HEAD
      "execution_count": null,
=======
      "source": [
        "lista.remove([10.0, 8.0, 9.0])"
      ],
>>>>>>> be20b7033bcb01fd9d984b41422fb69a8529360c
      "metadata": {
        "id": "mmboODPc8nd5"
      },
      "outputs": [],
      "source": [
        "lista.remove([10.0, 8.0, 9.0])"
      ]
    },
    {
      "cell_type": "code",
<<<<<<< HEAD
=======
      "source": [
        "lista"
      ],
      "metadata": {
        "id": "T_w6vVgV8nh_",
        "colab": {
          "base_uri": "https://localhost:8080/"
        },
        "outputId": "739a125b-1ba2-4a75-a9d6-70cb35d47733"
      },
      "execution_count": null,
      "outputs": [
        {
          "output_type": "execute_result",
          "data": {
            "text/plain": [
              "['Penélope Camacho', 9.5, 10.0, 9.7, True, 9.733333333333333, 10.0, 8.0, 9.0]"
            ]
          },
          "metadata": {},
          "execution_count": 54
        }
      ]
    },
    {
      "cell_type": "markdown",
      "source": [
        "### Resumen:\n",
        "lista = ['Penélope Camacho',9.5,9.0,9.7,True] # Llenar Lista y bucar elementos\n",
        "type(lista)\n",
        "type(lista[0])\n",
        "type(lista[-1])\n",
        "# Ciclo lectura lista\n",
        "for elemento in lista:\n",
        "  print(elemento)\n",
        "# Manipulación\n",
        "len(lista) # Cantidad elementos conjunto\n",
        "lista[0:2]# Particion listas por indexacion lista[inicio:fin], donde inicio es el índice del primer elemento que será incluído en la partición fin es el índice del primer elemento que será excluído de la partición.\n",
        "lista.append(promedio) # Añade un elemento al final de la lista.\n",
        "lista.extend([10.0,8.0,9.0]) # Añade varios elementos al final de la lista.\n",
        "lista.remove([10.0, 8.0, 9.0])# Remueve un elemento específico de la lista.\n",
        "\n",
        "### Otras manipulaciones para las listas\n",
        "razas_de_perros = ['Labrador Retriever',\n",
        "                   'Bulldog Francés',\n",
        "                   'Pastor Alemán',\n",
        "                   'Poodle']\n",
        "\n",
        "lista.insert(indice, elemento) #insert\n",
        "lista.insert(len(lista), elemento) # equivalente al uso del método append()\n",
        "razas_de_perros.pop(1) # elimina el elemento en una posición específica de la lista y lo devuelve como salida al ejecutar el método. Solo necesitamos especificar, entre paréntesis, el índice del elemento que deseamos eliminar, y se eliminará\n",
        "razas_de_perros.index('Pastor Alemán') #Devuelve el índice de un elemento específico en la lista.\n",
        "razas_de_perros.sort() #ordena los elementos de la lista en orden ascendente o descendente. Si son palabras, el orden se basa en el orden alfabético o en el orden inverso.\n",
        "\n",
        "## Mas documentacion de Listas:  https://docs.python.org/3/tutorial/datastructures.html#more-on-lists"
      ],
      "metadata": {
        "id": "ALvZID4Og0WS"
      }
    },
    {
      "cell_type": "code",
      "source": [
        "razas_de_perros = ['Labrador Retriever',\n",
        "                   'Bulldog Francés',\n",
        "                   'Pastor Alemán',\n",
        "                   'Poodle']"
      ],
      "metadata": {
        "id": "yUA_WwlQg9rJ"
      },
>>>>>>> be20b7033bcb01fd9d984b41422fb69a8529360c
      "execution_count": null,
      "metadata": {
        "colab": {
          "base_uri": "https://localhost:8080/"
        },
        "id": "T_w6vVgV8nh_",
        "outputId": "739a125b-1ba2-4a75-a9d6-70cb35d47733"
      },
      "outputs": [
        {
          "data": {
            "text/plain": [
              "['Penélope Camacho', 9.5, 10.0, 9.7, True, 9.733333333333333, 10.0, 8.0, 9.0]"
            ]
          },
          "execution_count": 54,
          "metadata": {},
          "output_type": "execute_result"
        }
      ],
      "source": [
        "lista"
      ]
    },
    {
      "cell_type": "code",
      "source": [
        "razas_de_perros.insert(1, 'Golden Retriever')\n",
        "razas_de_perros"
      ],
      "metadata": {
        "colab": {
          "base_uri": "https://localhost:8080/"
        },
        "id": "PyypeQr7hCz-",
        "outputId": "417c2133-5ac2-4d9d-a1d7-4fb787a1c767"
      },
      "execution_count": null,
      "outputs": [
        {
          "output_type": "execute_result",
          "data": {
            "text/plain": [
              "['Labrador Retriever',\n",
              " 'Golden Retriever',\n",
              " 'Bulldog Francés',\n",
              " 'Pastor Alemán',\n",
              " 'Poodle']"
            ]
          },
          "metadata": {},
          "execution_count": 24
        }
      ]
    },
    {
      "cell_type": "code",
      "source": [
        "razas_de_perros.pop(1)"
      ],
      "metadata": {
        "colab": {
          "base_uri": "https://localhost:8080/",
          "height": 36
        },
        "id": "BFNO5mEsiDCK",
        "outputId": "cd65dcf1-e19d-4e3d-fcd6-cc5efd3f2f54"
      },
      "execution_count": null,
      "outputs": [
        {
          "output_type": "execute_result",
          "data": {
            "text/plain": [
              "'Golden Retriever'"
            ],
            "application/vnd.google.colaboratory.intrinsic+json": {
              "type": "string"
            }
          },
          "metadata": {},
          "execution_count": 25
        }
      ]
    },
    {
      "cell_type": "code",
      "source": [
        "razas_de_perros"
      ],
      "metadata": {
        "colab": {
          "base_uri": "https://localhost:8080/"
        },
        "id": "BuLNX7hWiHnF",
        "outputId": "c2be8432-aef7-41fd-9248-0b8de1407887"
      },
      "execution_count": null,
      "outputs": [
        {
          "output_type": "execute_result",
          "data": {
            "text/plain": [
              "['Labrador Retriever', 'Bulldog Francés', 'Pastor Alemán', 'Poodle']"
            ]
          },
          "metadata": {},
          "execution_count": 26
        }
      ]
    },
    {
      "cell_type": "code",
      "source": [
        "razas_de_perros.index('Pastor Alemán')"
      ],
      "metadata": {
        "colab": {
          "base_uri": "https://localhost:8080/"
        },
        "id": "E3qPpwlli4uw",
        "outputId": "d2f04e49-a39c-4c2a-ace5-49454a2f5e6d"
      },
      "execution_count": null,
      "outputs": [
        {
          "output_type": "execute_result",
          "data": {
            "text/plain": [
              "2"
            ]
          },
          "metadata": {},
          "execution_count": 27
        }
      ]
    },
    {
      "cell_type": "code",
      "source": [
        "razas_de_perros.sort()\n",
        "razas_de_perros"
      ],
      "metadata": {
        "colab": {
          "base_uri": "https://localhost:8080/"
        },
        "id": "yDBllfmTjxgR",
        "outputId": "fda966dc-c126-4b49-b2f3-354a98e6c96b"
      },
      "execution_count": null,
      "outputs": [
        {
          "output_type": "execute_result",
          "data": {
            "text/plain": [
              "['Bulldog Francés', 'Labrador Retriever', 'Pastor Alemán', 'Poodle']"
            ]
          },
          "metadata": {},
          "execution_count": 28
        }
      ]
    },
    {
      "cell_type": "code",
      "source": [
        "vec = [[1,2,3], [4,5,6], [7,8,9]]\n",
        "vec[0]\n",
        "[num for elem in vec for num in elem]"
      ],
      "metadata": {
        "colab": {
          "base_uri": "https://localhost:8080/"
        },
        "id": "fC2HwU3kp9P0",
        "outputId": "7eaf6ec2-5185-4872-f534-0e5a4970914a"
      },
      "execution_count": null,
      "outputs": [
        {
          "output_type": "execute_result",
          "data": {
            "text/plain": [
              "[1, 2, 3, 4, 5, 6, 7, 8, 9]"
            ]
          },
          "metadata": {},
          "execution_count": 33
        }
      ]
    },
    {
      "cell_type": "markdown",
      "source": [],
      "metadata": {
        "id": "44FqaccQgxuC"
      }
    },
    {
      "cell_type": "markdown",
      "metadata": {
        "id": "ALvZID4Og0WS"
      },
      "source": [
        "### Resumen:\n",
        "lista = ['Penélope Camacho',9.5,9.0,9.7,True] # Llenar Lista y bucar elementos\n",
        "type(lista)\n",
        "type(lista[0])\n",
        "type(lista[-1])\n",
        "# Ciclo lectura lista\n",
        "for elemento in lista:\n",
        "  print(elemento)\n",
        "# Manipulación\n",
        "len(lista) # Cantidad elementos conjunto\n",
        "lista[0:2]# Particion listas por indexacion lista[inicio:fin], donde inicio es el índice del primer elemento que será incluído en la partición fin es el índice del primer elemento que será excluído de la partición.\n",
        "lista.append(promedio) # Añade un elemento al final de la lista.\n",
        "lista.extend([10.0,8.0,9.0]) # Añade varios elementos al final de la lista.\n",
        "lista.remove([10.0, 8.0, 9.0])# Remueve un elemento específico de la lista.\n",
        "\n",
        "### Otras manipulaciones para las listas\n",
        "razas_de_perros = ['Labrador Retriever',\n",
        "                   'Bulldog Francés',\n",
        "                   'Pastor Alemán',\n",
        "                   'Poodle']\n",
        "\n",
        "lista.insert(indice, elemento) #insert\n",
        "lista.insert(len(lista), elemento) # equivalente al uso del método append()\n",
        "razas_de_perros.pop(1) # elimina el elemento en una posición específica de la lista y lo devuelve como salida al ejecutar el método. Solo necesitamos especificar, entre paréntesis, el índice del elemento que deseamos eliminar, y se eliminará\n",
        "razas_de_perros.index('Pastor Alemán') #Devuelve el índice de un elemento específico en la lista.\n",
        "razas_de_perros.sort() #ordena los elementos de la lista en orden ascendente o descendente. Si son palabras, el orden se basa en el orden alfabético o en el orden inverso.\n",
        "\n",
        "## Mas documentacion de Listas:  https://docs.python.org/3/tutorial/datastructures.html#more-on-lists"
      ]
    },
    {
      "cell_type": "code",
      "execution_count": null,
      "metadata": {
        "id": "yUA_WwlQg9rJ"
      },
      "outputs": [],
      "source": [
        "razas_de_perros = ['Labrador Retriever',\n",
        "                   'Bulldog Francés',\n",
        "                   'Pastor Alemán',\n",
        "                   'Poodle']"
      ]
    },
    {
      "cell_type": "code",
      "execution_count": null,
      "metadata": {
        "colab": {
          "base_uri": "https://localhost:8080/"
        },
        "id": "PyypeQr7hCz-",
        "outputId": "417c2133-5ac2-4d9d-a1d7-4fb787a1c767"
      },
      "outputs": [
        {
          "data": {
            "text/plain": [
              "['Labrador Retriever',\n",
              " 'Golden Retriever',\n",
              " 'Bulldog Francés',\n",
              " 'Pastor Alemán',\n",
              " 'Poodle']"
            ]
          },
          "execution_count": 24,
          "metadata": {},
          "output_type": "execute_result"
        }
      ],
      "source": [
        "razas_de_perros.insert(1, 'Golden Retriever')\n",
        "razas_de_perros"
      ]
    },
    {
      "cell_type": "code",
      "execution_count": null,
      "metadata": {
        "colab": {
          "base_uri": "https://localhost:8080/",
          "height": 36
        },
        "id": "BFNO5mEsiDCK",
        "outputId": "cd65dcf1-e19d-4e3d-fcd6-cc5efd3f2f54"
      },
      "outputs": [
        {
          "data": {
            "application/vnd.google.colaboratory.intrinsic+json": {
              "type": "string"
            },
            "text/plain": [
              "'Golden Retriever'"
            ]
          },
          "execution_count": 25,
          "metadata": {},
          "output_type": "execute_result"
        }
      ],
      "source": [
        "razas_de_perros.pop(1)"
      ]
    },
    {
      "cell_type": "code",
      "execution_count": null,
      "metadata": {
        "colab": {
          "base_uri": "https://localhost:8080/"
        },
        "id": "BuLNX7hWiHnF",
        "outputId": "c2be8432-aef7-41fd-9248-0b8de1407887"
      },
      "outputs": [
        {
          "data": {
            "text/plain": [
              "['Labrador Retriever', 'Bulldog Francés', 'Pastor Alemán', 'Poodle']"
            ]
          },
          "execution_count": 26,
          "metadata": {},
          "output_type": "execute_result"
        }
      ],
      "source": [
        "razas_de_perros"
      ]
    },
    {
      "cell_type": "code",
      "execution_count": null,
      "metadata": {
        "colab": {
          "base_uri": "https://localhost:8080/"
        },
        "id": "E3qPpwlli4uw",
        "outputId": "d2f04e49-a39c-4c2a-ace5-49454a2f5e6d"
      },
      "outputs": [
        {
          "data": {
            "text/plain": [
              "2"
            ]
          },
          "execution_count": 27,
          "metadata": {},
          "output_type": "execute_result"
        }
      ],
      "source": [
        "razas_de_perros.index('Pastor Alemán')"
      ]
    },
    {
      "cell_type": "code",
      "execution_count": null,
      "metadata": {
        "colab": {
          "base_uri": "https://localhost:8080/"
        },
        "id": "yDBllfmTjxgR",
        "outputId": "fda966dc-c126-4b49-b2f3-354a98e6c96b"
      },
      "outputs": [
        {
          "data": {
            "text/plain": [
              "['Bulldog Francés', 'Labrador Retriever', 'Pastor Alemán', 'Poodle']"
            ]
          },
          "execution_count": 28,
          "metadata": {},
          "output_type": "execute_result"
        }
      ],
      "source": [
        "razas_de_perros.sort()\n",
        "razas_de_perros"
      ]
    },
    {
      "cell_type": "code",
      "execution_count": null,
      "metadata": {
        "colab": {
          "base_uri": "https://localhost:8080/"
        },
        "id": "fC2HwU3kp9P0",
        "outputId": "7eaf6ec2-5185-4872-f534-0e5a4970914a"
      },
      "outputs": [
        {
          "data": {
            "text/plain": [
              "[1, 2, 3, 4, 5, 6, 7, 8, 9]"
            ]
          },
          "execution_count": 33,
          "metadata": {},
          "output_type": "execute_result"
        }
      ],
      "source": [
        "vec = [[1,2,3], [4,5,6], [7,8,9]]\n",
        "vec[0]\n",
        "[num for elem in vec for num in elem]"
      ]
    },
    {
      "cell_type": "markdown",
      "metadata": {
        "id": "44FqaccQgxuC"
      },
      "source": []
    },
    {
      "cell_type": "markdown",
      "metadata": {
        "id": "Rc22Vc08YDZ2"
      },
      "source": [
        "## Diccionario"
      ]
    },
    {
      "cell_type": "markdown",
      "metadata": {
        "id": "PJ-cCKPjeWxL"
      },
      "source": [
        "Los diccionarios son un tipo de estructura de datos que almacenan pares de *llave-valor*. Estos son delimitados por llaves `{}` y los pares *llave-valor* son separados por comas.\n",
        "\n",
        "```\n",
        "diccionario = {llave: valor}\n",
        "```\n",
        "\n",
        "La **llave** es un elemento único que identifica a un valor en el diccionario, mientras que el **valor** es el item que será almacenado para la llave. Las llaves y sus respectivos valores se pueden emplear para **cualquier tipo de dato**.\n",
        "\n",
        "Los diccionarios son útiles para almacenar y acceder a los datos de manera organizada y rápida. Se trata de un tipo de conjunto de elementos en Python, pues almacenan una colección de items."
      ]
    },
    {
      "cell_type": "code",
      "execution_count": null,
      "metadata": {
        "colab": {
          "base_uri": "https://localhost:8080/"
        },
        "id": "NDHhzooE8ld5",
        "outputId": "38491e17-a956-4eb8-d172-64765cd2b871"
      },
      "outputs": [
        {
          "data": {
            "text/plain": [
              "{'llave_1': 1, 'llave_2': 2}"
            ]
          },
          "execution_count": 34,
          "metadata": {},
          "output_type": "execute_result"
        }
      ],
      "source": [
        "diccionario = {'llave_1': 1,\n",
        "               'llave_2' : 2}\n",
        "diccionario"
      ]
    },
    {
      "cell_type": "code",
<<<<<<< HEAD
      "execution_count": null,
      "metadata": {
        "colab": {
          "base_uri": "https://localhost:8080/"
        },
        "id": "AVOzqzy-8lhh",
        "outputId": "3352fd9f-72c5-462a-84d3-9346a0bce0dc"
      },
      "outputs": [
        {
=======
      "source": [
        "diccionario = {'llave_1': 1,\n",
        "               'llave_2' : 2}\n",
        "diccionario"
      ],
      "metadata": {
        "id": "NDHhzooE8ld5",
        "colab": {
          "base_uri": "https://localhost:8080/"
        },
        "outputId": "38491e17-a956-4eb8-d172-64765cd2b871"
      },
      "execution_count": null,
      "outputs": [
        {
          "output_type": "execute_result",
          "data": {
            "text/plain": [
              "{'llave_1': 1, 'llave_2': 2}"
            ]
          },
          "metadata": {},
          "execution_count": 34
        }
      ]
    },
    {
      "cell_type": "code",
      "source": [
        "type(diccionario)"
      ],
      "metadata": {
        "id": "AVOzqzy-8lhh",
        "colab": {
          "base_uri": "https://localhost:8080/"
        },
        "outputId": "3352fd9f-72c5-462a-84d3-9346a0bce0dc"
      },
      "execution_count": null,
      "outputs": [
        {
          "output_type": "execute_result",
>>>>>>> be20b7033bcb01fd9d984b41422fb69a8529360c
          "data": {
            "text/plain": [
              "dict"
            ]
          },
<<<<<<< HEAD
          "execution_count": 36,
          "metadata": {},
          "output_type": "execute_result"
        }
      ],
      "source": [
        "type(diccionario)"
=======
          "metadata": {},
          "execution_count": 36
        }
>>>>>>> be20b7033bcb01fd9d984b41422fb69a8529360c
      ]
    },
    {
      "cell_type": "markdown",
      "metadata": {
        "id": "_JbQ3KMKfkXU"
      },
      "source": [
        "---\n",
        "**Situación:**\n",
        "\n",
        "Vamos a crear un conjunto de datos con las informaciones de matrícula de un estudiante. Los datos son los siguientes:\n",
        "\n",
        "- matrícula: 2000168933\n",
        "- día de registro: 25\n",
        "- mes de registro: 10\n",
        "- grupo: 2E"
      ]
    },
    {
      "cell_type": "code",
      "execution_count": null,
      "metadata": {
        "colab": {
          "base_uri": "https://localhost:8080/"
        },
        "id": "0lfOu_c38jED",
        "outputId": "4fabad8d-5965-4d16-98ff-01d3e0a77a01"
      },
      "outputs": [
        {
          "data": {
            "text/plain": [
              "{'matricula': 2000168933,\n",
              " 'día de registro': 25,\n",
              " 'mes de registro': 10,\n",
              " 'grupo': '2E'}"
            ]
          },
          "execution_count": 41,
          "metadata": {},
          "output_type": "execute_result"
        }
      ],
      "source": [
        "estudiante = {\n",
        "              'matricula': 2000168933,\n",
        "              'día de registro': 25,\n",
        "              'mes de registro': 10,\n",
        "              'grupo': '2E'\n",
        "             }\n",
        "\n",
        "estudiante"
      ]
    },
    {
      "cell_type": "code",
<<<<<<< HEAD
      "execution_count": null,
      "metadata": {
        "colab": {
          "base_uri": "https://localhost:8080/"
        },
        "id": "XIuqpTTy8jHV",
        "outputId": "2392ab0d-ae3f-40ee-e997-db30c440aea5"
      },
      "outputs": [
        {
          "data": {
            "text/plain": [
              "2000168933"
            ]
          },
          "execution_count": 42,
          "metadata": {},
          "output_type": "execute_result"
        }
      ],
      "source": [
        "estudiante['matricula']"
=======
      "source": [
        "estudiante = {\n",
        "              'matricula': 2000168933,\n",
        "              'día de registro': 25,\n",
        "              'mes de registro': 10,\n",
        "              'grupo': '2E'\n",
        "             }\n",
        "\n",
        "estudiante"
      ],
      "metadata": {
        "id": "0lfOu_c38jED",
        "colab": {
          "base_uri": "https://localhost:8080/"
        },
        "outputId": "4fabad8d-5965-4d16-98ff-01d3e0a77a01"
      },
      "execution_count": null,
      "outputs": [
        {
          "output_type": "execute_result",
          "data": {
            "text/plain": [
              "{'matricula': 2000168933,\n",
              " 'día de registro': 25,\n",
              " 'mes de registro': 10,\n",
              " 'grupo': '2E'}"
            ]
          },
          "metadata": {},
          "execution_count": 41
        }
>>>>>>> be20b7033bcb01fd9d984b41422fb69a8529360c
      ]
    },
    {
      "cell_type": "code",
<<<<<<< HEAD
      "execution_count": null,
=======
      "source": [
        "estudiante['matricula']"
      ],
      "metadata": {
        "id": "XIuqpTTy8jHV",
        "colab": {
          "base_uri": "https://localhost:8080/"
        },
        "outputId": "2392ab0d-ae3f-40ee-e997-db30c440aea5"
      },
      "execution_count": null,
      "outputs": [
        {
          "output_type": "execute_result",
          "data": {
            "text/plain": [
              "2000168933"
            ]
          },
          "metadata": {},
          "execution_count": 42
        }
      ]
    },
    {
      "cell_type": "code",
      "source": [
        "estudiante['grupo']"
      ],
>>>>>>> be20b7033bcb01fd9d984b41422fb69a8529360c
      "metadata": {
        "colab": {
          "base_uri": "https://localhost:8080/",
          "height": 36
        },
        "id": "QalWuvGQ3M2z",
        "outputId": "76587d63-b9e5-4c07-e439-552ba63a5861"
      },
<<<<<<< HEAD
      "outputs": [
        {
          "data": {
            "application/vnd.google.colaboratory.intrinsic+json": {
              "type": "string"
            },
            "text/plain": [
              "'2E'"
            ]
          },
          "execution_count": 43,
          "metadata": {},
          "output_type": "execute_result"
        }
      ],
      "source": [
        "estudiante['grupo']"
=======
      "execution_count": null,
      "outputs": [
        {
          "output_type": "execute_result",
          "data": {
            "text/plain": [
              "'2E'"
            ],
            "application/vnd.google.colaboratory.intrinsic+json": {
              "type": "string"
            }
          },
          "metadata": {},
          "execution_count": 43
        }
>>>>>>> be20b7033bcb01fd9d984b41422fb69a8529360c
      ]
    },
    {
      "cell_type": "markdown",
      "metadata": {
        "id": "8ex5pt2ykDd2"
      },
      "source": [
        "Es posible sustituir los valores dentro de una llave. Por ejemplo, recibimos la información de que el grupo del estudiante que registramos cambio a `'2G'` y ahora necesitamos cambiar el valor de la llave `'grupo'`."
      ]
    },
    {
      "cell_type": "code",
<<<<<<< HEAD
      "execution_count": null,
=======
      "source": [
        "estudiante['grupo'] = '2G'"
      ],
>>>>>>> be20b7033bcb01fd9d984b41422fb69a8529360c
      "metadata": {
        "id": "kQGlp36b8fyP"
      },
      "outputs": [],
      "source": [
        "estudiante['grupo'] = '2G'"
      ]
    },
    {
      "cell_type": "code",
<<<<<<< HEAD
      "execution_count": null,
      "metadata": {
        "colab": {
          "base_uri": "https://localhost:8080/"
        },
        "id": "DnfH_qHi8f17",
        "outputId": "b1930867-c638-4bef-bd8f-a33c91e93c17"
      },
      "outputs": [
        {
=======
      "source": [
        "estudiante"
      ],
      "metadata": {
        "id": "DnfH_qHi8f17",
        "colab": {
          "base_uri": "https://localhost:8080/"
        },
        "outputId": "b1930867-c638-4bef-bd8f-a33c91e93c17"
      },
      "execution_count": null,
      "outputs": [
        {
          "output_type": "execute_result",
>>>>>>> be20b7033bcb01fd9d984b41422fb69a8529360c
          "data": {
            "text/plain": [
              "{'matricula': 2000168933,\n",
              " 'día de registro': 25,\n",
              " 'mes de registro': 10,\n",
              " 'grupo': '2G'}"
            ]
          },
<<<<<<< HEAD
          "execution_count": 47,
          "metadata": {},
          "output_type": "execute_result"
        }
      ],
      "source": [
        "estudiante"
=======
          "metadata": {},
          "execution_count": 47
        }
>>>>>>> be20b7033bcb01fd9d984b41422fb69a8529360c
      ]
    },
    {
      "cell_type": "markdown",
      "metadata": {
        "id": "wB0qRb56mQvv"
      },
      "source": [
        "También podemos añadir otros datos al diccionario. Vamos a añadir la información sobre la modalidad de estudio, nuestro estudiante estudiará inicialemente en la modalidad EAD.\n",
        "\n",
        "Definiremos una llave llamada `'modalidad'` con el valor `'EAD'`."
      ]
    },
    {
      "cell_type": "code",
<<<<<<< HEAD
      "execution_count": null,
=======
      "source": [
        "estudiante['modalidad'] = 'EAD'"
      ],
>>>>>>> be20b7033bcb01fd9d984b41422fb69a8529360c
      "metadata": {
        "id": "EeLYdlIm8d8a"
      },
      "outputs": [],
      "source": [
        "estudiante['modalidad'] = 'EAD'"
      ]
    },
    {
      "cell_type": "code",
<<<<<<< HEAD
      "execution_count": null,
      "metadata": {
        "colab": {
          "base_uri": "https://localhost:8080/"
        },
        "id": "olDIavsm8d_o",
        "outputId": "a602ddd2-14c2-47a5-fd3c-c3b757ebda50"
      },
      "outputs": [
        {
=======
      "source": [
        "estudiante"
      ],
      "metadata": {
        "id": "olDIavsm8d_o",
        "colab": {
          "base_uri": "https://localhost:8080/"
        },
        "outputId": "a602ddd2-14c2-47a5-fd3c-c3b757ebda50"
      },
      "execution_count": null,
      "outputs": [
        {
          "output_type": "execute_result",
>>>>>>> be20b7033bcb01fd9d984b41422fb69a8529360c
          "data": {
            "text/plain": [
              "{'matricula': 2000168933,\n",
              " 'día de registro': 25,\n",
              " 'mes de registro': 10,\n",
              " 'grupo': '2G',\n",
              " 'modalidad': 'EAD'}"
            ]
          },
<<<<<<< HEAD
          "execution_count": 49,
          "metadata": {},
          "output_type": "execute_result"
        }
      ],
      "source": [
        "estudiante"
=======
          "metadata": {},
          "execution_count": 49
        }
>>>>>>> be20b7033bcb01fd9d984b41422fb69a8529360c
      ]
    },
    {
      "cell_type": "code",
<<<<<<< HEAD
      "execution_count": null,
=======
      "source": [
        "len(estudiante)"
      ],
>>>>>>> be20b7033bcb01fd9d984b41422fb69a8529360c
      "metadata": {
        "colab": {
          "base_uri": "https://localhost:8080/"
        },
        "id": "fref4-t14AMm",
        "outputId": "5b8bf080-dba8-42c9-b446-4b710f963615"
      },
<<<<<<< HEAD
      "outputs": [
        {
=======
      "execution_count": null,
      "outputs": [
        {
          "output_type": "execute_result",
>>>>>>> be20b7033bcb01fd9d984b41422fb69a8529360c
          "data": {
            "text/plain": [
              "5"
            ]
          },
<<<<<<< HEAD
          "execution_count": 50,
          "metadata": {},
          "output_type": "execute_result"
        }
      ],
      "source": [
        "len(estudiante)"
=======
          "metadata": {},
          "execution_count": 50
        }
>>>>>>> be20b7033bcb01fd9d984b41422fb69a8529360c
      ]
    },
    {
      "cell_type": "markdown",
      "metadata": {
        "id": "LJ3o_inroxg_"
      },
      "source": [
        "## Profundizando en diccionarios"
      ]
    },
    {
      "cell_type": "markdown",
      "metadata": {
        "id": "2N3GLlkSpBiu"
      },
      "source": [
        "#### [`pop()`](https://python-reference.readthedocs.io/en/latest/docs/dict/pop.html)\n",
        "Remueve un item de un diccionario y lo representa en la salida."
      ]
    },
    {
      "cell_type": "code",
      "execution_count": null,
      "metadata": {
        "colab": {
          "base_uri": "https://localhost:8080/",
          "height": 36
        },
        "id": "ZsSCZx6G8b-T",
        "outputId": "84ddd7ca-b17d-4548-8c12-e44044ffb022"
      },
      "outputs": [
        {
          "data": {
            "application/vnd.google.colaboratory.intrinsic+json": {
              "type": "string"
            },
            "text/plain": [
              "'2G'"
            ]
          },
          "execution_count": 51,
          "metadata": {},
          "output_type": "execute_result"
        }
      ],
      "source": [
        "estudiante.pop('grupo')"
      ]
    },
    {
      "cell_type": "code",
<<<<<<< HEAD
      "execution_count": null,
      "metadata": {
        "colab": {
          "base_uri": "https://localhost:8080/"
        },
        "id": "7lQ8_jpi8cBR",
        "outputId": "4a59409f-2a70-46b2-b4d3-e4ca40fc533d"
      },
      "outputs": [
        {
=======
      "source": [
        "estudiante.pop('grupo')"
      ],
      "metadata": {
        "id": "ZsSCZx6G8b-T",
        "colab": {
          "base_uri": "https://localhost:8080/",
          "height": 36
        },
        "outputId": "84ddd7ca-b17d-4548-8c12-e44044ffb022"
      },
      "execution_count": null,
      "outputs": [
        {
          "output_type": "execute_result",
          "data": {
            "text/plain": [
              "'2G'"
            ],
            "application/vnd.google.colaboratory.intrinsic+json": {
              "type": "string"
            }
          },
          "metadata": {},
          "execution_count": 51
        }
      ]
    },
    {
      "cell_type": "code",
      "source": [
        "estudiante"
      ],
      "metadata": {
        "id": "7lQ8_jpi8cBR",
        "colab": {
          "base_uri": "https://localhost:8080/"
        },
        "outputId": "4a59409f-2a70-46b2-b4d3-e4ca40fc533d"
      },
      "execution_count": null,
      "outputs": [
        {
          "output_type": "execute_result",
>>>>>>> be20b7033bcb01fd9d984b41422fb69a8529360c
          "data": {
            "text/plain": [
              "{'matricula': 2000168933,\n",
              " 'día de registro': 25,\n",
              " 'mes de registro': 10,\n",
              " 'modalidad': 'EAD'}"
            ]
          },
<<<<<<< HEAD
          "execution_count": 52,
          "metadata": {},
          "output_type": "execute_result"
        }
      ],
      "source": [
        "estudiante"
=======
          "metadata": {},
          "execution_count": 52
        }
>>>>>>> be20b7033bcb01fd9d984b41422fb69a8529360c
      ]
    },
    {
      "cell_type": "markdown",
      "metadata": {
        "id": "sYZGvJJYrW_y"
      },
      "source": [
        "#### [`items()`](https://python-reference.readthedocs.io/en/latest/docs/dict/items.html)\n",
        "Retorna una lista de pares `llave-valor` del diccionario."
      ]
    },
    {
      "cell_type": "code",
<<<<<<< HEAD
      "execution_count": null,
      "metadata": {
        "colab": {
          "base_uri": "https://localhost:8080/"
        },
        "id": "ncdycLV08an7",
        "outputId": "427c98e7-7842-4c4a-9264-2f1ac9f3c0d5"
      },
      "outputs": [
        {
=======
      "source": [
        "estudiante.items()"
      ],
      "metadata": {
        "id": "ncdycLV08an7",
        "colab": {
          "base_uri": "https://localhost:8080/"
        },
        "outputId": "427c98e7-7842-4c4a-9264-2f1ac9f3c0d5"
      },
      "execution_count": null,
      "outputs": [
        {
          "output_type": "execute_result",
>>>>>>> be20b7033bcb01fd9d984b41422fb69a8529360c
          "data": {
            "text/plain": [
              "dict_items([('matricula', 2000168933), ('día de registro', 25), ('mes de registro', 10), ('modalidad', 'EAD')])"
            ]
          },
<<<<<<< HEAD
          "execution_count": 53,
          "metadata": {},
          "output_type": "execute_result"
        }
      ],
      "source": [
        "estudiante.items()"
=======
          "metadata": {},
          "execution_count": 53
        }
>>>>>>> be20b7033bcb01fd9d984b41422fb69a8529360c
      ]
    },
    {
      "cell_type": "markdown",
      "metadata": {
        "id": "Lb0utNFGrZBY"
      },
      "source": [
        "#### [`keys()`](https://python-reference.readthedocs.io/en/latest/docs/dict/keys.html)\n",
        "Retorna una lista de las llaves del diccionario."
      ]
    },
    {
      "cell_type": "code",
<<<<<<< HEAD
      "execution_count": null,
      "metadata": {
        "colab": {
          "base_uri": "https://localhost:8080/"
        },
        "id": "eZo0biaM8ZVs",
        "outputId": "6b0930c5-7c5e-4ff1-9103-d1d010763a3b"
      },
      "outputs": [
        {
=======
      "source": [
        "estudiante.keys()"
      ],
      "metadata": {
        "id": "eZo0biaM8ZVs",
        "colab": {
          "base_uri": "https://localhost:8080/"
        },
        "outputId": "6b0930c5-7c5e-4ff1-9103-d1d010763a3b"
      },
      "execution_count": null,
      "outputs": [
        {
          "output_type": "execute_result",
>>>>>>> be20b7033bcb01fd9d984b41422fb69a8529360c
          "data": {
            "text/plain": [
              "dict_keys(['matricula', 'día de registro', 'mes de registro', 'modalidad'])"
            ]
          },
<<<<<<< HEAD
          "execution_count": 54,
          "metadata": {},
          "output_type": "execute_result"
        }
      ],
      "source": [
        "estudiante.keys()"
=======
          "metadata": {},
          "execution_count": 54
        }
>>>>>>> be20b7033bcb01fd9d984b41422fb69a8529360c
      ]
    },
    {
      "cell_type": "markdown",
      "metadata": {
        "id": "qKyu3bf9rbtX"
      },
      "source": [
        "#### [`values()`](https://python-reference.readthedocs.io/en/latest/docs/dict/values.html)\n",
        "Retorna una lista de los valores del diccionario."
      ]
    },
    {
      "cell_type": "code",
<<<<<<< HEAD
      "execution_count": null,
      "metadata": {
        "colab": {
          "base_uri": "https://localhost:8080/"
        },
        "id": "-NxRT9C18Yvo",
        "outputId": "2b2ac53c-b734-44b9-cfae-e7444cad909c"
      },
      "outputs": [
        {
=======
      "source": [
        "estudiante.values()"
      ],
      "metadata": {
        "id": "-NxRT9C18Yvo",
        "colab": {
          "base_uri": "https://localhost:8080/"
        },
        "outputId": "2b2ac53c-b734-44b9-cfae-e7444cad909c"
      },
      "execution_count": null,
      "outputs": [
        {
          "output_type": "execute_result",
>>>>>>> be20b7033bcb01fd9d984b41422fb69a8529360c
          "data": {
            "text/plain": [
              "dict_values([2000168933, 25, 10, 'EAD'])"
            ]
          },
<<<<<<< HEAD
          "execution_count": 56,
          "metadata": {},
          "output_type": "execute_result"
        }
      ],
      "source": [
        "estudiante.values()"
=======
          "metadata": {},
          "execution_count": 56
        }
>>>>>>> be20b7033bcb01fd9d984b41422fb69a8529360c
      ]
    },
    {
      "cell_type": "markdown",
      "metadata": {
        "id": "e3XVjR8Frp75"
      },
      "source": [
        "### Lectura de valores con el lazo `for`"
      ]
    },
    {
      "cell_type": "code",
<<<<<<< HEAD
      "execution_count": null,
      "metadata": {
        "colab": {
          "base_uri": "https://localhost:8080/"
        },
        "id": "NYcjU-Ip8Xan",
        "outputId": "3308aab8-d759-4e99-f80a-392ae0f6a0bb"
      },
      "outputs": [
        {
          "name": "stdout",
          "output_type": "stream",
=======
      "source": [
        "for llave in estudiante.keys():\n",
        "  print(llave)"
      ],
      "metadata": {
        "id": "NYcjU-Ip8Xan",
        "colab": {
          "base_uri": "https://localhost:8080/"
        },
        "outputId": "3308aab8-d759-4e99-f80a-392ae0f6a0bb"
      },
      "execution_count": null,
      "outputs": [
        {
          "output_type": "stream",
          "name": "stdout",
>>>>>>> be20b7033bcb01fd9d984b41422fb69a8529360c
          "text": [
            "matricula\n",
            "día de registro\n",
            "mes de registro\n",
            "modalidad\n"
          ]
        }
<<<<<<< HEAD
      ],
      "source": [
        "for llave in estudiante.keys():\n",
        "  print(llave)"
=======
>>>>>>> be20b7033bcb01fd9d984b41422fb69a8529360c
      ]
    },
    {
      "cell_type": "code",
<<<<<<< HEAD
      "execution_count": null,
      "metadata": {
        "colab": {
          "base_uri": "https://localhost:8080/"
        },
        "id": "aAnpP1Wv8XfJ",
        "outputId": "48cb7057-10c0-4694-cc0e-dc2dae8e6892"
      },
      "outputs": [
        {
          "name": "stdout",
          "output_type": "stream",
=======
      "source": [
        "for llave,valor in estudiante.items():\n",
        "  print(llave, '-->', valor)"
      ],
      "metadata": {
        "id": "aAnpP1Wv8XfJ",
        "colab": {
          "base_uri": "https://localhost:8080/"
        },
        "outputId": "48cb7057-10c0-4694-cc0e-dc2dae8e6892"
      },
      "execution_count": null,
      "outputs": [
        {
          "output_type": "stream",
          "name": "stdout",
>>>>>>> be20b7033bcb01fd9d984b41422fb69a8529360c
          "text": [
            "matricula --> 2000168933\n",
            "día de registro --> 25\n",
            "mes de registro --> 10\n",
            "modalidad --> EAD\n"
          ]
        }
<<<<<<< HEAD
      ],
      "source": [
        "for llave,valor in estudiante.items():\n",
        "  print(llave, '-->', valor)"
=======
>>>>>>> be20b7033bcb01fd9d984b41422fb69a8529360c
      ]
    },
    {
      "cell_type": "code",
<<<<<<< HEAD
      "execution_count": null,
=======
      "source": [
        "list(estudiante)"
      ],
>>>>>>> be20b7033bcb01fd9d984b41422fb69a8529360c
      "metadata": {
        "colab": {
          "base_uri": "https://localhost:8080/"
        },
        "id": "wou324_B8nSC",
        "outputId": "3161e719-5e93-4130-938c-540e450e5d19"
      },
<<<<<<< HEAD
      "outputs": [
        {
=======
      "execution_count": null,
      "outputs": [
        {
          "output_type": "execute_result",
>>>>>>> be20b7033bcb01fd9d984b41422fb69a8529360c
          "data": {
            "text/plain": [
              "['matricula', 'día de registro', 'mes de registro', 'modalidad']"
            ]
          },
<<<<<<< HEAD
          "execution_count": 62,
          "metadata": {},
          "output_type": "execute_result"
        }
      ],
      "source": [
        "list(estudiante)"
=======
          "metadata": {},
          "execution_count": 62
        }
>>>>>>> be20b7033bcb01fd9d984b41422fb69a8529360c
      ]
    },
    {
      "cell_type": "code",
<<<<<<< HEAD
      "execution_count": null,
=======
      "source": [
        "sorted(estudiante)"
      ],
>>>>>>> be20b7033bcb01fd9d984b41422fb69a8529360c
      "metadata": {
        "colab": {
          "base_uri": "https://localhost:8080/"
        },
        "id": "Kpm36zBt9Czd",
        "outputId": "414a584c-c8b3-471f-b22e-6cdd8e42a703"
      },
<<<<<<< HEAD
      "outputs": [
        {
=======
      "execution_count": null,
      "outputs": [
        {
          "output_type": "execute_result",
>>>>>>> be20b7033bcb01fd9d984b41422fb69a8529360c
          "data": {
            "text/plain": [
              "['día de registro', 'matricula', 'mes de registro', 'modalidad']"
            ]
          },
<<<<<<< HEAD
          "execution_count": 63,
          "metadata": {},
          "output_type": "execute_result"
        }
      ],
      "source": [
        "sorted(estudiante)"
=======
          "metadata": {},
          "execution_count": 63
        }
>>>>>>> be20b7033bcb01fd9d984b41422fb69a8529360c
      ]
    },
    {
      "cell_type": "code",
<<<<<<< HEAD
      "execution_count": null,
=======
      "source": [
        "list(estudiante)"
      ],
>>>>>>> be20b7033bcb01fd9d984b41422fb69a8529360c
      "metadata": {
        "colab": {
          "base_uri": "https://localhost:8080/"
        },
        "id": "UqENFURc9IgG",
        "outputId": "2adfb66f-c2cc-44db-f33b-ebc941e10a8b"
      },
<<<<<<< HEAD
      "outputs": [
        {
=======
      "execution_count": null,
      "outputs": [
        {
          "output_type": "execute_result",
>>>>>>> be20b7033bcb01fd9d984b41422fb69a8529360c
          "data": {
            "text/plain": [
              "['matricula', 'día de registro', 'mes de registro', 'modalidad']"
            ]
          },
<<<<<<< HEAD
          "execution_count": 65,
          "metadata": {},
          "output_type": "execute_result"
        }
      ],
      "source": [
        "list(estudiante)"
=======
          "metadata": {},
          "execution_count": 65
        }
>>>>>>> be20b7033bcb01fd9d984b41422fb69a8529360c
      ]
    },
    {
      "cell_type": "code",
<<<<<<< HEAD
      "execution_count": null,
=======
      "source": [
        "'día de registro' in estudiante"
      ],
>>>>>>> be20b7033bcb01fd9d984b41422fb69a8529360c
      "metadata": {
        "colab": {
          "base_uri": "https://localhost:8080/"
        },
        "id": "15hWeb4E9sWY",
        "outputId": "fa38478b-9a35-4386-8e1b-d63510b38340"
      },
<<<<<<< HEAD
      "outputs": [
        {
=======
      "execution_count": null,
      "outputs": [
        {
          "output_type": "execute_result",
>>>>>>> be20b7033bcb01fd9d984b41422fb69a8529360c
          "data": {
            "text/plain": [
              "True"
            ]
          },
<<<<<<< HEAD
          "execution_count": 69,
          "metadata": {},
          "output_type": "execute_result"
        }
      ],
      "source": [
        "'día de registro' in estudiante"
=======
          "metadata": {},
          "execution_count": 69
        }
>>>>>>> be20b7033bcb01fd9d984b41422fb69a8529360c
      ]
    },
    {
      "cell_type": "code",
<<<<<<< HEAD
      "execution_count": null,
=======
      "source": [
        "dict([('sape', 4139), ('guido', 4127), ('jack', 4098)])"
      ],
>>>>>>> be20b7033bcb01fd9d984b41422fb69a8529360c
      "metadata": {
        "colab": {
          "base_uri": "https://localhost:8080/"
        },
        "id": "7_NuBuH1-JN1",
        "outputId": "96ead2b5-fd3c-4770-8b22-331e471d5842"
      },
<<<<<<< HEAD
      "outputs": [
        {
=======
      "execution_count": null,
      "outputs": [
        {
          "output_type": "execute_result",
>>>>>>> be20b7033bcb01fd9d984b41422fb69a8529360c
          "data": {
            "text/plain": [
              "{'sape': 4139, 'guido': 4127, 'jack': 4098}"
            ]
          },
<<<<<<< HEAD
          "execution_count": 70,
          "metadata": {},
          "output_type": "execute_result"
        }
      ],
      "source": [
        "dict([('sape', 4139), ('guido', 4127), ('jack', 4098)])"
=======
          "metadata": {},
          "execution_count": 70
        }
>>>>>>> be20b7033bcb01fd9d984b41422fb69a8529360c
      ]
    },
    {
      "cell_type": "code",
<<<<<<< HEAD
      "execution_count": null,
=======
      "source": [
        "questions = ['name', 'quest', 'favorite color']\n",
        "answers = ['lancelot', 'the holy grail', 'blue']\n",
        "for q, a in zip(questions, answers):\n",
        "    print('What is your {0}?  It is {1}.'.format(q, a))"
      ],
>>>>>>> be20b7033bcb01fd9d984b41422fb69a8529360c
      "metadata": {
        "colab": {
          "base_uri": "https://localhost:8080/"
        },
        "id": "y2kwT3_HK6vR",
        "outputId": "99da1b00-3f6a-434a-9591-6e921e38bd12"
      },
<<<<<<< HEAD
      "outputs": [
        {
          "name": "stdout",
          "output_type": "stream",
=======
      "execution_count": null,
      "outputs": [
        {
          "output_type": "stream",
          "name": "stdout",
>>>>>>> be20b7033bcb01fd9d984b41422fb69a8529360c
          "text": [
            "What is your name?  It is lancelot.\n",
            "What is your quest?  It is the holy grail.\n",
            "What is your favorite color?  It is blue.\n"
          ]
        }
<<<<<<< HEAD
      ],
      "source": [
        "questions = ['name', 'quest', 'favorite color']\n",
        "answers = ['lancelot', 'the holy grail', 'blue']\n",
        "for q, a in zip(questions, answers):\n",
        "    print('What is your {0}?  It is {1}.'.format(q, a))"
=======
>>>>>>> be20b7033bcb01fd9d984b41422fb69a8529360c
      ]
    },
    {
      "cell_type": "code",
<<<<<<< HEAD
      "execution_count": null,
=======
      "source": [
        "##recorrer una secuencia en sentido inverso, primero especifique la secuencia en dirección hacia adelante y luego llame a la reversed()\n",
        "\n",
        "for i in reversed(range(1, 10, 2)):\n",
        "    print(i)"
      ],
>>>>>>> be20b7033bcb01fd9d984b41422fb69a8529360c
      "metadata": {
        "colab": {
          "base_uri": "https://localhost:8080/"
        },
        "id": "_ITuy5Q4L22f",
        "outputId": "16c3e445-d364-4c9e-cb21-0eee9dbccb5b"
      },
<<<<<<< HEAD
      "outputs": [
        {
          "name": "stdout",
          "output_type": "stream",
=======
      "execution_count": null,
      "outputs": [
        {
          "output_type": "stream",
          "name": "stdout",
>>>>>>> be20b7033bcb01fd9d984b41422fb69a8529360c
          "text": [
            "9\n",
            "7\n",
            "5\n",
            "3\n",
            "1\n"
          ]
        }
<<<<<<< HEAD
      ],
      "source": [
        "##recorrer una secuencia en sentido inverso, primero especifique la secuencia en dirección hacia adelante y luego llame a la reversed()\n",
        "\n",
        "for i in reversed(range(1, 10, 2)):\n",
        "    print(i)"
=======
>>>>>>> be20b7033bcb01fd9d984b41422fb69a8529360c
      ]
    },
    {
      "cell_type": "code",
<<<<<<< HEAD
      "execution_count": null,
=======
      "source": [
        "## ecorrer una secuencia en orden ordenado, utilice la sorted()función que devuelve una nueva lista ordenada dejando la fuente inalterada.\n",
        "basket = ['apple', 'orange', 'apple', 'pear', 'orange', 'banana']\n",
        "for i in sorted(basket):\n",
        "    print(i)\n"
      ],
>>>>>>> be20b7033bcb01fd9d984b41422fb69a8529360c
      "metadata": {
        "colab": {
          "base_uri": "https://localhost:8080/"
        },
        "id": "2m1bBt51Ml-c",
        "outputId": "e19a9bac-f878-4042-b2d4-fee3bb2dc4ec"
      },
<<<<<<< HEAD
      "outputs": [
        {
          "name": "stdout",
          "output_type": "stream",
=======
      "execution_count": null,
      "outputs": [
        {
          "output_type": "stream",
          "name": "stdout",
>>>>>>> be20b7033bcb01fd9d984b41422fb69a8529360c
          "text": [
            "apple\n",
            "apple\n",
            "banana\n",
            "orange\n",
            "orange\n",
            "pear\n"
          ]
        }
<<<<<<< HEAD
      ],
      "source": [
        "## ecorrer una secuencia en orden ordenado, utilice la sorted()función que devuelve una nueva lista ordenada dejando la fuente inalterada.\n",
        "basket = ['apple', 'orange', 'apple', 'pear', 'orange', 'banana']\n",
        "for i in sorted(basket):\n",
        "    print(i)\n"
=======
>>>>>>> be20b7033bcb01fd9d984b41422fb69a8529360c
      ]
    },
    {
      "cell_type": "code",
<<<<<<< HEAD
      "execution_count": null,
=======
      "source": [
        "## set()\"on\" en una secuencia elimina elementos duplicados. Usar \" sorted()in\" con \" set()over\" en una secuencia es una forma idiomática de recorrer en bucle los elementos únicos de la secuencia en orden.\n",
        "basket = ['apple', 'orange', 'apple', 'pear', 'orange', 'banana']\n",
        "for f in sorted(set(basket)):\n",
        "    print(f)\n"
      ],
>>>>>>> be20b7033bcb01fd9d984b41422fb69a8529360c
      "metadata": {
        "colab": {
          "base_uri": "https://localhost:8080/"
        },
        "id": "8Ur02yRUM0Zt",
        "outputId": "64015f5b-c724-47f8-93a3-62521a95182f"
      },
<<<<<<< HEAD
      "outputs": [
        {
          "name": "stdout",
          "output_type": "stream",
=======
      "execution_count": null,
      "outputs": [
        {
          "output_type": "stream",
          "name": "stdout",
>>>>>>> be20b7033bcb01fd9d984b41422fb69a8529360c
          "text": [
            "apple\n",
            "banana\n",
            "orange\n",
            "pear\n"
          ]
        }
<<<<<<< HEAD
      ],
      "source": [
        "## set()\"on\" en una secuencia elimina elementos duplicados. Usar \" sorted()in\" con \" set()over\" en una secuencia es una forma idiomática de recorrer en bucle los elementos únicos de la secuencia en orden.\n",
        "basket = ['apple', 'orange', 'apple', 'pear', 'orange', 'banana']\n",
        "for f in sorted(set(basket)):\n",
        "    print(f)\n"
=======
>>>>>>> be20b7033bcb01fd9d984b41422fb69a8529360c
      ]
    },
    {
      "cell_type": "code",
<<<<<<< HEAD
      "execution_count": null,
=======
      "source": [
        "precios = [100.0, 400.0, 200.0]\n",
        "suma = sum(precios)\n",
        "suma"
      ],
>>>>>>> be20b7033bcb01fd9d984b41422fb69a8529360c
      "metadata": {
        "colab": {
          "base_uri": "https://localhost:8080/"
        },
        "id": "jqWpeJUxPkoY",
        "outputId": "8a18e3b5-59d8-46ba-ca8e-0738ae38c326"
      },
<<<<<<< HEAD
      "outputs": [
        {
=======
      "execution_count": null,
      "outputs": [
        {
          "output_type": "execute_result",
>>>>>>> be20b7033bcb01fd9d984b41422fb69a8529360c
          "data": {
            "text/plain": [
              "700.0"
            ]
          },
<<<<<<< HEAD
          "execution_count": 76,
          "metadata": {},
          "output_type": "execute_result"
        }
      ],
      "source": [
        "precios = [100.0, 400.0, 200.0]\n",
        "suma = sum(precios)\n",
        "suma"
=======
          "metadata": {},
          "execution_count": 76
        }
>>>>>>> be20b7033bcb01fd9d984b41422fb69a8529360c
      ]
    },
    {
      "cell_type": "code",
<<<<<<< HEAD
      "execution_count": null,
=======
      "source": [
        "help(print)"
      ],
>>>>>>> be20b7033bcb01fd9d984b41422fb69a8529360c
      "metadata": {
        "colab": {
          "base_uri": "https://localhost:8080/"
        },
        "id": "-Or-wzm-PgHM",
        "outputId": "186e3427-c75f-47a1-869c-5be2fbc48df3"
      },
<<<<<<< HEAD
      "outputs": [
        {
          "name": "stdout",
          "output_type": "stream",
=======
      "execution_count": null,
      "outputs": [
        {
          "output_type": "stream",
          "name": "stdout",
>>>>>>> be20b7033bcb01fd9d984b41422fb69a8529360c
          "text": [
            "Help on built-in function print in module builtins:\n",
            "\n",
            "print(*args, sep=' ', end='\\n', file=None, flush=False)\n",
            "    Prints the values to a stream, or to sys.stdout by default.\n",
            "    \n",
            "    sep\n",
            "      string inserted between values, default a space.\n",
            "    end\n",
            "      string appended after the last value, default a newline.\n",
            "    file\n",
            "      a file-like object (stream); defaults to the current sys.stdout.\n",
            "    flush\n",
            "      whether to forcibly flush the stream.\n",
            "\n"
          ]
        }
<<<<<<< HEAD
      ],
      "source": [
        "help(print)"
=======
>>>>>>> be20b7033bcb01fd9d984b41422fb69a8529360c
      ]
    },
    {
      "cell_type": "code",
<<<<<<< HEAD
      "execution_count": null,
      "metadata": {
        "colab": {
          "base_uri": "https://localhost:8080/"
        },
        "id": "slxUt0EYP2lC",
        "outputId": "384837f3-cfdd-483e-c850-8809a51b669e"
      },
      "outputs": [
        {
=======
      "source": [
        "lista = [1,2,3]\n",
        "dir(lista)"
      ],
      "metadata": {
        "id": "slxUt0EYP2lC",
        "outputId": "384837f3-cfdd-483e-c850-8809a51b669e",
        "colab": {
          "base_uri": "https://localhost:8080/"
        }
      },
      "execution_count": null,
      "outputs": [
        {
          "output_type": "execute_result",
>>>>>>> be20b7033bcb01fd9d984b41422fb69a8529360c
          "data": {
            "text/plain": [
              "['__add__',\n",
              " '__class__',\n",
              " '__class_getitem__',\n",
              " '__contains__',\n",
              " '__delattr__',\n",
              " '__delitem__',\n",
              " '__dir__',\n",
              " '__doc__',\n",
              " '__eq__',\n",
              " '__format__',\n",
              " '__ge__',\n",
              " '__getattribute__',\n",
              " '__getitem__',\n",
              " '__getstate__',\n",
              " '__gt__',\n",
              " '__hash__',\n",
              " '__iadd__',\n",
              " '__imul__',\n",
              " '__init__',\n",
              " '__init_subclass__',\n",
              " '__iter__',\n",
              " '__le__',\n",
              " '__len__',\n",
              " '__lt__',\n",
              " '__mul__',\n",
              " '__ne__',\n",
              " '__new__',\n",
              " '__reduce__',\n",
              " '__reduce_ex__',\n",
              " '__repr__',\n",
              " '__reversed__',\n",
              " '__rmul__',\n",
              " '__setattr__',\n",
              " '__setitem__',\n",
              " '__sizeof__',\n",
              " '__str__',\n",
              " '__subclasshook__',\n",
              " 'append',\n",
              " 'clear',\n",
              " 'copy',\n",
              " 'count',\n",
              " 'extend',\n",
              " 'index',\n",
              " 'insert',\n",
              " 'pop',\n",
              " 'remove',\n",
              " 'reverse',\n",
              " 'sort']"
            ]
          },
<<<<<<< HEAD
          "execution_count": 77,
          "metadata": {},
          "output_type": "execute_result"
        }
      ],
      "source": [
        "lista = [1,2,3]\n",
        "dir(lista)"
=======
          "metadata": {},
          "execution_count": 77
        }
>>>>>>> be20b7033bcb01fd9d984b41422fb69a8529360c
      ]
    }
  ],
  "metadata": {
    "colab": {
      "provenance": []
    },
    "kernelspec": {
      "display_name": "Python 3",
      "name": "python3"
    },
    "language_info": {
      "name": "python",
      "version": "3.13.2"
    }
  },
  "nbformat": 4,
  "nbformat_minor": 0
}
