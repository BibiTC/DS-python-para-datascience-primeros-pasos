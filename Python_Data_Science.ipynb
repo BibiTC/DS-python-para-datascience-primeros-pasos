{
 "cells": [
  {
   "cell_type": "markdown",
   "metadata": {
    "id": "view-in-github"
   },
   "source": [
    "<a href=\"https://colab.research.google.com/github/ahcamachod/python-para-datascience-primeros-pasos/blob/main/Python_Data_Science.ipynb\" target=\"_parent\"><img src=\"https://colab.research.google.com/assets/colab-badge.svg\" alt=\"Open In Colab\"/></a>"
   ]
  },
  {
   "cell_type": "markdown",
   "metadata": {
    "id": "lQx6Mmv0OJyT"
   },
   "source": [
    "# Python para Data Science\n",
    "\n",
    "Notebook para el curso de Python para Data Science publicado en la plataforma de [Alura Latam](https://www.aluracursos.com/)"
   ]
  },
  {
   "cell_type": "markdown",
   "metadata": {
    "id": "7SiB6JIpYKmY"
   },
   "source": [
    "# Introducción a Python\n",
    "¡Vamos a conocer Python, nuestro ambiente de estudio, y también generaremos nuestro primer código en este lenguaje!"
   ]
  },
  {
   "cell_type": "markdown",
   "metadata": {
    "id": "Yugfb3fCOYY9"
   },
   "source": [
    "## Google Colaboratory\n",
    "\n",
    "Ya aprendimos qué es [Python](https://www.python.org/) y ahora aprenderemos a usar nuestra herramienta de ejecución [Google Colaboratory](https://colab.research.google.com/) para programar en un notebook interactivo.\n",
    "\n",
    "Vamos a probar algunas funciones de este ambiente."
   ]
  },
  {
   "cell_type": "markdown",
   "metadata": {
    "id": "2iUHQsJasJAk"
   },
   "source": [
    " **`>>> Usa esta celda para mover <<<`**"
   ]
  },
  {
   "cell_type": "code",
   "execution_count": null,
   "metadata": {
    "id": "o7jrX_iKhdkU"
   },
   "outputs": [],
   "source": []
  },
  {
   "cell_type": "markdown",
   "metadata": {
    "id": "aLSFP2V7XTfe"
   },
   "source": [
    "## ¡Hola mundo!\n",
    "\n",
    "Vamos a conocer un poco más de cerca nuestro notebook. Para ello ejecutaremos nuestro primer comando en Python: [`print()`](https://docs.python.org/3/library/functions.html#print)"
   ]
  },
  {
   "cell_type": "code",
   "execution_count": 2,
   "metadata": {
    "colab": {
     "base_uri": "https://localhost:8080/"
    },
    "executionInfo": {
     "elapsed": 45,
     "status": "ok",
     "timestamp": 1743979639742,
     "user": {
      "displayName": "Bibiana Trujillo",
      "userId": "03915417954445271831"
     },
     "user_tz": 300
    },
    "id": "0qZX8_ZQBYyk",
    "outputId": "e1d2b8d2-3d22-4c1b-97e3-292b846bb73d"
   },
   "outputs": [
    {
     "name": "stdout",
     "output_type": "stream",
     "text": [
      "Hola Mundo\n"
     ]
    }
   ],
   "source": [
    "print('Hola Mundo')"
   ]
  },
  {
   "cell_type": "code",
   "execution_count": 5,
   "metadata": {
    "colab": {
     "base_uri": "https://localhost:8080/"
    },
    "executionInfo": {
     "elapsed": 7,
     "status": "ok",
     "timestamp": 1743979689416,
     "user": {
      "displayName": "Bibiana Trujillo",
      "userId": "03915417954445271831"
     },
     "user_tz": 300
    },
    "id": "GLMzF_AKBY7a",
    "outputId": "5fc0403c-bfe1-4ae4-ccf7-b455b6f059c3"
   },
   "outputs": [
    {
     "data": {
      "text/plain": [
       "15"
      ]
     },
     "execution_count": 5,
     "metadata": {},
     "output_type": "execute_result"
    }
   ],
   "source": [
    "15"
   ]
  },
  {
   "cell_type": "code",
   "execution_count": 7,
   "metadata": {
    "colab": {
     "base_uri": "https://localhost:8080/"
    },
    "executionInfo": {
     "elapsed": 19,
     "status": "ok",
     "timestamp": 1743979749102,
     "user": {
      "displayName": "Bibiana Trujillo",
      "userId": "03915417954445271831"
     },
     "user_tz": 300
    },
    "id": "LZ5E4ORYSlO9",
    "outputId": "76ef6d56-af7c-478a-fa87-4523908b7e23"
   },
   "outputs": [
    {
     "name": "stdout",
     "output_type": "stream",
     "text": [
      "Mi nombre es Bibiana y tengo 4? años y me encanta la ciencia de datos\n"
     ]
    }
   ],
   "source": [
    "print('Mi nombre es Bibiana y tengo 4? años y me encanta la ciencia de datos')"
   ]
  },
  {
   "cell_type": "markdown",
   "metadata": {
    "id": "iP8uWQmFYFRs"
   },
   "source": [
    "# Manipulando los datos\n",
    "\n",
    "Vamos a aprender sobre las variables en Python, cómo declararlas y utilizarlas además de conocer otros comandos de este lenguaje. :D"
   ]
  },
  {
   "cell_type": "markdown",
   "metadata": {
    "id": "sLNVmnTbag1Z"
   },
   "source": [
    "## Variables\n",
    "\n",
    "En Data Science trabajamos con varios tipos de datos e informaciones, entonces es esencial saber cómo trabajar con las variables."
   ]
  },
  {
   "cell_type": "markdown",
   "metadata": {
    "id": "lsCY0wahAbf6"
   },
   "source": [
    "Las variables en Python se crean cuando atribuimos un valor a ella.\n",
    "\n",
    "Para esto, colocamos el nombre de la variable, el signo de igual (`=`) y el valor que queremos atribuirle."
   ]
  },
  {
   "cell_type": "code",
   "execution_count": 1,
   "metadata": {
    "colab": {
     "base_uri": "https://localhost:8080/"
    },
    "executionInfo": {
     "elapsed": 90,
     "status": "ok",
     "timestamp": 1744001709545,
     "user": {
      "displayName": "Bibiana Trujillo",
      "userId": "03915417954445271831"
     },
     "user_tz": 300
    },
    "id": "vsHh5buZADND",
    "outputId": "906142ac-5ea6-4737-d3c1-90f546bc29a6"
   },
   "outputs": [
    {
     "data": {
      "text/plain": [
       "5"
      ]
     },
     "execution_count": 1,
     "metadata": {},
     "output_type": "execute_result"
    }
   ],
   "source": [
    "5"
   ]
  },
  {
   "cell_type": "code",
   "execution_count": 5,
   "metadata": {
    "colab": {
     "base_uri": "https://localhost:8080/"
    },
    "executionInfo": {
     "elapsed": 57,
     "status": "ok",
     "timestamp": 1744001732664,
     "user": {
      "displayName": "Bibiana Trujillo",
      "userId": "03915417954445271831"
     },
     "user_tz": 300
    },
    "id": "sivPtqSjADQV",
    "outputId": "88741b60-7261-41eb-a8c1-606783cd345f"
   },
   "outputs": [
    {
     "data": {
      "text/plain": [
       "10750984"
      ]
     },
     "execution_count": 5,
     "metadata": {},
     "output_type": "execute_result"
    }
   ],
   "source": [
    "id(5)"
   ]
  },
  {
   "cell_type": "code",
   "execution_count": 6,
   "metadata": {
    "executionInfo": {
     "elapsed": 60,
     "status": "ok",
     "timestamp": 1744001754898,
     "user": {
      "displayName": "Bibiana Trujillo",
      "userId": "03915417954445271831"
     },
     "user_tz": 300
    },
    "id": "JC8jO47wADlm"
   },
   "outputs": [],
   "source": [
    "edad = 5"
   ]
  },
  {
   "cell_type": "code",
   "execution_count": 7,
   "metadata": {
    "colab": {
     "base_uri": "https://localhost:8080/"
    },
    "executionInfo": {
     "elapsed": 70,
     "status": "ok",
     "timestamp": 1744001814454,
     "user": {
      "displayName": "Bibiana Trujillo",
      "userId": "03915417954445271831"
     },
     "user_tz": 300
    },
    "id": "3vJfg9dSmu3E",
    "outputId": "0a97d26f-50f4-4604-edf4-6d5bd33e5e3c"
   },
   "outputs": [
    {
     "name": "stdout",
     "output_type": "stream",
     "text": [
      "10750984\n",
      "10750984\n"
     ]
    }
   ],
   "source": [
    "print(id(edad))\n",
    "print(id(5))"
   ]
  },
  {
   "cell_type": "code",
   "execution_count": 8,
   "metadata": {
    "executionInfo": {
     "elapsed": 87,
     "status": "ok",
     "timestamp": 1744001852364,
     "user": {
      "displayName": "Bibiana Trujillo",
      "userId": "03915417954445271831"
     },
     "user_tz": 300
    },
    "id": "czvMft0GmxTA"
   },
   "outputs": [],
   "source": [
    "numerocinco = 5"
   ]
  },
  {
   "cell_type": "code",
   "execution_count": 10,
   "metadata": {
    "colab": {
     "base_uri": "https://localhost:8080/"
    },
    "executionInfo": {
     "elapsed": 43,
     "status": "ok",
     "timestamp": 1744001973584,
     "user": {
      "displayName": "Bibiana Trujillo",
      "userId": "03915417954445271831"
     },
     "user_tz": 300
    },
    "id": "gPvjmEvHmxz7",
    "outputId": "48d8005f-7665-4646-aa88-07881fdcd06b"
   },
   "outputs": [
    {
     "data": {
      "text/plain": [
       "10750984"
      ]
     },
     "execution_count": 10,
     "metadata": {},
     "output_type": "execute_result"
    }
   ],
   "source": [
    "id(numerocinco)"
   ]
  },
  {
   "cell_type": "code",
   "execution_count": 12,
   "metadata": {
    "executionInfo": {
     "elapsed": 3,
     "status": "ok",
     "timestamp": 1744002403751,
     "user": {
      "displayName": "Bibiana Trujillo",
      "userId": "03915417954445271831"
     },
     "user_tz": 300
    },
    "id": "BwTC8JkepGxY"
   },
   "outputs": [],
   "source": [
    "nombre = 'Gabriel'"
   ]
  },
  {
   "cell_type": "code",
   "execution_count": 13,
   "metadata": {
    "colab": {
     "base_uri": "https://localhost:8080/"
    },
    "executionInfo": {
     "elapsed": 21,
     "status": "ok",
     "timestamp": 1744002457736,
     "user": {
      "displayName": "Bibiana Trujillo",
      "userId": "03915417954445271831"
     },
     "user_tz": 300
    },
    "id": "ry4ny3iRpRUU",
    "outputId": "4fa7f4dd-d884-43ed-9336-54b8876f9cfc"
   },
   "outputs": [
    {
     "data": {
      "text/plain": [
       "135768331182256"
      ]
     },
     "execution_count": 13,
     "metadata": {},
     "output_type": "execute_result"
    }
   ],
   "source": [
    "id('Gabriel')"
   ]
  },
  {
   "cell_type": "code",
   "execution_count": 14,
   "metadata": {
    "colab": {
     "base_uri": "https://localhost:8080/"
    },
    "executionInfo": {
     "elapsed": 45,
     "status": "ok",
     "timestamp": 1744002480427,
     "user": {
      "displayName": "Bibiana Trujillo",
      "userId": "03915417954445271831"
     },
     "user_tz": 300
    },
    "id": "VtbNH40opclh",
    "outputId": "05c46203-fce8-4989-cb79-67f7533d3990"
   },
   "outputs": [
    {
     "data": {
      "text/plain": [
       "135768331182256"
      ]
     },
     "execution_count": 14,
     "metadata": {},
     "output_type": "execute_result"
    }
   ],
   "source": [
    "id(nombre)"
   ]
  },
  {
   "cell_type": "code",
   "execution_count": 15,
   "metadata": {
    "colab": {
     "base_uri": "https://localhost:8080/"
    },
    "executionInfo": {
     "elapsed": 59,
     "status": "ok",
     "timestamp": 1744003242959,
     "user": {
      "displayName": "Bibiana Trujillo",
      "userId": "03915417954445271831"
     },
     "user_tz": 300
    },
    "id": "9-prii1asXCc",
    "outputId": "f544b844-3af2-4ae1-ebe4-63b3e3962cfd"
   },
   "outputs": [
    {
     "name": "stdout",
     "output_type": "stream",
     "text": [
      "10\n"
     ]
    }
   ],
   "source": [
    "# Este es un comentario de una línea\n",
    "print(10) # Podemos colocar otro comentario en una línea después de un código"
   ]
  },
  {
   "cell_type": "code",
   "execution_count": 18,
   "metadata": {
    "colab": {
     "base_uri": "https://localhost:8080/",
     "height": 35
    },
    "executionInfo": {
     "elapsed": 33,
     "status": "ok",
     "timestamp": 1744004238702,
     "user": {
      "displayName": "Bibiana Trujillo",
      "userId": "03915417954445271831"
     },
     "user_tz": 300
    },
    "id": "JJDwEBwisbgA",
    "outputId": "6851ca28-9c5f-4309-cc55-294648ff9caf"
   },
   "outputs": [
    {
     "data": {
      "application/vnd.google.colaboratory.intrinsic+json": {
       "type": "string"
      },
      "text/plain": [
       "'\\nEste es un comentario\\nde varias líneas.\\n'"
      ]
     },
     "execution_count": 18,
     "metadata": {},
     "output_type": "execute_result"
    }
   ],
   "source": [
    "'''\n",
    "Este es un comentario\n",
    "de varias líneas.\n",
    "'''"
   ]
  },
  {
   "cell_type": "markdown",
   "metadata": {
    "id": "om2N0jHKAzwL"
   },
   "source": [
    "Existen algunos tipos de nomes que **no** podemos definir para las variables:\n",
    "\n",
    "- **Nombres que comiencen con números**\n",
    "  - Ejemplos: `10_notas`, `2_nombre_casa`, etc.\n",
    "- **Palabras separadas por espacio**\n",
    "  - Ejemplos: `Nombre escuela`, `notas estudiantes`, etc.\n",
    "- **Nombres de funciones de Python**\n",
    "  - Ejemplos: `print`, `type`, etc."
   ]
  },
  {
   "cell_type": "code",
   "execution_count": null,
   "metadata": {
    "id": "OAByXXpupOgM"
   },
   "outputs": [],
   "source": []
  },
  {
   "cell_type": "markdown",
   "metadata": {
    "id": "A19vY2GVMujB"
   },
   "source": [
    "> Las letras mayúsculas y minúsculas generarán diferentes variables. La variable `edad` es diferente de `Edad` que a su vez es diferente de `EDAD`:\n",
    "``` Python\n",
    "edad = 1\n",
    "Edad = 2\n",
    "EDAD = 3\n",
    "_edad = 4\n",
    "_edad_ = 5\n",
    "print(edad, Edad, EDAD, _edad, _edad_)\n",
    "1 2 3 4 5\n",
    "```"
   ]
  },
  {
   "cell_type": "markdown",
   "metadata": {
    "id": "UqhzuBhBHsps"
   },
   "source": [
    "## Tipos de variables\n",
    "\n",
    "Cada variable contiene una clase específica con respecto al tipo de objeto al cual esta hace referencia. Estas clases serán diferentes de acuerdo con el tipo de dato que le sea atribuido a una variable.\n",
    "\n",
    "Para conocer la clase de cada elemento usamos la función [`type()`](https://docs.python.org/3/library/functions.html#type)"
   ]
  },
  {
   "cell_type": "code",
   "execution_count": 19,
   "metadata": {
    "executionInfo": {
     "elapsed": 76,
     "status": "ok",
     "timestamp": 1744005523513,
     "user": {
      "displayName": "Bibiana Trujillo",
      "userId": "03915417954445271831"
     },
     "user_tz": 300
    },
    "id": "J5a9t73A_-PX"
   },
   "outputs": [],
   "source": [
    "edad = 5"
   ]
  },
  {
   "cell_type": "code",
   "execution_count": 20,
   "metadata": {
    "colab": {
     "base_uri": "https://localhost:8080/"
    },
    "executionInfo": {
     "elapsed": 122,
     "status": "ok",
     "timestamp": 1744005621825,
     "user": {
      "displayName": "Bibiana Trujillo",
      "userId": "03915417954445271831"
     },
     "user_tz": 300
    },
    "id": "rqmO1ew-_-So",
    "outputId": "792379a3-b440-4012-ce7f-8f99f496ce72"
   },
   "outputs": [
    {
     "data": {
      "text/plain": [
       "int"
      ]
     },
     "execution_count": 20,
     "metadata": {},
     "output_type": "execute_result"
    }
   ],
   "source": [
    "type(edad)"
   ]
  },
  {
   "cell_type": "code",
   "execution_count": 22,
   "metadata": {
    "colab": {
     "base_uri": "https://localhost:8080/"
    },
    "executionInfo": {
     "elapsed": 17,
     "status": "ok",
     "timestamp": 1744005667846,
     "user": {
      "displayName": "Bibiana Trujillo",
      "userId": "03915417954445271831"
     },
     "user_tz": 300
    },
    "id": "xkrPMkeY_-cP",
    "outputId": "d5c19108-ea53-44fd-aad6-9bc59053bf4a"
   },
   "outputs": [
    {
     "data": {
      "text/plain": [
       "float"
      ]
     },
     "execution_count": 22,
     "metadata": {},
     "output_type": "execute_result"
    }
   ],
   "source": [
    "promedio = 9.5\n",
    "type(promedio)"
   ]
  },
  {
   "cell_type": "code",
   "execution_count": 24,
   "metadata": {
    "colab": {
     "base_uri": "https://localhost:8080/"
    },
    "executionInfo": {
     "elapsed": 49,
     "status": "ok",
     "timestamp": 1744005708467,
     "user": {
      "displayName": "Bibiana Trujillo",
      "userId": "03915417954445271831"
     },
     "user_tz": 300
    },
    "id": "bIJz4Um41mBx",
    "outputId": "dd70433e-c582-4222-8b1d-d9e4f9b4a8a9"
   },
   "outputs": [
    {
     "data": {
      "text/plain": [
       "str"
      ]
     },
     "execution_count": 24,
     "metadata": {},
     "output_type": "execute_result"
    }
   ],
   "source": [
    "nombre = \"Bibiana\"\n",
    "type('Bibiana')"
   ]
  },
  {
   "cell_type": "code",
   "execution_count": 28,
   "metadata": {
    "colab": {
     "base_uri": "https://localhost:8080/"
    },
    "executionInfo": {
     "elapsed": 90,
     "status": "ok",
     "timestamp": 1744005750537,
     "user": {
      "displayName": "Bibiana Trujillo",
      "userId": "03915417954445271831"
     },
     "user_tz": 300
    },
    "id": "-YW6Np7u12Lq",
    "outputId": "1e1eebcf-9931-4384-fa09-cd738ff7760a"
   },
   "outputs": [
    {
     "data": {
      "text/plain": [
       "bool"
      ]
     },
     "execution_count": 28,
     "metadata": {},
     "output_type": "execute_result"
    }
   ],
   "source": [
    "v = True\n",
    "type(v)"
   ]
  },
  {
   "cell_type": "markdown",
   "metadata": {
    "id": "O-FxDumfWu0C"
   },
   "source": [
    "En un conjunto de datos escolares podemos tener varios tipos de informaciones. Supongamos que tenemos acceso a la ficha de datos del alumno *Penélope Camacho*, cómo transformamos este nombre en variables de Python?\n",
    "\n",
    "#### Ficha:\n",
    "\n",
    "- Nombre: Penélope Camacho\n",
    "- Edad: 11 años\n",
    "- Promedio del semestre: 9,75\n",
    "- Situación de aprobación: Verdadera (aprobado)"
   ]
  },
  {
   "cell_type": "code",
   "execution_count": 32,
   "metadata": {
    "colab": {
     "base_uri": "https://localhost:8080/"
    },
    "executionInfo": {
     "elapsed": 39,
     "status": "ok",
     "timestamp": 1744005973353,
     "user": {
      "displayName": "Bibiana Trujillo",
      "userId": "03915417954445271831"
     },
     "user_tz": 300
    },
    "id": "FabQ7jQf_8Xt",
    "outputId": "831e8091-0003-497a-fc07-888a74fdb926"
   },
   "outputs": [
    {
     "name": "stdout",
     "output_type": "stream",
     "text": [
      "Penélope Camacho 11 9.75 True\n",
      "<class 'str'> <class 'int'> <class 'float'> <class 'bool'>\n"
     ]
    }
   ],
   "source": [
    "nombre_estudiante = 'Penélope Camacho'\n",
    "edad_estudiante = 11\n",
    "promedio_estudiante = 9.75\n",
    "aprobado = True\n",
    "\n",
    "print(nombre_estudiante,edad_estudiante,promedio_estudiante,aprobado)\n",
    "print(type(nombre_estudiante),type(edad_estudiante),type(promedio_estudiante),type(aprobado))"
   ]
  },
  {
   "cell_type": "markdown",
   "metadata": {
    "id": "KFq_8Sxf-OG0"
   },
   "source": [
    "## Variables numéricas\n",
    "\n",
    "Entre los tipos de datos numéricos vamos a enfocarnos en los tipos `entero` y `float`."
   ]
  },
  {
   "cell_type": "markdown",
   "metadata": {
    "id": "8_HYUbkVYdQY"
   },
   "source": [
    "Tenemos una tabla de información sobre los diversos cargos, cantidad de personas empleadas y el salario correspondiente:\n",
    "\n",
    "|Cargo | Cantidad | Salario|\n",
    "|---|---|---|\n",
    "|Vigilante | 5 | 300 |\n",
    "|Docente | 16| 500|\n",
    "|Coordinador| 2 |600|\n",
    "\n",
    "Necesitamos trabajar con estos datos para obtener:\n",
    "\n",
    "- La cantidad total de empleados;\n",
    "- La diferencia entre el salario más bajo y más alto; y\n",
    "- El promedio ponderado de los salarios de los empleados de la escuela."
   ]
  },
  {
   "cell_type": "code",
   "execution_count": 38,
   "metadata": {
    "executionInfo": {
     "elapsed": 5,
     "status": "ok",
     "timestamp": 1744006464785,
     "user": {
      "displayName": "Bibiana Trujillo",
      "userId": "03915417954445271831"
     },
     "user_tz": 300
    },
    "id": "F_X-wxdm_5Ys"
   },
   "outputs": [],
   "source": [
    "c_vigilante = 5\n",
    "s_vigilante = 300\n",
    "\n",
    "c_docentes = 16\n",
    "s_docentes = 500\n",
    "\n",
    "c_coordinador = 2\n",
    "s_coordinador = 600"
   ]
  },
  {
   "cell_type": "code",
   "execution_count": 39,
   "metadata": {
    "colab": {
     "base_uri": "https://localhost:8080/"
    },
    "executionInfo": {
     "elapsed": 72,
     "status": "ok",
     "timestamp": 1744006467921,
     "user": {
      "displayName": "Bibiana Trujillo",
      "userId": "03915417954445271831"
     },
     "user_tz": 300
    },
    "id": "gKmBbhII_5b9",
    "outputId": "98f83d5e-0db0-4d5d-fd30-45ace0aa19c6"
   },
   "outputs": [
    {
     "data": {
      "text/plain": [
       "23"
      ]
     },
     "execution_count": 39,
     "metadata": {},
     "output_type": "execute_result"
    }
   ],
   "source": [
    "total_empleados = c_vigilante + c_docentes + c_coordinador\n",
    "total_empleados"
   ]
  },
  {
   "cell_type": "code",
   "execution_count": 41,
   "metadata": {
    "colab": {
     "base_uri": "https://localhost:8080/"
    },
    "executionInfo": {
     "elapsed": 26,
     "status": "ok",
     "timestamp": 1744006476024,
     "user": {
      "displayName": "Bibiana Trujillo",
      "userId": "03915417954445271831"
     },
     "user_tz": 300
    },
    "id": "fIugsxNy_53j",
    "outputId": "48a9062b-ab97-4af4-9682-9c7d19ab3080"
   },
   "outputs": [
    {
     "data": {
      "text/plain": [
       "300"
      ]
     },
     "execution_count": 41,
     "metadata": {},
     "output_type": "execute_result"
    }
   ],
   "source": [
    "diferencia_salario = s_coordinador - s_vigilante\n",
    "diferencia_salario\n"
   ]
  },
  {
   "cell_type": "code",
   "execution_count": 45,
   "metadata": {
    "colab": {
     "base_uri": "https://localhost:8080/"
    },
    "executionInfo": {
     "elapsed": 38,
     "status": "ok",
     "timestamp": 1744006568292,
     "user": {
      "displayName": "Bibiana Trujillo",
      "userId": "03915417954445271831"
     },
     "user_tz": 300
    },
    "id": "g1Duc_EK4BFt",
    "outputId": "0915db14-60bd-423a-8351-e46756feae14"
   },
   "outputs": [
    {
     "data": {
      "text/plain": [
       "465.2173913043478"
      ]
     },
     "execution_count": 45,
     "metadata": {},
     "output_type": "execute_result"
    }
   ],
   "source": [
    "#El promedio ponderado de los salarios de los empleados de la escuela.\n",
    "promedio_salario = (c_vigilante * s_vigilante + c_docentes * s_docentes + c_coordinador * s_coordinador) / total_empleados\n",
    "promedio_salario"
   ]
  },
  {
   "cell_type": "code",
   "execution_count": 46,
   "metadata": {
    "colab": {
     "base_uri": "https://localhost:8080/"
    },
    "executionInfo": {
     "elapsed": 35,
     "status": "ok",
     "timestamp": 1744006617607,
     "user": {
      "displayName": "Bibiana Trujillo",
      "userId": "03915417954445271831"
     },
     "user_tz": 300
    },
    "id": "Cio2WtL45Mhf",
    "outputId": "9bd09dd1-05a7-41ab-bbb6-9486f638876f"
   },
   "outputs": [
    {
     "data": {
      "text/plain": [
       "float"
      ]
     },
     "execution_count": 46,
     "metadata": {},
     "output_type": "execute_result"
    }
   ],
   "source": [
    "type(promedio_salario)"
   ]
  },
  {
   "cell_type": "markdown",
   "metadata": {
    "id": "yQy7b0ZWoD-P"
   },
   "source": [
    "## Strings"
   ]
  },
  {
   "cell_type": "markdown",
   "metadata": {
    "id": "vlo2-DXusv3s"
   },
   "source": [
    "Strings hace referencia a un conjunto de caracteres formando un texto.\n",
    "\n",
    "Podemos crear Strings cuando atribuimos un dato a una variable entre comillas sencillas (`'`) o comillas dobles (`\"`)."
   ]
  },
  {
   "cell_type": "code",
   "execution_count": 47,
   "metadata": {
    "colab": {
     "base_uri": "https://localhost:8080/"
    },
    "executionInfo": {
     "elapsed": 96,
     "status": "ok",
     "timestamp": 1744007178648,
     "user": {
      "displayName": "Bibiana Trujillo",
      "userId": "03915417954445271831"
     },
     "user_tz": 300
    },
    "id": "ityEWqvh_2wK",
    "outputId": "d7ac6b81-acb7-486d-f2a0-2977a25996df"
   },
   "outputs": [
    {
     "data": {
      "text/plain": [
       "str"
      ]
     },
     "execution_count": 47,
     "metadata": {},
     "output_type": "execute_result"
    }
   ],
   "source": [
    "t = 'Alura'\n",
    "type(t)"
   ]
  },
  {
   "cell_type": "markdown",
   "metadata": {
    "id": "2e9UD_CCxqz_"
   },
   "source": [
    "Las variables textuales son objetos que poseen métodos que nos ayudan a formatear strings. Los métodos los podemos ejecutar al definir un objeto de acuerdo con la siguiente estructura:\n",
    "\n",
    "```\n",
    "objeto.metodo()\n",
    "```\n",
    "\n",
    "Existen métodos que no necesitan los `()`, siempre es una buena práctica verificar la documentación para cada caso."
   ]
  },
  {
   "cell_type": "markdown",
   "metadata": {
    "id": "p6aPmMGP4tf9"
   },
   "source": [
    "---\n",
    "**Situación:**\n",
    "\n",
    "Recibimos una variable con el nombre de una profesora de la escuela para añadirla a los registros. Sin embargo, necesitamos darle un tratamiento a este texto antes de insertarlo al sistema."
   ]
  },
  {
   "cell_type": "code",
   "execution_count": 49,
   "metadata": {
    "colab": {
     "base_uri": "https://localhost:8080/"
    },
    "executionInfo": {
     "elapsed": 101,
     "status": "ok",
     "timestamp": 1744007408415,
     "user": {
      "displayName": "Bibiana Trujillo",
      "userId": "03915417954445271831"
     },
     "user_tz": 300
    },
    "id": "icDWtYTjBO0n",
    "outputId": "68b26533-dada-4ac1-eb80-6d1f577df1d6"
   },
   "outputs": [
    {
     "data": {
      "text/plain": [
       "135768318323536"
      ]
     },
     "execution_count": 49,
     "metadata": {},
     "output_type": "execute_result"
    }
   ],
   "source": [
    "texto = '  Micaela de los Sanyos '\n",
    "id(texto)"
   ]
  },
  {
   "cell_type": "markdown",
   "metadata": {
    "id": "Dg2ZXSZOGzjC"
   },
   "source": [
    "El objetivo final es que el nombre aparezca de la siguiente forma:\n",
    "\n",
    "```\n",
    "'MICAELA DE LOS SANTOS'\n",
    "```"
   ]
  },
  {
   "cell_type": "markdown",
   "metadata": {
    "id": "iVTAD8q702eN"
   },
   "source": [
    "### [`str.upper()` ](https://docs.python.org/3/library/stdtypes.html#str.upper)\n",
    "Convierte una string a mayúsculas."
   ]
  },
  {
   "cell_type": "code",
   "execution_count": 50,
   "metadata": {
    "colab": {
     "base_uri": "https://localhost:8080/",
     "height": 35
    },
    "executionInfo": {
     "elapsed": 74,
     "status": "ok",
     "timestamp": 1744007451754,
     "user": {
      "displayName": "Bibiana Trujillo",
      "userId": "03915417954445271831"
     },
     "user_tz": 300
    },
    "id": "wMVshJrY_ZXh",
    "outputId": "fc0b521a-fbda-4f7c-e486-64e803503380"
   },
   "outputs": [
    {
     "data": {
      "application/vnd.google.colaboratory.intrinsic+json": {
       "type": "string"
      },
      "text/plain": [
       "'  MICAELA DE LOS SANYOS '"
      ]
     },
     "execution_count": 50,
     "metadata": {},
     "output_type": "execute_result"
    }
   ],
   "source": [
    "texto.upper()"
   ]
  },
  {
   "cell_type": "markdown",
   "metadata": {
    "id": "hbDSBtMV1TpG"
   },
   "source": [
    "### [`str.lower()`](https://docs.python.org/3/library/stdtypes.html#str.lower)\n",
    "Convierte una string a minúsculas."
   ]
  },
  {
   "cell_type": "code",
   "execution_count": 51,
   "metadata": {
    "colab": {
     "base_uri": "https://localhost:8080/",
     "height": 35
    },
    "executionInfo": {
     "elapsed": 65,
     "status": "ok",
     "timestamp": 1744007471623,
     "user": {
      "displayName": "Bibiana Trujillo",
      "userId": "03915417954445271831"
     },
     "user_tz": 300
    },
    "id": "px3yEeNH_YK4",
    "outputId": "f805b51b-95e9-480a-8472-f4b4f4540cbb"
   },
   "outputs": [
    {
     "data": {
      "application/vnd.google.colaboratory.intrinsic+json": {
       "type": "string"
      },
      "text/plain": [
       "'  micaela de los sanyos '"
      ]
     },
     "execution_count": 51,
     "metadata": {},
     "output_type": "execute_result"
    }
   ],
   "source": [
    "texto.lower()"
   ]
  },
  {
   "cell_type": "markdown",
   "metadata": {
    "id": "kz47eWM11gii"
   },
   "source": [
    "### [`str.strip()`](https://docs.python.org/3/library/stdtypes.html#str.strip)\n",
    "Elimina los espacios en blanco al inicio y al final de una string."
   ]
  },
  {
   "cell_type": "code",
   "execution_count": 52,
   "metadata": {
    "colab": {
     "base_uri": "https://localhost:8080/",
     "height": 35
    },
    "executionInfo": {
     "elapsed": 65,
     "status": "ok",
     "timestamp": 1744007499279,
     "user": {
      "displayName": "Bibiana Trujillo",
      "userId": "03915417954445271831"
     },
     "user_tz": 300
    },
    "id": "76dLgNa4_XAe",
    "outputId": "0c03c849-ad18-4b55-9c5f-68a5b763373d"
   },
   "outputs": [
    {
     "data": {
      "application/vnd.google.colaboratory.intrinsic+json": {
       "type": "string"
      },
      "text/plain": [
       "'Micaela de los Sanyos'"
      ]
     },
     "execution_count": 52,
     "metadata": {},
     "output_type": "execute_result"
    }
   ],
   "source": [
    "texto.strip()"
   ]
  },
  {
   "cell_type": "markdown",
   "metadata": {
    "id": "m6notiyS1SCV"
   },
   "source": [
    "### [`str.replace(antiguo, nuevo)`](https://docs.python.org/3/library/stdtypes.html#str.replace)\n",
    "\n",
    "Sustituye todas las ocurrencias del texto \"antiguo\" en la string por el  \"nuevo\"."
   ]
  },
  {
   "cell_type": "code",
   "execution_count": 53,
   "metadata": {
    "colab": {
     "base_uri": "https://localhost:8080/",
     "height": 35
    },
    "executionInfo": {
     "elapsed": 54,
     "status": "ok",
     "timestamp": 1744007526036,
     "user": {
      "displayName": "Bibiana Trujillo",
      "userId": "03915417954445271831"
     },
     "user_tz": 300
    },
    "id": "PNXAixtE_V6R",
    "outputId": "ec2fe7d4-a64b-4723-f2c0-266c7fc413af"
   },
   "outputs": [
    {
     "data": {
      "application/vnd.google.colaboratory.intrinsic+json": {
       "type": "string"
      },
      "text/plain": [
       "'  Micaela de los Santos '"
      ]
     },
     "execution_count": 53,
     "metadata": {},
     "output_type": "execute_result"
    }
   ],
   "source": [
    "texto.replace('y','t')"
   ]
  },
  {
   "cell_type": "markdown",
   "metadata": {
    "id": "zukvEjhG2Rcn"
   },
   "source": [
    "### Observaciones\n",
    "\n",
    "1. Los métodos devuelven una **tranformación**, no son ejecutados directamente sobre la variable donde está almacenado el texto.\n",
    "\n",
    "2. Adicionalmente, podemos acumular la ejecución de los métodos."
   ]
  },
  {
   "cell_type": "code",
   "execution_count": null,
   "metadata": {
    "id": "JjkBRklr_T5n"
   },
   "outputs": [],
   "source": []
  },
  {
   "cell_type": "code",
   "execution_count": 57,
   "metadata": {
    "colab": {
     "base_uri": "https://localhost:8080/",
     "height": 35
    },
    "executionInfo": {
     "elapsed": 62,
     "status": "ok",
     "timestamp": 1744007635501,
     "user": {
      "displayName": "Bibiana Trujillo",
      "userId": "03915417954445271831"
     },
     "user_tz": 300
    },
    "id": "hcY_DDPM80gD",
    "outputId": "a7061c29-ec06-4b2d-d78b-a7130e6ca426"
   },
   "outputs": [
    {
     "data": {
      "application/vnd.google.colaboratory.intrinsic+json": {
       "type": "string"
      },
      "text/plain": [
       "'  Micaela de los Sanyos '"
      ]
     },
     "execution_count": 57,
     "metadata": {},
     "output_type": "execute_result"
    }
   ],
   "source": [
    "texto"
   ]
  },
  {
   "cell_type": "code",
   "execution_count": 56,
   "metadata": {
    "colab": {
     "base_uri": "https://localhost:8080/"
    },
    "executionInfo": {
     "elapsed": 45,
     "status": "ok",
     "timestamp": 1744007586962,
     "user": {
      "displayName": "Bibiana Trujillo",
      "userId": "03915417954445271831"
     },
     "user_tz": 300
    },
    "id": "32KDtLE687Q3",
    "outputId": "01bc89c7-8c39-44d9-a60e-2d29c885b74a"
   },
   "outputs": [
    {
     "data": {
      "text/plain": [
       "135768318323536"
      ]
     },
     "execution_count": 56,
     "metadata": {},
     "output_type": "execute_result"
    }
   ],
   "source": [
    "id(texto)"
   ]
  },
  {
   "cell_type": "markdown",
   "metadata": {
    "id": "1KbwfVut2h6I"
   },
   "source": [
    "Para que la transformación se pueda ejecutar debemos atribuir la salida de las transformaciones a las variables"
   ]
  },
  {
   "cell_type": "code",
   "execution_count": 59,
   "metadata": {
    "colab": {
     "base_uri": "https://localhost:8080/"
    },
    "executionInfo": {
     "elapsed": 51,
     "status": "ok",
     "timestamp": 1744007852657,
     "user": {
      "displayName": "Bibiana Trujillo",
      "userId": "03915417954445271831"
     },
     "user_tz": 300
    },
    "id": "ocPP-Jaj_SJI",
    "outputId": "d0f49bba-4cca-42eb-8efe-79f69ef39eb2"
   },
   "outputs": [
    {
     "name": "stdout",
     "output_type": "stream",
     "text": [
      "MICAELA DE LOS SANTOS\n",
      "135768318323536 135768318063152\n"
     ]
    }
   ],
   "source": [
    "nuevo_texto = texto.strip().replace('y','t').upper()\n",
    "print(nuevo_texto)\n",
    "print(id(texto),id(nuevo_texto))"
   ]
  },
  {
   "cell_type": "code",
   "execution_count": 60,
   "metadata": {
    "colab": {
     "base_uri": "https://localhost:8080/"
    },
    "executionInfo": {
     "elapsed": 88,
     "status": "ok",
     "timestamp": 1744007939734,
     "user": {
      "displayName": "Bibiana Trujillo",
      "userId": "03915417954445271831"
     },
     "user_tz": 300
    },
    "id": "wiq5IqUd-KWf",
    "outputId": "0cc0c94d-2bfa-4fed-8ef8-d2871dac5976"
   },
   "outputs": [
    {
     "name": "stdout",
     "output_type": "stream",
     "text": [
      "MICAELA DE LOS SANTOS\n",
      "135768318326336 135768318063152\n"
     ]
    }
   ],
   "source": [
    "texto = texto.strip().replace('y','t').upper()\n",
    "print(nuevo_texto)\n",
    "print(id(texto),id(nuevo_texto))"
   ]
  },
  {
   "cell_type": "code",
   "execution_count": null,
   "metadata": {
    "id": "7r-Uqg_w-KNr"
   },
   "outputs": [],
   "source": []
  },
  {
   "cell_type": "markdown",
   "metadata": {
    "id": "0h9Fh5G9kHCa"
   },
   "source": [
    "## Capturando datos\n",
    "\n",
    "En algunas aplicaciones necesitamos capturar los valores del usuario de nuestro proyecto. En python, logramos capturar los datos del usuario a través del comando [`input()`](https://docs.python.org/3/library/functions.html#input).\n",
    "\n",
    "Para ejecutar la captura debemos atribuir el resultado de esta función a una variable."
   ]
  },
  {
   "cell_type": "code",
   "execution_count": null,
   "metadata": {
    "id": "zbH_9i3q_PdY"
   },
   "outputs": [],
   "source": []
  },
  {
   "cell_type": "code",
   "execution_count": null,
   "metadata": {
    "id": "JZy1Q9Tl_PgL"
   },
   "outputs": [],
   "source": []
  },
  {
   "cell_type": "markdown",
   "metadata": {
    "id": "7z7hcLCk_aCY"
   },
   "source": [
    "La salida de este comando siempre será una *string*. Esto quiere decir que aunque capturemos un valor de variable numérica, este será de tipo string.\n",
    "\n",
    "Entonces, será necesario **convertir el resultado cuando no se desea utilizar el valor como tipo string**."
   ]
  },
  {
   "cell_type": "markdown",
   "metadata": {
    "id": "TOlegATj1Jfp"
   },
   "source": [
    "Existen funciones para la conversión de valores:\n",
    "\n",
    "- Enteros: [`int(dato_para_conversion)`](https://docs.python.org/3/library/functions.html#int)\n",
    "- Coma flotante: [`float(dato_para_conversion)`](https://docs.python.org/3/library/functions.html#float)\n",
    "- String: [`str(dato_para_conversion)`](https://docs.python.org/3/library/functions.html#func-str)\n",
    "- Booleano: [`bool(dato_para_conversion)`](https://docs.python.org/3/library/functions.html#bool)"
   ]
  },
  {
   "cell_type": "code",
   "execution_count": null,
   "metadata": {
    "id": "M2ueeH6l_NMe"
   },
   "outputs": [],
   "source": []
  },
  {
   "cell_type": "code",
   "execution_count": null,
   "metadata": {
    "id": "xfWwuViK_NUn"
   },
   "outputs": [],
   "source": []
  },
  {
   "cell_type": "code",
   "execution_count": null,
   "metadata": {
    "id": "uFCHDyew_NZm"
   },
   "outputs": [],
   "source": []
  },
  {
   "cell_type": "markdown",
   "metadata": {
    "id": "yNI2-XTbB3aS"
   },
   "source": [
    "Trataremos de representar mejor ahora el resultado de la transformación que obtuvimos. Nosotros podemos formatear y presentar nuestro resultado mezclando strings con valores no textuales.\n",
    "\n",
    "Para ello utilizamos la estructura de formatación `f` con strings."
   ]
  },
  {
   "cell_type": "code",
   "execution_count": null,
   "metadata": {
    "id": "keJjA5N9_K5i"
   },
   "outputs": [],
   "source": []
  },
  {
   "cell_type": "markdown",
   "metadata": {
    "id": "NwRaiHHHhhyl"
   },
   "source": [
    "# Estructuras condicionales"
   ]
  },
  {
   "cell_type": "code",
   "execution_count": null,
   "metadata": {
    "id": "pa4gLncu-mvU"
   },
   "outputs": [],
   "source": []
  },
  {
   "cell_type": "code",
   "execution_count": null,
   "metadata": {
    "id": "_cWRmDiE-m4p"
   },
   "outputs": [],
   "source": []
  },
  {
   "cell_type": "markdown",
   "metadata": {
    "id": "qXZqg9aYEhAh"
   },
   "source": [
    "## `IF` y `ELSE`\n",
    "\n",
    "Los comandos `if` y `else` son dos estructuras condicionales. El comando `if` ejecutará el bloque de comandos en caso de que la condición citada sea  **verdadera**. El comando `else` ejecutará el bloque de comandos en el caso de que la condicional de `if` sea **falsa**."
   ]
  },
  {
   "cell_type": "markdown",
   "metadata": {
    "id": "EIhlqHXd2Gil"
   },
   "source": [
    "El comando `if` es una palabra clave en Python que significa \"si\". Este se emplea para conformar la estructura condicional, que te permite verificar si una determinada condición es verdadera o falsa e, inmediatamente después, ejecute un bloque de código específico dependiendo del resultado de la verificación. La sintaxis para usar el comando `if` es:\n",
    "\n",
    "\n",
    "\n",
    "```\n",
    "if condicion:\n",
    "    # Realiza algo\n",
    "```\n",
    "\n"
   ]
  },
  {
   "cell_type": "code",
   "execution_count": null,
   "metadata": {
    "id": "S2S6XAFz-czM"
   },
   "outputs": [],
   "source": []
  },
  {
   "cell_type": "code",
   "execution_count": null,
   "metadata": {
    "id": "YHkwMMyY-c1r"
   },
   "outputs": [],
   "source": []
  },
  {
   "cell_type": "markdown",
   "metadata": {
    "id": "27RW2v_sIKct"
   },
   "source": [
    "Ya el comando `else` en Python se usa en junción con la palabra clave `if` para formar una estructura condicional. la sintaxis para usar el `else` es:\n",
    "\n",
    "```\n",
    "if condicion:\n",
    "  # codigo en caso de que sea verdad\n",
    "else:\n",
    "  # codigo en caso de que sea falso\n",
    "```\n",
    "\n",
    "el comando `else` se ejecuta cuando la condición verificada por el `if` es evaluada como `False`."
   ]
  },
  {
   "cell_type": "code",
   "execution_count": null,
   "metadata": {
    "id": "ZTfNJd_f-aOq"
   },
   "outputs": [],
   "source": []
  },
  {
   "cell_type": "code",
   "execution_count": null,
   "metadata": {
    "id": "LPOb5MkV-btq"
   },
   "outputs": [],
   "source": []
  },
  {
   "cell_type": "markdown",
   "metadata": {
    "id": "BqORg85XX-Nl"
   },
   "source": [
    "---\n",
    "**Situación:**\n",
    "\n",
    "Recibiremos el promedio de la nota de los estudiantes y necesitamos de un algoritmo que ejecute el análisis y determine si el estudiante fue **Aprobado** o **Reprobado**, mostrando un mensaje del resultado. Para ser aprobado, el promedio necesita ser igual o superior a 7.0."
   ]
  },
  {
   "cell_type": "code",
   "execution_count": null,
   "metadata": {
    "id": "UukCN4AQ-YYW"
   },
   "outputs": [],
   "source": []
  },
  {
   "cell_type": "code",
   "execution_count": null,
   "metadata": {
    "id": "X0o8FW1H-YkA"
   },
   "outputs": [],
   "source": []
  },
  {
   "cell_type": "markdown",
   "metadata": {
    "id": "bD9O17HB6LUo"
   },
   "source": [
    "Ahora, nuestra institución educativa estableció que las personas que tengan el promedio entre 5.0 y 7.0 pueden participar del curso de **Recuperación** durante las vacaciones para lograr aprobar.\n",
    "\n",
    "Entonces podemos apoyarnos en un conjunto de `if`s para poder estructurar esta nueva condición."
   ]
  },
  {
   "cell_type": "code",
   "execution_count": null,
   "metadata": {
    "id": "G9cJ5O9--W52"
   },
   "outputs": [],
   "source": []
  },
  {
   "cell_type": "code",
   "execution_count": null,
   "metadata": {
    "id": "iU-pjoJt-W89"
   },
   "outputs": [],
   "source": []
  },
  {
   "cell_type": "markdown",
   "metadata": {
    "id": "D5e2mByjvycO"
   },
   "source": [
    "Observa que en casos con 3 situaciones como este necesitamos definir bien nuestras condiciones. Pues, si realizamos una condición con `else` al final, este irá a considerar solamente la condición `if` inmediatamente anterior para generar la salida en caso de que el resultado de su operación lógica sea **falso** dando como resultado, dos o más ejecuciones.\n",
    "\n",
    "Por ejemplo:"
   ]
  },
  {
   "cell_type": "code",
   "execution_count": null,
   "metadata": {
    "id": "C21JmOuK-VU8"
   },
   "outputs": [],
   "source": []
  },
  {
   "cell_type": "code",
   "execution_count": null,
   "metadata": {
    "id": "bHiVgnPs-Vlv"
   },
   "outputs": [],
   "source": []
  },
  {
   "cell_type": "markdown",
   "metadata": {
    "id": "04T5g-7h4zWx"
   },
   "source": [
    "## `ELIF`\n",
    "\n",
    "El comando `elif` es una palabra clave en Python que significa \"si no, si\" y lo podemos considerar una *contracción* entre `else` e `if`. Se utiliza en conjunto con la palabra clave `if` para formar una estructura condicional en cadena."
   ]
  },
  {
   "cell_type": "markdown",
   "metadata": {
    "id": "rNBHr5mm1Lm6"
   },
   "source": [
    "la sintaxis para utilizar el comando `elif` es:\n",
    "\n",
    "```\n",
    "if condicion1:\n",
    "    # Realiza algo\n",
    "elif condicion2:\n",
    "    # Realiza otra cosa\n",
    "elif condicion3:\n",
    "    # Realiza otra cosa\n",
    "else:\n",
    "    # Realiza algo diferente\n",
    "```\n",
    "\n",
    "El comando `elif` permite que puedas verificar varias condiciones en cadena, economizando espacio en tu código. Si la primera condición se evalúa como `False`, el interpretador de Python evaluará la próxima condición con el `elif`. Ello continuará hasta que una condición sea evaluada como `True` o hasta que el `else` sea alcazado. Si ninguna de las condiciones es evaluada como `True`, la ejecución del código del comando `else` será iniciada."
   ]
  },
  {
   "cell_type": "markdown",
   "metadata": {
    "id": "MVoykFbB4bd4"
   },
   "source": [
    "Vamos a emplear el mismo caso anterior:"
   ]
  },
  {
   "cell_type": "code",
   "execution_count": null,
   "metadata": {
    "id": "QFamB78s-TW_"
   },
   "outputs": [],
   "source": []
  },
  {
   "cell_type": "code",
   "execution_count": null,
   "metadata": {
    "id": "nuScbnHF-TfK"
   },
   "outputs": [],
   "source": []
  },
  {
   "cell_type": "markdown",
   "metadata": {
    "id": "Tf1wSOem6iwZ"
   },
   "source": [
    "## Operadores\n",
    "\n",
    "Durante la construcción de comandos a veces necesitamos de una elaboración mayor de la expresión condicional, necesitando que algunos operadores lógicos se encuentren integrados."
   ]
  },
  {
   "cell_type": "markdown",
   "metadata": {
    "id": "GFIZnRWXGPWO"
   },
   "source": [
    "### `AND`, `OR`, `NOT`\n",
    "\n",
    "Los operadores lógicos `and`, `or` y `not` son usados para combinar expresiones lógicas en Python. Ellos son usados frecuentemente en conjunto con el comando `if` para crear estructuras condicionales más complejas.\n"
   ]
  },
  {
   "cell_type": "markdown",
   "metadata": {
    "id": "Z_dgAoHXJbzB"
   },
   "source": [
    "- `AND` es usado para verificar si dos condiciones son verdaderas. La expresión lógica¹ `x and y` se evalúa como `True` tan solo si **ambas condiciones `x` y `y` son verdaderas**, y como `False` en caso contrario.\n",
    "\n",
    "- `OR` es usado para verificar si al menos una de las condiciones es verdadera. La expresión lógica `x or y` se evalúa como `True` **si al menos una de las condiciones `x` o `y` es verdadera**, y como `False` si ambas condiciones son falsas.\n",
    "\n",
    "- `NOT` es usado para **negar una condición**. La expresión lógica `not x` es evaluada como `True` si la condición x es falsa, y como `False` si la condición x es verdadera.\n",
    "\n",
    "¹ Una expresión lógica es una declaración que puede ser evaluada como verdadera o falsa. Ella se compone por operandos lógicos² y por operadores lógicos³, que son usados ​​para combinar varias expresiones lógicas en una única expresión.\n",
    "\n",
    "² Los operandos lógicos son los elementos que son comparados o evaluados en una expresión lógica. Ellos son generalmente valores verdaderos o falsos, pero también pueden ser expresiones lógicas más complejas. En Python, los operandos lógicos son los valores `True` y `False`.\n",
    "\n",
    "³ Los operadores lógicos son ls símbolos o palabras clave que son usados ​​para combinar varias expresiones lógicas en una única expresión. En Python, los operadores lógicos son `and`, `or` y `not`, bien como las palabras clave `if`, `elif` e `else`."
   ]
  },
  {
   "cell_type": "markdown",
   "metadata": {
    "id": "2E5aUogf-49u"
   },
   "source": [
    "> Operadores lógicos más comunes\n",
    "\n",
    "|a|b|AND|OR|NOT|\n",
    "|-|-|-|-|-|\n",
    "|0|0|0|0|1\n",
    "|0|1|0|1|-\n",
    "|1|0|0|1|-\n",
    "|1|1|1|1|0\n"
   ]
  },
  {
   "cell_type": "code",
   "execution_count": null,
   "metadata": {
    "id": "DFKmpvmS-Pa6"
   },
   "outputs": [],
   "source": []
  },
  {
   "cell_type": "code",
   "execution_count": null,
   "metadata": {
    "id": "W5BIrpOD-PeI"
   },
   "outputs": [],
   "source": []
  },
  {
   "cell_type": "code",
   "execution_count": null,
   "metadata": {
    "id": "fpDhYxq4-PiM"
   },
   "outputs": [],
   "source": []
  },
  {
   "cell_type": "markdown",
   "metadata": {
    "id": "w7EXG1dhWtja"
   },
   "source": [
    "### `IN`\n",
    "\n",
    "Es usado para verificar si un elemento está presente en una lista, tupla u otra colección de conjunto. La expresión `x in y` se evalúa como `True` si el elemento `x` esta presente na variávelen la variable de conjunto `y`, y como `False` en caso contrario."
   ]
  },
  {
   "cell_type": "markdown",
   "metadata": {
    "id": "enJNp6JenQbq"
   },
   "source": [
    "Podemos verificarlo con variables de texto.\n",
    "\n",
    "---\n",
    "\n",
    "**Situación:**\n",
    "\n",
    "En la escuela nos entregaron una lista con nombres de estudiantes que fueron aprobados según el promedio del semestre, pero es necesario verificar si algunos nombres están en esa lista para confirmar que los datos estén correctos.\n",
    "\n",
    "La lista distribuida puede ser observada a continuación:\n",
    "\n",
    "```\n",
    "lista = 'Juan Pérez, María González, Pedro Rodríguez, Ana López, Carlos Martínez,\n",
    "    Laura Sánchez, José García, Elena Fernández, Luis Morales, Carmen Torres,\n",
    "    David Ruiz, Isabel Ramírez, Javier Díaz, Sara Herrera, Miguel Castro,\n",
    "    Patricia Ortega, Francisco Vargas, Marta Jiménez, Manuel Medina, Rosa Molina,\n",
    "    Alejandro Silva, Silvia Ruiz, Andrés Torres, Natalia Soto, Diego Guerrero,\n",
    "    Paula Ríos, Ricardo Navarro, Alicia Cordero, Carlos Vidal, Lorena Gómez'\n",
    "```\n",
    "\n",
    "Los nombres que necesitas verificar son los siguientes:\n",
    "\n",
    "```\n",
    "nombre_1 = 'Miguel Castro'\n",
    "nombre_2 = 'Marcelo Noguera'\n",
    "```"
   ]
  },
  {
   "cell_type": "code",
   "execution_count": null,
   "metadata": {
    "id": "gPPN9BCT-Mki"
   },
   "outputs": [],
   "source": []
  },
  {
   "cell_type": "code",
   "execution_count": null,
   "metadata": {
    "id": "GINbG3Fa-Mnb"
   },
   "outputs": [],
   "source": []
  },
  {
   "cell_type": "code",
   "execution_count": null,
   "metadata": {
    "id": "hk-RhNRT-Mp7"
   },
   "outputs": [],
   "source": []
  },
  {
   "cell_type": "markdown",
   "metadata": {
    "id": "aL1vJPewvwvz"
   },
   "source": [
    "# Estructuras de repetición"
   ]
  },
  {
   "cell_type": "markdown",
   "metadata": {
    "id": "VcPfCa8d-84t"
   },
   "source": [
    "Cuando tenemos que ejecutar un mismo bloque de comandos durante varias ocasiones no es nada práctico hacerlo a mano.\n",
    "\n",
    "**Situación**: Nos fue solicitado obtener e imprimir el promedio de 2 notas de **3 estudantes**:"
   ]
  },
  {
   "cell_type": "code",
   "execution_count": null,
   "metadata": {
    "id": "xcx21IGT9qA0"
   },
   "outputs": [],
   "source": []
  },
  {
   "cell_type": "code",
   "execution_count": null,
   "metadata": {
    "id": "Wtbiy9Ay9rGJ"
   },
   "outputs": [],
   "source": []
  },
  {
   "cell_type": "code",
   "execution_count": null,
   "metadata": {
    "id": "Yfyz4anY9rIr"
   },
   "outputs": [],
   "source": []
  },
  {
   "cell_type": "markdown",
   "metadata": {
    "id": "9puIuvUbFSFX"
   },
   "source": [
    "Ahora imaginemos una situación en que no son tan solo 3 estudiantes, sino 100 estudiantes. No sería nada interesante repetir el mismo código 100 veces, sino **ejecutar el mismo código 100 veces**.\n",
    "\n",
    "¡Esta estructura la logramos construir con lazos de repetición!"
   ]
  },
  {
   "cell_type": "markdown",
   "metadata": {
    "id": "uLO9-aE4-wx8"
   },
   "source": [
    "## `WHILE`"
   ]
  },
  {
   "cell_type": "markdown",
   "metadata": {
    "id": "rXZxDMiqHxm9"
   },
   "source": [
    "El lazo `while` es una estructura de control de repetición en Python que permite ejecutar un bloque de código repetidamente mientras que una determinada condición sea verdadera. Su estructura es:\n",
    "\n",
    "\n",
    "\n",
    "```\n",
    "while condicion:\n",
    "    # bloque de codigo\n",
    "```\n",
    "\n",
    "Vamos a construir un ejemplo con un contador de 1 hasta 10.\n"
   ]
  },
  {
   "cell_type": "code",
   "execution_count": null,
   "metadata": {
    "id": "Hd0ZSWxD9wCD"
   },
   "outputs": [],
   "source": []
  },
  {
   "cell_type": "code",
   "execution_count": null,
   "metadata": {
    "id": "miFHNqp29nOL"
   },
   "outputs": [],
   "source": []
  },
  {
   "cell_type": "markdown",
   "metadata": {
    "id": "W4KZPBJuIrut"
   },
   "source": [
    "Ahora vamos a colectar las notas y promedios de cada alumno dentro del lazo `while`. Haremos un ejemplo con 3 promedios."
   ]
  },
  {
   "cell_type": "code",
   "execution_count": null,
   "metadata": {
    "id": "9T5eCLFx9wk6"
   },
   "outputs": [],
   "source": []
  },
  {
   "cell_type": "code",
   "execution_count": null,
   "metadata": {
    "id": "P6E0_dW-9lZ9"
   },
   "outputs": [],
   "source": []
  },
  {
   "cell_type": "markdown",
   "metadata": {
    "id": "WgAIaENMMfCP"
   },
   "source": [
    "## `FOR`"
   ]
  },
  {
   "cell_type": "markdown",
   "metadata": {
    "id": "HxrSZoRAMh-x"
   },
   "source": [
    "El lazo `for` es un tipo de estructura de control de flujo en Python que permite iterar sobre un conjunto de elementos. Su estructura es:\n",
    "\n",
    "\n",
    "\n",
    "```\n",
    "for elemento in conjunto:\n",
    "    # codigo a ser ejecutado para cada elemento\n",
    "```\n",
    "\n",
    "El lazo `for` itera sobre cada elemento del conjunto especificado y ejecuta el bloque de código dentro del lazo para cada elemento. Cuando el lazo llega al final del conjunto, este se interrumpe y el programa continúa la ejecución después del lazo.\n",
    "\n"
   ]
  },
  {
   "cell_type": "markdown",
   "metadata": {
    "id": "6VgjyoQtPHBM"
   },
   "source": [
    "El conjunto lo podemos generar con la función incorporada [`range()`](https://docs.python.org/3/library/functions.html#func-range). Se trata de una función capaz de generar una secuencia de números enteros. La estructura de esta función es:\n",
    "\n",
    "```\n",
    "range(inicio, fin, paso)\n",
    "```\n",
    "\n",
    "Según la documentación, `range()` genera una secuencia de números enteros a partir del valor del parámetro `inicio` hasta el valor del parámetro `fin`, de acuerdo con el valor del parámetro `paso`. Si `inicio` no es especificado, el valor por defecto es `0`. Si `paso` no es especificado, el valor por defecto es `1`.\n",
    "\n",
    "\n"
   ]
  },
  {
   "cell_type": "markdown",
   "metadata": {
    "id": "ryn0hfdlUwC8"
   },
   "source": [
    "Vamos a recrear el mismo contador `while` con el lazo `for`."
   ]
  },
  {
   "cell_type": "code",
   "execution_count": null,
   "metadata": {
    "id": "KkL1wUIj9jL4"
   },
   "outputs": [],
   "source": []
  },
  {
   "cell_type": "code",
   "execution_count": null,
   "metadata": {
    "id": "uXIZnLSr9jOu"
   },
   "outputs": [],
   "source": []
  },
  {
   "cell_type": "markdown",
   "metadata": {
    "id": "8noP8OJ0Vhux"
   },
   "source": [
    "# Estructuras de datos"
   ]
  },
  {
   "cell_type": "markdown",
   "metadata": {
    "id": "xpEUkefTu8fY"
   },
   "source": [
    "Un conjunto de elementos es una colección de items, que son almacenados juntos de manera organizada. Algunos ejemplos de conjuntos de elementos en Python son las listas, los strings y los diccionarios."
   ]
  },
  {
   "cell_type": "markdown",
   "metadata": {
    "id": "THSg4KYLwxIb"
   },
   "source": [
    "## Listas"
   ]
  },
  {
   "cell_type": "markdown",
   "metadata": {
    "id": "dzpsiqrOyJcK"
   },
   "source": [
    "Las listas pueden almacenar una colección de items en orden. Ellas son delimitadas por corchetes `[]` y sus elementos son separados por comas.\n",
    "\n",
    "Estas pueden almacenar cualquier tipo de items, incluyendo números, strings, objetos, otras listas, entre otros. También nos permiten almacenar items de tipos de datos diferentes juntos en una única lista."
   ]
  },
  {
   "cell_type": "code",
   "execution_count": null,
   "metadata": {
    "colab": {
     "base_uri": "https://localhost:8080/"
    },
    "id": "DO3TBj7nAYeG",
    "outputId": "fbee2eb5-265e-4b5b-badf-a0dd9331074b"
   },
   "outputs": [
    {
     "data": {
      "text/plain": [
       "['Penélope Camacho', 9.5, 9.0, 9.7, True]"
      ]
     },
     "execution_count": 62,
     "metadata": {},
     "output_type": "execute_result"
    }
   ],
   "source": [
    "lista = ['Penélope Camacho',9.5,9.0,9.7,True]\n",
    "lista"
   ]
  },
  {
   "cell_type": "code",
   "execution_count": null,
   "metadata": {
    "id": "DO2ubP9N9D_2"
   },
   "outputs": [],
   "source": []
  },
  {
   "cell_type": "markdown",
   "metadata": {
    "id": "qUz3sJNl6LgK"
   },
   "source": [
    "Las listas son organizadas en Python porque **cada elemento de la lista tiene un índice que indica su posición al interior de la lista**. Los índices comienzan en 0 van hasta el tamaño de la lista menos 1."
   ]
  },
  {
   "cell_type": "markdown",
   "metadata": {
    "id": "rLf-Qg526hFD"
   },
   "source": [
    "Tenemos entonces 5 elementos con índices que varían de 0 a 4, ordenadamente:\n",
    "\n",
    "```\n",
    "#             [0]           [1]   [2]   [3]    [4]\n",
    "lista = ['Penélope Camacho', 9.5 , 9.0 , 9.7 , True]\n",
    "```\n",
    "\n",
    "En Python tenemos también los índices **negativos** que se inician en el último elemento con el valor de `-1` y avanzan en el universo de los negativos hasta llegar al 1° elemento:\n",
    "\n",
    "```\n",
    "#             [-5]         [-4]  [-3]  [-2]   [-1]\n",
    "lista = ['Penélope Camacho', 9.5 , 9.0 , 9.7 , True]\n",
    "```\n",
    "\n",
    "Logramos seleccionar separadamente cada elemento a través de sus respectivos índices. Colocando el nombre de la lista y en seguida el índice que será seleccionado."
   ]
  },
  {
   "cell_type": "code",
   "execution_count": null,
   "metadata": {
    "id": "4hco1Zqy88Kw"
   },
   "outputs": [],
   "source": []
  },
  {
   "cell_type": "code",
   "execution_count": null,
   "metadata": {
    "id": "M8lH0I2288Ph"
   },
   "outputs": [],
   "source": []
  },
  {
   "cell_type": "markdown",
   "metadata": {
    "id": "6TaE1ijmBTCd"
   },
   "source": [
    "Una forma más dinámica de trabajar item a item en una lista es utilizando un lazo `for` para leer un elemento a la vez."
   ]
  },
  {
   "cell_type": "code",
   "execution_count": null,
   "metadata": {
    "id": "rBx4Yu1786Sy"
   },
   "outputs": [],
   "source": []
  },
  {
   "cell_type": "markdown",
   "metadata": {
    "id": "Dh1_HnIVvucY"
   },
   "source": [
    "**Situación**: La nota `9.0` de Penélope necesita ser ajustada pues ganó 1 punto en su última nota por participación en clase. Entonces es necesario realizar un cambio en el índice `2` de `9.0` a `10.0`."
   ]
  },
  {
   "cell_type": "code",
   "execution_count": null,
   "metadata": {
    "id": "bVPoZg668z3T"
   },
   "outputs": [],
   "source": []
  },
  {
   "cell_type": "code",
   "execution_count": null,
   "metadata": {
    "id": "Jo_PBQ0g8z7D"
   },
   "outputs": [],
   "source": []
  },
  {
   "cell_type": "markdown",
   "metadata": {
    "id": "53XduzXkycAf"
   },
   "source": [
    "También podemos calcular el promedio del estudiante a partir de los datos que tenemos."
   ]
  },
  {
   "cell_type": "code",
   "execution_count": null,
   "metadata": {
    "id": "SIH61Rrb8yv4"
   },
   "outputs": [],
   "source": []
  },
  {
   "cell_type": "markdown",
   "metadata": {
    "id": "d-iYr10-y4qw"
   },
   "source": [
    "## Manipulación de listas\n",
    "\n",
    "Las listas son muy útiles en Python porque nos permiten almacenar y acceder a una colección de items de manera organizada y rápida. Estas también ofrecen muchos métodos útiles para manipular los itens almacenados, como adicionar, remover, clasificar y buscar elementos."
   ]
  },
  {
   "cell_type": "markdown",
   "metadata": {
    "id": "ZLqx9A97XVB_"
   },
   "source": [
    "#### Cantidad de elementos\n",
    "\n",
    "Usamos la función [`len()`](https://docs.python.org/3/library/functions.html#len) para descubrir la cantidad de elementos de un conjunto."
   ]
  },
  {
   "cell_type": "code",
   "execution_count": null,
   "metadata": {
    "id": "6q1Tmm7P8wQf"
   },
   "outputs": [],
   "source": []
  },
  {
   "cell_type": "markdown",
   "metadata": {
    "id": "Z5tpstlHJss3"
   },
   "source": [
    "#### Partición\n",
    "\n",
    "La partición de listas por indexación en Python es una técnica muy útil para seleccionar un subconjunto de elementos de una lista. Esta se realiza usando la sintaxis `lista[inicio:fin]`, donde `inicio` es el índice del primer elemento que será incluído en la partición `fin` es el índice del primer elemento que será excluído de la partición."
   ]
  },
  {
   "cell_type": "code",
   "execution_count": null,
   "metadata": {
    "id": "NctvJTTU8uV9"
   },
   "outputs": [],
   "source": []
  },
  {
   "cell_type": "code",
   "execution_count": null,
   "metadata": {
    "id": "bQZUwldj8uY2"
   },
   "outputs": [],
   "source": []
  },
  {
   "cell_type": "markdown",
   "metadata": {
    "id": "O0RRyabkRzZC"
   },
   "source": [
    "#### [`append()`](https://docs.python.org/3/tutorial/datastructures.html#:~:text=of%20list%20objects%3A-,list.append(x),-Add%20an%20item)\n",
    "\n",
    "Añade un elemento al final de la lista."
   ]
  },
  {
   "cell_type": "code",
   "execution_count": null,
   "metadata": {
    "id": "_Q0oODwa8spC"
   },
   "outputs": [],
   "source": []
  },
  {
   "cell_type": "code",
   "execution_count": null,
   "metadata": {
    "id": "RM894r2M8sse"
   },
   "outputs": [],
   "source": []
  },
  {
   "cell_type": "markdown",
   "metadata": {
    "id": "uQV91XMsUOJD"
   },
   "source": [
    "#### [`extend()`](https://docs.python.org/3/tutorial/datastructures.html#:~:text=list.extend(iterable))\n",
    "\n",
    "Añade varios elementos al final de la lista.\n",
    "\n",
    "Añadiremos las notas `[10.0,8.0,9.0]` En la lista de Penélope Camacho."
   ]
  },
  {
   "cell_type": "code",
   "execution_count": null,
   "metadata": {
    "id": "6Zk2MpMw8rQc"
   },
   "outputs": [],
   "source": []
  },
  {
   "cell_type": "code",
   "execution_count": null,
   "metadata": {
    "id": "NnoKkoWb8rTQ"
   },
   "outputs": [],
   "source": []
  },
  {
   "cell_type": "markdown",
   "metadata": {
    "id": "IVJvkTwNUk6M"
   },
   "source": [
    "*A continuación te mostraremos lo que no puede realizarse con* `append`."
   ]
  },
  {
   "cell_type": "code",
   "execution_count": null,
   "metadata": {
    "id": "u3Eub2ZL8pp3"
   },
   "outputs": [],
   "source": []
  },
  {
   "cell_type": "code",
   "execution_count": null,
   "metadata": {
    "id": "tsKK5Ne58pvN"
   },
   "outputs": [],
   "source": []
  },
  {
   "cell_type": "markdown",
   "metadata": {
    "id": "dPGM5gpyUX1z"
   },
   "source": [
    "#### [`remove()`](https://docs.python.org/3/tutorial/datastructures.html#:~:text=append(x).-,list.remove(x),-Remove%20the%20first)\n",
    "\n",
    "Remueve un elemento específico de la lista."
   ]
  },
  {
   "cell_type": "code",
   "execution_count": null,
   "metadata": {
    "id": "mmboODPc8nd5"
   },
   "outputs": [],
   "source": []
  },
  {
   "cell_type": "code",
   "execution_count": null,
   "metadata": {
    "id": "T_w6vVgV8nh_"
   },
   "outputs": [],
   "source": []
  },
  {
   "cell_type": "markdown",
   "metadata": {
    "id": "Rc22Vc08YDZ2"
   },
   "source": [
    "## Diccionario"
   ]
  },
  {
   "cell_type": "markdown",
   "metadata": {
    "id": "PJ-cCKPjeWxL"
   },
   "source": [
    "Los diccionarios son un tipo de estructura de datos que almacenan pares de *llave-valor*. Estos son delimitados por llaves `{}` y los pares *llave-valor* son separados por comas.\n",
    "\n",
    "```\n",
    "diccionario = {llave: valor}\n",
    "```\n",
    "\n",
    "La **llave** es un elemento único que identifica a un valor en el diccionario, mientras que el **valor** es el item que será almacenado para la llave. Las llaves y sus respectivos valores se pueden emplear para **cualquier tipo de dato**.\n",
    "\n",
    "Los diccionarios son útiles para almacenar y acceder a los datos de manera organizada y rápida. Se trata de un tipo de conjunto de elementos en Python, pues almacenan una colección de items."
   ]
  },
  {
   "cell_type": "code",
   "execution_count": null,
   "metadata": {
    "id": "NDHhzooE8ld5"
   },
   "outputs": [],
   "source": []
  },
  {
   "cell_type": "code",
   "execution_count": null,
   "metadata": {
    "id": "AVOzqzy-8lhh"
   },
   "outputs": [],
   "source": []
  },
  {
   "cell_type": "markdown",
   "metadata": {
    "id": "_JbQ3KMKfkXU"
   },
   "source": [
    "---\n",
    "**Situación:**\n",
    "\n",
    "Vamos a crear un conjunto de datos con las informaciones de matrícula de un estudiante. Los datos son los siguientes:\n",
    "\n",
    "- matrícula: 2000168933\n",
    "- día de registro: 25\n",
    "- mes de registro: 10\n",
    "- grupo: 2E"
   ]
  },
  {
   "cell_type": "code",
   "execution_count": null,
   "metadata": {
    "id": "0lfOu_c38jED"
   },
   "outputs": [],
   "source": []
  },
  {
   "cell_type": "code",
   "execution_count": null,
   "metadata": {
    "id": "XIuqpTTy8jHV"
   },
   "outputs": [],
   "source": []
  },
  {
   "cell_type": "markdown",
   "metadata": {
    "id": "8ex5pt2ykDd2"
   },
   "source": [
    "Es posible sustituir los valores dentro de una llave. Por ejemplo, recibimos la información de que el grupo del estudiante que registramos cambio a `'2G'` y ahora necesitamos cambiar el valor de la llave `'grupo'`."
   ]
  },
  {
   "cell_type": "code",
   "execution_count": null,
   "metadata": {
    "id": "kQGlp36b8fyP"
   },
   "outputs": [],
   "source": []
  },
  {
   "cell_type": "code",
   "execution_count": null,
   "metadata": {
    "id": "DnfH_qHi8f17"
   },
   "outputs": [],
   "source": []
  },
  {
   "cell_type": "markdown",
   "metadata": {
    "id": "wB0qRb56mQvv"
   },
   "source": [
    "También podemos añadir otros datos al diccionario. Vamos a añadir la información sobre la modalidad de estudio, nuestro estudiante estudiará inicialemente en la modalidad EAD.\n",
    "\n",
    "Definiremos una llave llamada `'modalidad'` con el valor `'EAD'`."
   ]
  },
  {
   "cell_type": "code",
   "execution_count": null,
   "metadata": {
    "id": "EeLYdlIm8d8a"
   },
   "outputs": [],
   "source": []
  },
  {
   "cell_type": "code",
   "execution_count": null,
   "metadata": {
    "id": "olDIavsm8d_o"
   },
   "outputs": [],
   "source": []
  },
  {
   "cell_type": "markdown",
   "metadata": {
    "id": "LJ3o_inroxg_"
   },
   "source": [
    "## Profundizando en diccionarios"
   ]
  },
  {
   "cell_type": "markdown",
   "metadata": {
    "id": "2N3GLlkSpBiu"
   },
   "source": [
    "#### [`pop()`](https://python-reference.readthedocs.io/en/latest/docs/dict/pop.html)\n",
    "Remueve un item de un diccionario y lo representa en la salida."
   ]
  },
  {
   "cell_type": "code",
   "execution_count": null,
   "metadata": {
    "id": "ZsSCZx6G8b-T"
   },
   "outputs": [],
   "source": []
  },
  {
   "cell_type": "code",
   "execution_count": null,
   "metadata": {
    "id": "7lQ8_jpi8cBR"
   },
   "outputs": [],
   "source": []
  },
  {
   "cell_type": "markdown",
   "metadata": {
    "id": "sYZGvJJYrW_y"
   },
   "source": [
    "#### [`items()`](https://python-reference.readthedocs.io/en/latest/docs/dict/items.html)\n",
    "Retorna una lista de pares `llave-valor` del diccionario."
   ]
  },
  {
   "cell_type": "code",
   "execution_count": null,
   "metadata": {
    "id": "ncdycLV08an7"
   },
   "outputs": [],
   "source": []
  },
  {
   "cell_type": "markdown",
   "metadata": {
    "id": "Lb0utNFGrZBY"
   },
   "source": [
    "#### [`keys()`](https://python-reference.readthedocs.io/en/latest/docs/dict/keys.html)\n",
    "Retorna una lista de las llaves del diccionario."
   ]
  },
  {
   "cell_type": "code",
   "execution_count": null,
   "metadata": {
    "id": "eZo0biaM8ZVs"
   },
   "outputs": [],
   "source": []
  },
  {
   "cell_type": "markdown",
   "metadata": {
    "id": "qKyu3bf9rbtX"
   },
   "source": [
    "#### [`values()`](https://python-reference.readthedocs.io/en/latest/docs/dict/values.html)\n",
    "Retorna una lista de los valores del diccionario."
   ]
  },
  {
   "cell_type": "code",
   "execution_count": null,
   "metadata": {
    "id": "-NxRT9C18Yvo"
   },
   "outputs": [],
   "source": []
  },
  {
   "cell_type": "markdown",
   "metadata": {
    "id": "e3XVjR8Frp75"
   },
   "source": [
    "### Lectura de valores con el lazo `for`"
   ]
  },
  {
   "cell_type": "code",
   "execution_count": null,
   "metadata": {
    "id": "NYcjU-Ip8Xan"
   },
   "outputs": [],
   "source": []
  },
  {
   "cell_type": "code",
   "execution_count": null,
   "metadata": {
    "id": "aAnpP1Wv8XfJ"
   },
   "outputs": [],
   "source": []
  }
 ],
 "metadata": {
  "colab": {
   "provenance": []
  },
  "kernelspec": {
   "display_name": "Python 3",
   "name": "python3"
  },
  "language_info": {
   "name": "python",
   "version": "3.13.2"
  }
 },
 "nbformat": 4,
 "nbformat_minor": 0
}
