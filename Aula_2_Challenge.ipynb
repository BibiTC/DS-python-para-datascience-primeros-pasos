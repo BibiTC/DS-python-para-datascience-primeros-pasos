{
  "nbformat": 4,
  "nbformat_minor": 0,
  "metadata": {
    "colab": {
      "provenance": [],
      "authorship_tag": "ABX9TyMtDjVGdpthARG8Rqc2Ivxw",
      "include_colab_link": true
    },
    "kernelspec": {
      "name": "python3",
      "display_name": "Python 3"
    },
    "language_info": {
      "name": "python"
    }
  },
  "cells": [
    {
      "cell_type": "markdown",
      "metadata": {
        "id": "view-in-github",
        "colab_type": "text"
      },
      "source": [
        "<a href=\"https://colab.research.google.com/github/BibiTC/DS-python-para-datascience-primeros-pasos/blob/Aula2/Aula_2_Challenge.ipynb\" target=\"_parent\"><img src=\"https://colab.research.google.com/assets/colab-badge.svg\" alt=\"Open In Colab\"/></a>"
      ]
    },
    {
      "cell_type": "markdown",
      "source": [
        "#**Aula 2 - Desafío: ¡Es hora de practicar!**\n",
        "\n",
        "Vamos a practicar el uso de varios tipos de variables y la función input a través de algunas actividades. Resuelve los problemas propuestos en código.\n",
        "\n",
        "Recopilación y muestra de datos\n",
        "\n",
        "1 - Crea un programa que solicite al usuario que escriba su nombre y luego imprima \"Hola, [nombre].\"\n"
      ],
      "metadata": {
        "id": "zEVXVi4PsiHO"
      }
    },
    {
      "cell_type": "code",
      "source": [
        "nombre_usuario = input('Escriba su nombre: ')\n",
        "print(f'Hola, {nombre_usuario}')"
      ],
      "metadata": {
        "colab": {
          "base_uri": "https://localhost:8080/"
        },
        "id": "IADQrKA9s17z",
        "outputId": "380ea5ab-f64c-454d-f10a-f40bc8574861"
      },
      "execution_count": 1,
      "outputs": [
        {
          "output_type": "stream",
          "name": "stdout",
          "text": [
            "Escriba su nombre: Bibiana\n",
            "Hola, Bibiana\n"
          ]
        }
      ]
    },
    {
      "cell_type": "markdown",
      "source": [
        "2 - Crea un programa que solicite al usuario que escriba su nombre y edad, y luego imprima \"Hola, [nombre], tienes [edad] años.\""
      ],
      "metadata": {
        "id": "OSLJf-jVtwSU"
      }
    },
    {
      "cell_type": "code",
      "source": [
        "nombre_usuario = input('Escriba su nombre: ')\n",
        "edad_usuario = int(input('Éscriba su edad: '))\n",
        "\n",
        "print(f'Hola, {nombre_usuario}, tienes {edad_usuario} años')"
      ],
      "metadata": {
        "colab": {
          "base_uri": "https://localhost:8080/"
        },
        "id": "dqQG3uCvtz9a",
        "outputId": "99667100-a2c6-49bb-caba-1b9db0a85542"
      },
      "execution_count": 6,
      "outputs": [
        {
          "output_type": "stream",
          "name": "stdout",
          "text": [
            "Escriba su nombre: Bibiana\n",
            "Éscriba su edad: 45\n",
            "Hola, Bibiana, tienes 45 años\n"
          ]
        }
      ]
    },
    {
      "cell_type": "markdown",
      "source": [
        "3 - Crea un programa que solicite al usuario que escriba su nombre, edad y altura en metros, y luego imprima \"Hola, [nombre], tienes [edad] años y mides [altura] metros.\""
      ],
      "metadata": {
        "id": "tpaWMPcxt0Y9"
      }
    },
    {
      "cell_type": "code",
      "source": [
        "nombre_usuario = input('\\tEscriba su nombre: ')\n",
        "edad_usuario = int(input('\\tÉscriba su edad: '))\n",
        "estatura_usuario = float(input('\\tEscriba su altura en metros: '))\n",
        "\n",
        "print(f'\\n\\tHola, {nombre_usuario}, tienes {edad_usuario} años y mides {estatura_usuario} metros')"
      ],
      "metadata": {
        "colab": {
          "base_uri": "https://localhost:8080/"
        },
        "id": "bRju0ePnt50T",
        "outputId": "6c57b998-71f4-4560-d1da-b21809bc20b0"
      },
      "execution_count": 11,
      "outputs": [
        {
          "output_type": "stream",
          "name": "stdout",
          "text": [
            "\tEscriba su nombre: Bibiana\n",
            "\tÉscriba su edad: 45\n",
            "\tEscriba su altura en metros: 1.72\n",
            "\n",
            "\tHola, Bibiana, tienes 45 años y mides 1.72 metros\n"
          ]
        }
      ]
    },
    {
      "cell_type": "markdown",
      "source": [
        "\n",
        "##**Calculadora con operadores**\n",
        "\n",
        "4 - Crea un programa que solicite dos valores numéricos al usuario y luego imprima la suma de ambos valores."
      ],
      "metadata": {
        "id": "1lMpiBtGt6U8"
      }
    },
    {
      "cell_type": "code",
      "source": [
        "valor_num1 = int(input('\\tIngresar el valor numero 1: '))\n",
        "valor_num2 = int(input('\\tIngresar el valor numero 2: '))\n",
        "\n",
        "suma_num = valor_num1 + valor_num2\n",
        "\n",
        "print(f'\\n\\tLa suma de {valor_num1} y {valor_num2} es {suma_num}')"
      ],
      "metadata": {
        "colab": {
          "base_uri": "https://localhost:8080/"
        },
        "id": "6WQ-RFK8wPp1",
        "outputId": "dcacbc04-8a05-4cec-ba15-26648021b4e5"
      },
      "execution_count": 14,
      "outputs": [
        {
          "output_type": "stream",
          "name": "stdout",
          "text": [
            "\tIngresar el valor numero 1: 10\n",
            "\tIngresar el valor numero 2: 100\n",
            "\n",
            "\tLa suma de 10 y 100 es 110\n"
          ]
        }
      ]
    },
    {
      "cell_type": "markdown",
      "source": [
        "\n",
        "5 - Crea un programa que solicite tres valores numéricos al usuario y luego imprima la suma de los tres valores."
      ],
      "metadata": {
        "id": "94a8uU5lvo0j"
      }
    },
    {
      "cell_type": "code",
      "source": [
        "valor_num1 = int(input('\\tIngresar el valor numero 1: '))\n",
        "valor_num2 = int(input('\\tIngresar el valor numero 2: '))\n",
        "valor_num3 = int(input('\\tIngresar el valor numero 3: '))\n",
        "\n",
        "suma_num = valor_num1 + valor_num2 + valor_num3\n",
        "\n",
        "print(f'\\n\\tLa suma de {valor_num1} , {valor_num2} y {valor_num3} es {suma_num}')"
      ],
      "metadata": {
        "colab": {
          "base_uri": "https://localhost:8080/"
        },
        "id": "2tufTvqWwQZC",
        "outputId": "b9be9dc4-dba0-484c-be9e-0fd425ab8e67"
      },
      "execution_count": 15,
      "outputs": [
        {
          "output_type": "stream",
          "name": "stdout",
          "text": [
            "\tIngresar el valor numero 1: 5\n",
            "\tIngresar el valor numero 2: 15\n",
            "\tIngresar el valor numero 3: 25\n",
            "\n",
            "\tLa suma de 5 , 15 y 25 es 45\n"
          ]
        }
      ]
    },
    {
      "cell_type": "markdown",
      "source": [
        "6 - Crea un programa que solicite dos valores numéricos al usuario y luego imprima la resta del primero menos el segundo valor."
      ],
      "metadata": {
        "id": "M7YYoNHovoca"
      }
    },
    {
      "cell_type": "code",
      "source": [
        "valor_num1 = int(input('\\tIngresar el valor numero 1: '))\n",
        "valor_num2 = int(input('\\tIngresar el valor numero 2: '))\n",
        "\n",
        "resta_num = valor_num1 - valor_num2\n",
        "\n",
        "print(f'\\n\\tLa resta de {valor_num1} y {valor_num2} es {resta_num}')"
      ],
      "metadata": {
        "colab": {
          "base_uri": "https://localhost:8080/"
        },
        "id": "zM3wm69IwQ48",
        "outputId": "1161083a-b460-49de-f008-30f8b99152b9"
      },
      "execution_count": 18,
      "outputs": [
        {
          "output_type": "stream",
          "name": "stdout",
          "text": [
            "\tIngresar el valor numero 1: 80\n",
            "\tIngresar el valor numero 2: 90\n",
            "\n",
            "\tLa resta de 80 y 90 es -10\n"
          ]
        }
      ]
    },
    {
      "cell_type": "markdown",
      "source": [
        "7 - Crea un programa que solicite dos valores numéricos al usuario y luego imprima la multiplicación de los dos valores."
      ],
      "metadata": {
        "id": "HsWe4cwTvoTV"
      }
    },
    {
      "cell_type": "code",
      "source": [
        "valor_num1 = int(input('\\tIngresar el valor numero 1: '))\n",
        "valor_num2 = int(input('\\tIngresar el valor numero 2: '))\n",
        "\n",
        "multiplica_num = valor_num1 * valor_num2\n",
        "\n",
        "print(f'\\n\\tLa multiplicación de {valor_num1} y {valor_num2} es {multiplica_num}')"
      ],
      "metadata": {
        "colab": {
          "base_uri": "https://localhost:8080/"
        },
        "id": "-u4xTt_MwRXi",
        "outputId": "18443c58-50bd-4ee0-d541-f08fd43059f7"
      },
      "execution_count": 19,
      "outputs": [
        {
          "output_type": "stream",
          "name": "stdout",
          "text": [
            "\tIngresar el valor numero 1: 5\n",
            "\tIngresar el valor numero 2: 20\n",
            "\n",
            "\tLa multiplicación de 5 y 20 es 100\n"
          ]
        }
      ]
    },
    {
      "cell_type": "markdown",
      "source": [
        "8 - Crea un programa que solicite dos valores numéricos, un numerador y un denominador, y realice la división entre los dos valores. Asegúrate de que el valor del denominador no sea igual a 0."
      ],
      "metadata": {
        "id": "Y7umTEESv68S"
      }
    },
    {
      "cell_type": "code",
      "source": [
        "valor_num1 = int(input('\\tIngresar el valor numero 1 (numerador): '))\n",
        "valor_num2 = int(input('\\tIngresar el valor numero 2 (denominador): '))\n",
        "\n",
        "division_num = valor_num1 / valor_num2\n",
        "\n",
        "print(f'\\n\\tLa división de {valor_num1} y {valor_num2} es {division_num}')"
      ],
      "metadata": {
        "colab": {
          "base_uri": "https://localhost:8080/"
        },
        "id": "MHgfdUDMwSSI",
        "outputId": "8ab95c19-e1a4-403e-8749-1163259bf9bb"
      },
      "execution_count": 24,
      "outputs": [
        {
          "output_type": "stream",
          "name": "stdout",
          "text": [
            "\tIngresar el valor numero 1 (numerador): 50\n",
            "\tIngresar el valor numero 2 (denominador): 5\n",
            "\n",
            "\tLa división de 50 y 5 es 10.0\n"
          ]
        }
      ]
    },
    {
      "cell_type": "markdown",
      "source": [
        "9 - Crea un programa que solicite dos valores numéricos, un operador y una potencia, y realice la exponenciación entre estos dos valores."
      ],
      "metadata": {
        "id": "ZaPQNntNv_Dr"
      }
    },
    {
      "cell_type": "code",
      "source": [
        "valor_num1 = int(input('\\tIngresar el valor numero 1 (operador): '))\n",
        "valor_num2 = int(input('\\tIngresar el valor numero 2 (potencia): '))\n",
        "\n",
        "exponenciacion_num = valor_num1**valor_num2\n",
        "\n",
        "print(f'\\n\\tLa exponenciación de {valor_num1} y {valor_num2} es {exponenciacion_num}')"
      ],
      "metadata": {
        "colab": {
          "base_uri": "https://localhost:8080/"
        },
        "id": "UhqqHNHSwSui",
        "outputId": "2bd4291b-e839-48bd-b59c-013ebb4f76c2"
      },
      "execution_count": 23,
      "outputs": [
        {
          "output_type": "stream",
          "name": "stdout",
          "text": [
            "\tIngresar el valor numero 1 (operador): 2\n",
            "\tIngresar el valor numero 2 (potencia): 5\n",
            "\n",
            "\tLa exponenciación de 2 y 5 es 32\n"
          ]
        }
      ]
    },
    {
      "cell_type": "markdown",
      "source": [
        "10 - Crea un programa que solicite dos valores numéricos, un numerador y un denominador, y realice la división entera entre los dos valores. Asegúrate de que el valor del denominador no sea igual a 0."
      ],
      "metadata": {
        "id": "75ppejaMwCdO"
      }
    },
    {
      "cell_type": "code",
      "source": [
        "valor_num1 = int(input('\\tIngresar el valor numero 1 (numerador): '))\n",
        "valor_num2 = int(input('\\tIngresar el valor numero 2 (denominador): '))\n",
        "\n",
        "if valor_num2 == 0:\n",
        "  print('\\n\\tNo es posible realizar división por 0')\n",
        "else:\n",
        "  division_entera_num = valor_num1 // valor_num2\n",
        "  print(f'\\n\\tLa división de {valor_num1} y {valor_num2} es {division_entera_num}')"
      ],
      "metadata": {
        "colab": {
          "base_uri": "https://localhost:8080/"
        },
        "id": "bBmJqqp3wTJ9",
        "outputId": "4597ff4b-7693-42b1-d8b3-56b7db304342"
      },
      "execution_count": 31,
      "outputs": [
        {
          "output_type": "stream",
          "name": "stdout",
          "text": [
            "\tIngresar el valor numero 1 (numerador): 10\n",
            "\tIngresar el valor numero 2 (denominador): 0\n",
            "\n",
            "\tNo es posible realizar división por 0\n"
          ]
        }
      ]
    },
    {
      "cell_type": "markdown",
      "source": [
        "11 - Crea un programa que solicite dos valores numéricos, un numerador y un denominador, y devuelva el resto de la división entre los dos valores. Asegúrate de que el valor del denominador no sea igual a 0."
      ],
      "metadata": {
        "id": "Y__lc8O0wGqy"
      }
    },
    {
      "cell_type": "code",
      "source": [
        "valor_num1 = int(input('\\tIngresar el valor numero 1 (numerador): '))\n",
        "valor_num2 = int(input('\\tIngresar el valor numero 2 (denominador): '))\n",
        "\n",
        "if valor_num2 == 0:\n",
        "  print('\\n\\tNo es posible realizar división por 0')\n",
        "else:\n",
        "  modulo_num = valor_num1 % valor_num2\n",
        "  print(f'\\n\\tEl módulo de {valor_num1} y {valor_num2} es {modulo_num}')"
      ],
      "metadata": {
        "colab": {
          "base_uri": "https://localhost:8080/"
        },
        "id": "9Wa_biGvwTvT",
        "outputId": "1151ebdc-f07d-461c-e72f-919024264882"
      },
      "execution_count": 33,
      "outputs": [
        {
          "output_type": "stream",
          "name": "stdout",
          "text": [
            "\tIngresar el valor numero 1 (numerador): 60\n",
            "\tIngresar el valor numero 2 (denominador): 3\n",
            "\n",
            "\tEl módulo de 60 y 3 es 0\n"
          ]
        }
      ]
    },
    {
      "cell_type": "markdown",
      "source": [
        "12 - Crea un código que solicite las 3 notas de un estudiante e imprima el promedio de las notas."
      ],
      "metadata": {
        "id": "VnBT1PMJwJBj"
      }
    },
    {
      "cell_type": "code",
      "source": [
        "nota1_estudiante = float(input('\\tIngresar nota1: '))\n",
        "nota2_estudiante = float(input('\\tIngresar nota2: '))\n",
        "nota3_estudiante = float(input('\\tIngresar nota3: '))\n",
        "\n",
        "promedio_notas_estudiante = (nota1_estudiante+nota2_estudiante+nota3_estudiante)/3\n",
        "\n",
        "#print(f'\\n\\tEl promedio de notas para el estudiante es: {promedio_notas_estudiante}')\n",
        "\n",
        "print('\\n\\tEl promedio de notas para el estudiante es: %.2f' %(promedio_notas_estudiante))"
      ],
      "metadata": {
        "colab": {
          "base_uri": "https://localhost:8080/"
        },
        "id": "BKliUIU6wUpZ",
        "outputId": "ac0bfaa4-766a-4271-acb9-f89ab939377b"
      },
      "execution_count": 42,
      "outputs": [
        {
          "output_type": "stream",
          "name": "stdout",
          "text": [
            "\tIngresar nota1: 4.5\n",
            "\tIngresar nota2: 3.2\n",
            "\tIngresar nota3: 3.8\n",
            "\n",
            "\tEl promedio de notas para el estudiante es: 3.83\n"
          ]
        }
      ]
    },
    {
      "cell_type": "markdown",
      "source": [
        "\n",
        "\n",
        "13 - Crea un código que calcule e imprima el promedio ponderado de los números 5, 12, 20 y 15 con pesos respectivamente iguales a 1, 2, 3 y 4."
      ],
      "metadata": {
        "id": "eijOnFSPwMLL"
      }
    },
    {
      "cell_type": "code",
      "source": [
        "suma_ponderada = 1+2+3+4\n",
        "#print(type(suma_ponderada))\n",
        "promedio_ponderado = (5*1+12*2+20*3+15*4)/suma_ponderada\n",
        "#print(type(promedio_ponderado))\n",
        "\n",
        "print('Promedio Ponderado de los números 5, 12, 20 y 15, con pesos 1,2,3 y 4, correspondea a %.2f' %(promedio_ponderado))"
      ],
      "metadata": {
        "colab": {
          "base_uri": "https://localhost:8080/"
        },
        "id": "CeWOhWoZ5YYX",
        "outputId": "111e78e1-6f89-4f41-c155-f260e68221db"
      },
      "execution_count": 45,
      "outputs": [
        {
          "output_type": "stream",
          "name": "stdout",
          "text": [
            "Promedio Ponderado de los números 5, 12, 20 y 15, con pesos 1,2,3 y 4, correspondea a 14.90\n"
          ]
        }
      ]
    },
    {
      "cell_type": "markdown",
      "source": [
        "\n",
        "\n",
        "\n",
        "##**Editando textos**\n",
        "\n",
        "14 - Crea una variable llamada \"frase\" y asígnale una cadena de texto de tu elección. Luego, imprime la frase en pantalla."
      ],
      "metadata": {
        "id": "yI_rUCH1sdw_"
      }
    },
    {
      "cell_type": "code",
      "source": [
        "frase = '\\tDios es fiel'\n",
        "print('\\n\\t{}' .format(frase))"
      ],
      "metadata": {
        "colab": {
          "base_uri": "https://localhost:8080/"
        },
        "id": "IOlXggVesvfC",
        "outputId": "12dd2bb0-080c-4099-d442-26f14bddc833"
      },
      "execution_count": 54,
      "outputs": [
        {
          "output_type": "stream",
          "name": "stdout",
          "text": [
            "\n",
            "\t\tDios es fiel\n"
          ]
        }
      ]
    },
    {
      "cell_type": "markdown",
      "source": [
        "15 - Crea un código que solicite una frase y luego imprima la frase en pantalla."
      ],
      "metadata": {
        "id": "U8tZjpQP8RUR"
      }
    },
    {
      "cell_type": "code",
      "source": [
        "frase = input('\\tEscribir una frase: ')\n",
        "print('\\n\\t{}' .format(frase))"
      ],
      "metadata": {
        "colab": {
          "base_uri": "https://localhost:8080/"
        },
        "id": "hcs61VBx8uxe",
        "outputId": "962deba9-6b0f-4e6f-ab4b-3aae6fb9503c"
      },
      "execution_count": 55,
      "outputs": [
        {
          "output_type": "stream",
          "name": "stdout",
          "text": [
            "\tIngresar cadena de texto: Dios es fiel\n",
            "\n",
            "\tDios es fiel\n"
          ]
        }
      ]
    },
    {
      "cell_type": "markdown",
      "source": [
        "16 - Crea un código que solicite una frase al usuario y luego imprima la misma frase ingresada pero en mayúsculas."
      ],
      "metadata": {
        "id": "9COy8EsV8ULC"
      }
    },
    {
      "cell_type": "code",
      "source": [
        "frase = input('\\tEscribir una frase: ')\n",
        "print('\\n\\t{}' .format(frase.upper()))"
      ],
      "metadata": {
        "colab": {
          "base_uri": "https://localhost:8080/"
        },
        "id": "bllg_rjo8vIF",
        "outputId": "747958cc-014d-47ca-c7f3-adb1184eded4"
      },
      "execution_count": 57,
      "outputs": [
        {
          "output_type": "stream",
          "name": "stdout",
          "text": [
            "\tEscribir una frase: Dios es Fiel\n",
            "\n",
            "\tDIOS ES FIEL\n"
          ]
        }
      ]
    },
    {
      "cell_type": "markdown",
      "source": [
        "17 - Crea un código que solicite una frase al usuario y luego imprima la misma frase ingresada pero en minúsculas."
      ],
      "metadata": {
        "id": "4CeGzuru8Wa3"
      }
    },
    {
      "cell_type": "code",
      "source": [
        "frase = input('\\tEscribir una frase: ')\n",
        "print('\\n\\t{}' .format(frase.lower()))"
      ],
      "metadata": {
        "colab": {
          "base_uri": "https://localhost:8080/"
        },
        "id": "hUKg8ivl8vXR",
        "outputId": "3fb6e971-9bd5-4714-b061-a324f3fe4d85"
      },
      "execution_count": 62,
      "outputs": [
        {
          "output_type": "stream",
          "name": "stdout",
          "text": [
            "\tEscribir una frase: Dios es FIEL\n",
            "\n",
            "\tdios es fiel\n"
          ]
        }
      ]
    },
    {
      "cell_type": "markdown",
      "source": [
        "18 - Crea una variable llamada \"frase\" y asígnale una cadena de texto de tu elección. Luego, imprime la frase sin espacios en blanco al principio y al final."
      ],
      "metadata": {
        "id": "KZTpEDiM8YNo"
      }
    },
    {
      "cell_type": "code",
      "source": [
        "frase = '     Todo es Posible si hay disciplina    '\n",
        "print('\\n{}' .format(frase.strip()))"
      ],
      "metadata": {
        "colab": {
          "base_uri": "https://localhost:8080/"
        },
        "id": "3k-ZZHzw8vk9",
        "outputId": "0bc20698-a602-4246-c3b9-439ce84b852f"
      },
      "execution_count": 71,
      "outputs": [
        {
          "output_type": "stream",
          "name": "stdout",
          "text": [
            "\n",
            "Todo es Posible si hay disciplina\n"
          ]
        }
      ]
    },
    {
      "cell_type": "markdown",
      "source": [
        "19 - Crea un código que solicite una frase al usuario y luego imprima la misma frase sin espacios en blanco al principio y al final."
      ],
      "metadata": {
        "id": "CNRdZqbO8f4R"
      }
    },
    {
      "cell_type": "code",
      "source": [
        "frase = input('\\tEscribir una frase: ')\n",
        "print('\\n\\t{}' .format(frase.strip()))"
      ],
      "metadata": {
        "colab": {
          "base_uri": "https://localhost:8080/"
        },
        "id": "r9_iG9pe8wWD",
        "outputId": "a27ab2b4-ab38-4df7-9e26-a4690a79a409"
      },
      "execution_count": 72,
      "outputs": [
        {
          "output_type": "stream",
          "name": "stdout",
          "text": [
            "\tEscribir una frase:      Borrar Espacios Inicio y Fin          \n",
            "\n",
            "\tBorrar Espacios Inicio y Fin\n"
          ]
        }
      ]
    },
    {
      "cell_type": "markdown",
      "source": [
        "20 - Crea un código que solicite una frase al usuario y luego imprima la misma frase sin espacios en blanco al principio y al final, además de convertirla a minúsculas."
      ],
      "metadata": {
        "id": "Ks0ore-a8iYf"
      }
    },
    {
      "cell_type": "code",
      "source": [
        "frase = input('\\tEscribir una frase: ')\n",
        "print('\\n\\t{}' .format(frase.strip().upper()))"
      ],
      "metadata": {
        "colab": {
          "base_uri": "https://localhost:8080/"
        },
        "id": "H0d4kDFB8wjV",
        "outputId": "4e419440-5468-439e-da87-33e1c386585e"
      },
      "execution_count": 73,
      "outputs": [
        {
          "output_type": "stream",
          "name": "stdout",
          "text": [
            "\tEscribir una frase:           Borrar Espacios y Poner en Mayuscula\n",
            "\n",
            "\tBORRAR ESPACIOS Y PONER EN MAYUSCULA\n"
          ]
        }
      ]
    },
    {
      "cell_type": "markdown",
      "source": [
        "21 - Crea un código que solicite una frase al usuario y luego imprima la misma frase con todas las vocales \"e\" reemplazadas por la letra \"f\"."
      ],
      "metadata": {
        "id": "YsPwB5X_8k9g"
      }
    },
    {
      "cell_type": "code",
      "source": [
        "frase = input('\\tEscribir una frase: ')\n",
        "print('\\n\\t{}' .format(frase.replace('e','f')))"
      ],
      "metadata": {
        "colab": {
          "base_uri": "https://localhost:8080/"
        },
        "id": "SII6xHrb8wxf",
        "outputId": "32c24b2e-3504-491f-8dd0-50ab06b88ae8"
      },
      "execution_count": 75,
      "outputs": [
        {
          "output_type": "stream",
          "name": "stdout",
          "text": [
            "\tEscribir una frase: remplazo letra e por f\n",
            "\n",
            "\trfmplazo lftra f por f\n"
          ]
        }
      ]
    },
    {
      "cell_type": "markdown",
      "source": [
        "22 - Crea un código que solicite una frase al usuario y luego imprima la misma frase con todas las vocales \"a\" reemplazadas por el carácter \"@\"."
      ],
      "metadata": {
        "id": "2iihrcQY8nQe"
      }
    },
    {
      "cell_type": "code",
      "source": [
        "frase = input('\\tEscribir una frase: ')\n",
        "print('\\n\\t{}' .format(frase.replace('a','@')))"
      ],
      "metadata": {
        "colab": {
          "base_uri": "https://localhost:8080/"
        },
        "id": "BW5TOW2f8w9t",
        "outputId": "b541aebf-f87d-45f3-fbdd-2271da367d9e"
      },
      "execution_count": 76,
      "outputs": [
        {
          "output_type": "stream",
          "name": "stdout",
          "text": [
            "\tEscribir una frase: Ahora remplaza a por @\n",
            "\n",
            "\tAhor@ rempl@z@ @ por @\n"
          ]
        }
      ]
    },
    {
      "cell_type": "markdown",
      "source": [
        "23 - Crea un código que solicite una frase al usuario y luego imprima la misma frase con todas las consonantes \"s\" reemplazadas por el carácter \"$\"."
      ],
      "metadata": {
        "id": "VNPEbGxv8pZA"
      }
    },
    {
      "cell_type": "code",
      "source": [
        "frase = input('\\tEscribir una frase: ')\n",
        "print('\\n\\t{}' .format(frase.replace('s','$')))"
      ],
      "metadata": {
        "colab": {
          "base_uri": "https://localhost:8080/"
        },
        "id": "Y_UV4RU18xOk",
        "outputId": "37a204b7-2ed9-4d85-f839-9916e18166b6"
      },
      "execution_count": 79,
      "outputs": [
        {
          "output_type": "stream",
          "name": "stdout",
          "text": [
            "\tEscribir una frase: Ahora serán remplazadas las mini S por $\n",
            "\n",
            "\tAhora $erán remplazada$ la$ mini S por $\n"
          ]
        }
      ]
    }
  ]
}