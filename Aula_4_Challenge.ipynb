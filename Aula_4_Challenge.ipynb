{
  "nbformat": 4,
  "nbformat_minor": 0,
  "metadata": {
    "colab": {
      "provenance": [],
      "authorship_tag": "ABX9TyMv2pBylGClljlFmhpTZIKY",
      "include_colab_link": true
    },
    "kernelspec": {
      "name": "python3",
      "display_name": "Python 3"
    },
    "language_info": {
      "name": "python"
    }
  },
  "cells": [
    {
      "cell_type": "markdown",
      "metadata": {
        "id": "view-in-github",
        "colab_type": "text"
      },
      "source": [
        "<a href=\"https://colab.research.google.com/github/BibiTC/DS-python-para-datascience-primeros-pasos/blob/Aula4/Aula_4_Challenge.ipynb\" target=\"_parent\"><img src=\"https://colab.research.google.com/assets/colab-badge.svg\" alt=\"Open In Colab\"/></a>"
      ]
    },
    {
      "cell_type": "markdown",
      "source": [
        "#***Aula 3 - Desafio: ¡Es hora de practicar!***\n",
        "\n",
        "Vamos practicar el uso de estructuras de repetición como el \"while\" y el \"for\" a partir de algunas actividades. Ahora que estamos avanzando en el contenido, podemos hacer los desafíos más interesantes. ¡Para ello, trabajaremos en proyectos de código!\n",
        "\n",
        "---\n",
        "\n",
        "#**Entrenando la programación**"
      ],
      "metadata": {
        "id": "Mn-ZfzZLKxy3"
      }
    },
    {
      "cell_type": "markdown",
      "source": [
        "**1 -** Escribe un programa que solicite dos números enteros e imprima todos los números enteros entre ellos."
      ],
      "metadata": {
        "id": "H2JX8DW_LbZL"
      }
    },
    {
      "cell_type": "code",
      "source": [
        "numero_inicio = int(input(f'\\tIngrese el número de inicio: '))\n",
        "numero_final = int(input(f'\\tIngrese el número final: '))\n",
        "\n",
        "if numero_inicio < numero_final:\n",
        "    for numero in range(numero_inicio + 1, numero_final):\n",
        "        print(numero)\n",
        "elif numero_inicio > numero_final:\n",
        "    print(f'El numero de inicio es mayor a numero final')\n",
        "else :\n",
        "     print('Los números son iguales.')"
      ],
      "metadata": {
        "colab": {
          "base_uri": "https://localhost:8080/"
        },
        "id": "SmLroiryJyS8",
        "outputId": "23624845-e088-455d-c477-f3eba3553fa5"
      },
      "execution_count": 5,
      "outputs": [
        {
          "output_type": "stream",
          "name": "stdout",
          "text": [
            "\tIngrese el número de inicio: 2\n",
            "\tIngrese el número final: 10\n",
            "3\n",
            "4\n",
            "5\n",
            "6\n",
            "7\n",
            "8\n",
            "9\n"
          ]
        }
      ]
    },
    {
      "cell_type": "markdown",
      "source": [
        "**2**- Escribe un programa para calcular cuántos días tomará que la colonia de una bacteria A supere o iguale a la colonia de una bacteria B, basado en tasas de crecimiento del 3% y 1.5%, respectivamente. Supón que la colonia A comienza con 4 elementos y B con 10.\n",
        "\n"
      ],
      "metadata": {
        "id": "Ko4R5532MHpQ"
      }
    },
    {
      "cell_type": "code",
      "source": [
        "## Mi Solución\n",
        "\n",
        "# Número inicial colonia de bacterias\n",
        "colonia_a = 4\n",
        "colonia_b = 10\n",
        "\n",
        "# Tasas de crecimiento de las colonias\n",
        "tasa_colonia_a = 0.03\n",
        "tasa_colonia_b = 0.015\n",
        "\n",
        "dia = 0\n",
        "\n",
        "while colonia_a <= colonia_b:\n",
        "    colonia_a += colonia_a * tasa_colonia_a\n",
        "    colonia_b += colonia_b * tasa_colonia_b\n",
        "    dia += 1\n",
        "\n",
        "    print('Colonia A: %.2f | Colonia B: %.2f | dia %d' %(colonia_a, colonia_b, dia))\n",
        "\n",
        "print(f'\\n\\t {dia} dias tomará que la colonia de bacterias A supere o iguale a la colonia de una bacteria B')"
      ],
      "metadata": {
        "colab": {
          "base_uri": "https://localhost:8080/"
        },
        "id": "lKia-zRXKkGR",
        "outputId": "370d27be-484b-4092-8058-286e9d07c618"
      },
      "execution_count": 44,
      "outputs": [
        {
          "output_type": "stream",
          "name": "stdout",
          "text": [
            "Colonia A: 4.12 | Colonia B: 10.15 | dia 1\n",
            "Colonia A: 4.24 | Colonia B: 10.30 | dia 2\n",
            "Colonia A: 4.37 | Colonia B: 10.46 | dia 3\n",
            "Colonia A: 4.50 | Colonia B: 10.61 | dia 4\n",
            "Colonia A: 4.64 | Colonia B: 10.77 | dia 5\n",
            "Colonia A: 4.78 | Colonia B: 10.93 | dia 6\n",
            "Colonia A: 4.92 | Colonia B: 11.10 | dia 7\n",
            "Colonia A: 5.07 | Colonia B: 11.26 | dia 8\n",
            "Colonia A: 5.22 | Colonia B: 11.43 | dia 9\n",
            "Colonia A: 5.38 | Colonia B: 11.61 | dia 10\n",
            "Colonia A: 5.54 | Colonia B: 11.78 | dia 11\n",
            "Colonia A: 5.70 | Colonia B: 11.96 | dia 12\n",
            "Colonia A: 5.87 | Colonia B: 12.14 | dia 13\n",
            "Colonia A: 6.05 | Colonia B: 12.32 | dia 14\n",
            "Colonia A: 6.23 | Colonia B: 12.50 | dia 15\n",
            "Colonia A: 6.42 | Colonia B: 12.69 | dia 16\n",
            "Colonia A: 6.61 | Colonia B: 12.88 | dia 17\n",
            "Colonia A: 6.81 | Colonia B: 13.07 | dia 18\n",
            "Colonia A: 7.01 | Colonia B: 13.27 | dia 19\n",
            "Colonia A: 7.22 | Colonia B: 13.47 | dia 20\n",
            "Colonia A: 7.44 | Colonia B: 13.67 | dia 21\n",
            "Colonia A: 7.66 | Colonia B: 13.88 | dia 22\n",
            "Colonia A: 7.89 | Colonia B: 14.08 | dia 23\n",
            "Colonia A: 8.13 | Colonia B: 14.30 | dia 24\n",
            "Colonia A: 8.38 | Colonia B: 14.51 | dia 25\n",
            "Colonia A: 8.63 | Colonia B: 14.73 | dia 26\n",
            "Colonia A: 8.89 | Colonia B: 14.95 | dia 27\n",
            "Colonia A: 9.15 | Colonia B: 15.17 | dia 28\n",
            "Colonia A: 9.43 | Colonia B: 15.40 | dia 29\n",
            "Colonia A: 9.71 | Colonia B: 15.63 | dia 30\n",
            "Colonia A: 10.00 | Colonia B: 15.87 | dia 31\n",
            "Colonia A: 10.30 | Colonia B: 16.10 | dia 32\n",
            "Colonia A: 10.61 | Colonia B: 16.34 | dia 33\n",
            "Colonia A: 10.93 | Colonia B: 16.59 | dia 34\n",
            "Colonia A: 11.26 | Colonia B: 16.84 | dia 35\n",
            "Colonia A: 11.59 | Colonia B: 17.09 | dia 36\n",
            "Colonia A: 11.94 | Colonia B: 17.35 | dia 37\n",
            "Colonia A: 12.30 | Colonia B: 17.61 | dia 38\n",
            "Colonia A: 12.67 | Colonia B: 17.87 | dia 39\n",
            "Colonia A: 13.05 | Colonia B: 18.14 | dia 40\n",
            "Colonia A: 13.44 | Colonia B: 18.41 | dia 41\n",
            "Colonia A: 13.84 | Colonia B: 18.69 | dia 42\n",
            "Colonia A: 14.26 | Colonia B: 18.97 | dia 43\n",
            "Colonia A: 14.69 | Colonia B: 19.25 | dia 44\n",
            "Colonia A: 15.13 | Colonia B: 19.54 | dia 45\n",
            "Colonia A: 15.58 | Colonia B: 19.84 | dia 46\n",
            "Colonia A: 16.05 | Colonia B: 20.13 | dia 47\n",
            "Colonia A: 16.53 | Colonia B: 20.43 | dia 48\n",
            "Colonia A: 17.02 | Colonia B: 20.74 | dia 49\n",
            "Colonia A: 17.54 | Colonia B: 21.05 | dia 50\n",
            "Colonia A: 18.06 | Colonia B: 21.37 | dia 51\n",
            "Colonia A: 18.60 | Colonia B: 21.69 | dia 52\n",
            "Colonia A: 19.16 | Colonia B: 22.01 | dia 53\n",
            "Colonia A: 19.74 | Colonia B: 22.34 | dia 54\n",
            "Colonia A: 20.33 | Colonia B: 22.68 | dia 55\n",
            "Colonia A: 20.94 | Colonia B: 23.02 | dia 56\n",
            "Colonia A: 21.57 | Colonia B: 23.36 | dia 57\n",
            "Colonia A: 22.21 | Colonia B: 23.72 | dia 58\n",
            "Colonia A: 22.88 | Colonia B: 24.07 | dia 59\n",
            "Colonia A: 23.57 | Colonia B: 24.43 | dia 60\n",
            "Colonia A: 24.27 | Colonia B: 24.80 | dia 61\n",
            "Colonia A: 25.00 | Colonia B: 25.17 | dia 62\n",
            "Colonia A: 25.75 | Colonia B: 25.55 | dia 63\n",
            "\n",
            "\t 63 dias tomará que la colonia de bacterias A supere o iguale a la colonia de una bacteria B\n"
          ]
        }
      ]
    },
    {
      "cell_type": "code",
      "source": [
        "## Solución Instructor\n",
        "\n",
        "# Número inicial de bacterias\n",
        "colonia_a = 4\n",
        "colonia_b = 10\n",
        "\n",
        "# Tasas de crecimiento de las colonias\n",
        "tasa_a = 0.03\n",
        "tasa_b = 0.015\n",
        "\n",
        "# Contador de días\n",
        "días = 0\n",
        "\n",
        "# La condición que termina el bucle es cuando\n",
        "# la colonia A supera a la colonia B\n",
        "while colonia_a <= colonia_b:\n",
        "  # Usamos un operador de asignación con multiplicación\n",
        "  colonia_a *= 1 + tasa_a\n",
        "  # Usamos un operador de asignación con multiplicación\n",
        "\n",
        "  colonia_b *= 1 + tasa_b\n",
        "\n",
        "\n",
        "  #print(f'Colonia A: {colonia_a} | Colonia B: {colonia_b} dia {dia}')\n",
        "  # Contamos los días en cada iteración\n",
        "  días += 1\n",
        "\n",
        "# Resultado final\n",
        "print(f'Necesitará {días} días para que la colonia A supere a la colonia B.')"
      ],
      "metadata": {
        "colab": {
          "base_uri": "https://localhost:8080/"
        },
        "id": "xM5raxahol6j",
        "outputId": "25d1e908-8eb1-4efb-ecf7-440ed78869b9"
      },
      "execution_count": 22,
      "outputs": [
        {
          "output_type": "stream",
          "name": "stdout",
          "text": [
            "Necesitará 63 días para que la colonia A supere a la colonia B.\n"
          ]
        }
      ]
    },
    {
      "cell_type": "markdown",
      "source": [
        "**3 -** Para procesar una cantidad de 15 datos de evaluaciones de usuarios de un servicio de la empresa, necesitamos verificar si las calificaciones son válidas. Por lo tanto, escribe un programa que recibirá calificaciones del 0 al 5 y verificará si son valores válidos. Si se ingresa una calificación superior a 5 o inferior a 0, se repetirá hasta que el usuario ingrese un valor válido.\n",
        "\n"
      ],
      "metadata": {
        "id": "t4PBI0iEKwUX"
      }
    },
    {
      "cell_type": "code",
      "source": [
        "for n in range(1,16):\n",
        "  calificacion = float(input(f'\\n\\tIngresar evaluación usuario {n}: '))\n",
        "\n",
        "  while calificacion < 0 or calificacion > 5 :\n",
        "    print(f'\\n**Evaluación no registrada con exito!, ingrese un valor valido')\n",
        "    calificacion = float(input(f'**Nota no válida, ingresa nuevamente la nota del usuario {n}: '))\n",
        "\n",
        "  print(f'\\tEvaluación {n} registrada con exito en el sistema!')\n",
        "\n",
        "print(f'\\n\\tRegistro exitoso de 15 evaluaciónes. Todas las notas son válidas.')"
      ],
      "metadata": {
        "colab": {
          "base_uri": "https://localhost:8080/"
        },
        "id": "LRw6qeFuKmNa",
        "outputId": "1862944c-ba47-4f39-e2fe-df50d49f37e7"
      },
      "execution_count": 45,
      "outputs": [
        {
          "output_type": "stream",
          "name": "stdout",
          "text": [
            "\n",
            "\tIngresar evaluación usuario 1: 5\n",
            "\tEvaluación 1 registrada con exito en el sistema!\n",
            "\n",
            "\tIngresar evaluación usuario 2: 8\n",
            "\n",
            "**Evaluación no registrada con exito!, ingrese un valor valido\n",
            "**Nota no válida, ingresa nuevamente la nota del usuario 2: 2\n",
            "\tEvaluación 2 registrada con exito en el sistema!\n",
            "\n",
            "\tIngresar evaluación usuario 3: 3.5\n",
            "\tEvaluación 3 registrada con exito en el sistema!\n",
            "\n",
            "\tIngresar evaluación usuario 4: 4.9\n",
            "\tEvaluación 4 registrada con exito en el sistema!\n",
            "\n",
            "\tIngresar evaluación usuario 5: 1.9\n",
            "\tEvaluación 5 registrada con exito en el sistema!\n",
            "\n",
            "\tIngresar evaluación usuario 6: 0\n",
            "\tEvaluación 6 registrada con exito en el sistema!\n",
            "\n",
            "\tIngresar evaluación usuario 7: -5\n",
            "\n",
            "**Evaluación no registrada con exito!, ingrese un valor valido\n",
            "**Nota no válida, ingresa nuevamente la nota del usuario 7: 3\n",
            "\tEvaluación 7 registrada con exito en el sistema!\n",
            "\n",
            "\tIngresar evaluación usuario 8: 3.3\n",
            "\tEvaluación 8 registrada con exito en el sistema!\n",
            "\n",
            "\tIngresar evaluación usuario 9: 4.2\n",
            "\tEvaluación 9 registrada con exito en el sistema!\n",
            "\n",
            "\tIngresar evaluación usuario 10: 4.9\n",
            "\tEvaluación 10 registrada con exito en el sistema!\n",
            "\n",
            "\tIngresar evaluación usuario 11: 3\n",
            "\tEvaluación 11 registrada con exito en el sistema!\n",
            "\n",
            "\tIngresar evaluación usuario 12: 12\n",
            "\n",
            "**Evaluación no registrada con exito!, ingrese un valor valido\n",
            "**Nota no válida, ingresa nuevamente la nota del usuario 12: 5\n",
            "\tEvaluación 12 registrada con exito en el sistema!\n",
            "\n",
            "\tIngresar evaluación usuario 13: 5.0\n",
            "\tEvaluación 13 registrada con exito en el sistema!\n",
            "\n",
            "\tIngresar evaluación usuario 14: 8\n",
            "\n",
            "**Evaluación no registrada con exito!, ingrese un valor valido\n",
            "**Nota no válida, ingresa nuevamente la nota del usuario 14: 2.2\n",
            "\tEvaluación 14 registrada con exito en el sistema!\n",
            "\n",
            "\tIngresar evaluación usuario 15: 4.9\n",
            "\tEvaluación 15 registrada con exito en el sistema!\n",
            "\n",
            "\tRegistro exitoso de 15 evaluaciónes. Todas las notas son válidas.\n"
          ]
        }
      ]
    },
    {
      "cell_type": "markdown",
      "source": [
        "**4 -** Desarrolla un programa que lea un conjunto indefinido de temperaturas en grados Celsius y calcule su promedio. La lectura debe detenerse al ingresar el valor -273°C.\n"
      ],
      "metadata": {
        "id": "1lGxMQ1BMVFm"
      }
    },
    {
      "cell_type": "code",
      "source": [
        "temperatura  = 0\n",
        "suma_grados = 0\n",
        "contador = 0\n",
        "\n",
        "while temperatura != -273:\n",
        "  temperatura = float(input(f'\\tIngresar la temperatura en grados Celsius: '))\n",
        "  suma_grados = suma_grados + temperatura\n",
        "  contador +=1\n",
        "\n",
        "promedio = suma_grados / (contador)\n",
        "print(f'\\n\\tEl promedio de las temperaturas en grados Celsius ingresadas es: {promedio}')\n"
      ],
      "metadata": {
        "colab": {
          "base_uri": "https://localhost:8080/"
        },
        "id": "q6bguP9cKpIy",
        "outputId": "c26d1dab-85a1-40ea-9d46-7ee09f1ee0a9"
      },
      "execution_count": 49,
      "outputs": [
        {
          "output_type": "stream",
          "name": "stdout",
          "text": [
            "\tIngresar la temperatura en grados Celsius: 60\n",
            "\tIngresar la temperatura en grados Celsius: 180\n",
            "\tIngresar la temperatura en grados Celsius: -20\n",
            "\tIngresar la temperatura en grados Celsius: -273\n",
            "\n",
            "\tEl promedio de las temperaturas en grados Celsius ingresadas es: -13.25\n"
          ]
        }
      ]
    },
    {
      "cell_type": "markdown",
      "source": [
        "\n",
        "**5 -** Escribe un programa que calcule el factorial de un número entero proporcionado por el usuario. Recuerda que el factorial de un número entero es el producto de ese número por todos sus antecesores hasta llegar al número 1. Por ejemplo, el factorial de 5 es 5 x 4 x 3 x 2 x 1 = 120."
      ],
      "metadata": {
        "id": "I1ZyFtDvMasF"
      }
    },
    {
      "cell_type": "code",
      "source": [
        "numero_entero = int(input('\\tIngresar número entero, para calcular su factorial: '))\n",
        "factorial = 1\n",
        "\n",
        "for i in range(1, numero_entero + 1):\n",
        "    factorial *= i\n",
        "\n",
        "print(f'\\tEl factorial de {numero_entero} ({numero_entero}!) es: {factorial}')"
      ],
      "metadata": {
        "colab": {
          "base_uri": "https://localhost:8080/"
        },
        "id": "ip8EsPZQKsNy",
        "outputId": "47f6ef8e-4777-44b6-cb81-8d4d496b3093"
      },
      "execution_count": 56,
      "outputs": [
        {
          "output_type": "stream",
          "name": "stdout",
          "text": [
            "\tIngresar número entero, para calcular su factorial: 7\n",
            "\tEl factorial de 7 (7!) es: 5040\n"
          ]
        }
      ]
    },
    {
      "cell_type": "markdown",
      "source": [
        "\n",
        "---\n",
        "\n",
        "#**Momento de los proyectos**"
      ],
      "metadata": {
        "id": "S8k_EpjzMi9t"
      }
    },
    {
      "cell_type": "markdown",
      "source": [
        "**6 -** Escribe un programa que genere la tabla de multiplicar de un número entero del 1 al 10, según la elección del usuario. Como ejemplo, para el número 2, la tabla de multiplicar debe mostrarse en el siguiente formato:\n",
        "\n",
        "Tabla de multiplicar del 2:\n",
        "2 x 1 = 2\n",
        "2 x 2 = 4\n",
        "[...]\n",
        "2 x 10 = 20\n",
        "Copia el código"
      ],
      "metadata": {
        "id": "0M1MYeV5MmP1"
      }
    },
    {
      "cell_type": "code",
      "source": [],
      "metadata": {
        "id": "PMh0vxLLJ8yn"
      },
      "execution_count": null,
      "outputs": []
    },
    {
      "cell_type": "markdown",
      "source": [
        "**7 -** Los números primos tienen diversas aplicaciones en Ciencia de Datos, como en criptografía y seguridad. Un número primo es aquel que es divisible solo por sí mismo y por 1. Por lo tanto, crea un programa que solicite un número entero y determine si es un número primo o no.\n",
        "\n"
      ],
      "metadata": {
        "id": "4aTD4gQ3Mp69"
      }
    },
    {
      "cell_type": "code",
      "source": [],
      "metadata": {
        "id": "433hHZYWKHZU"
      },
      "execution_count": null,
      "outputs": []
    },
    {
      "cell_type": "markdown",
      "source": [
        "**8 -** Vamos a comprender la distribución de edades de los pensionistas de una empresa de seguros. Escribe un programa que lea las edades de una cantidad no informada de clientes y muestre la distribución en los intervalos [0-25], [26-50], [51-75] y [76-100]. La entrada de datos se detendrá al ingresar un número negativo.\n",
        "\n"
      ],
      "metadata": {
        "id": "ljh3K5v0MuWl"
      }
    },
    {
      "cell_type": "code",
      "source": [],
      "metadata": {
        "id": "wqpxo6cEKKOy"
      },
      "execution_count": null,
      "outputs": []
    },
    {
      "cell_type": "markdown",
      "source": [
        "**9 -** En una elección para la gerencia de una empresa con 20 empleados, hay cuatro candidatos. Escribe un programa que calcule al ganador de la elección. La votación se realizó de la siguiente manera:\n",
        "\n",
        "Cada empleado votó por uno de los cuatro candidatos (representados por los números 1, 2, 3 y 4).\n",
        "\n",
        "También se contaron los votos nulos (representados por el número 5) y los votos en blanco (representados por el número 6).\n",
        "\n",
        "Al final de la votación, el programa debe mostrar el número total de votos para cada candidato, los votos nulos y los votos en blanco. Además, debe calcular y mostrar el porcentaje de votos nulos con respecto al total de votos y el porcentaje de votos en blanco con respecto al total de votos."
      ],
      "metadata": {
        "id": "RY31-ws_Mxpt"
      }
    },
    {
      "cell_type": "code",
      "source": [],
      "metadata": {
        "id": "Y1UKZOE8KN4K"
      },
      "execution_count": null,
      "outputs": []
    }
  ]
}